{
 "cells": [
  {
   "cell_type": "code",
   "execution_count": 58,
   "id": "e76b1e01-25a1-47aa-92f8-96a30f5e4702",
   "metadata": {
    "tags": []
   },
   "outputs": [],
   "source": [
    "import pandas as pd \n",
    "import numpy as np\n",
    "import requests\n",
    "from bs4 import BeautifulSoup\n",
    "import csv\n",
    "import matplotlib.pyplot as plt\n",
    "import chardet\n",
    "%matplotlib inline\n",
    "import platform\n",
    "\n",
    "if platform.system() == 'Windows':\n",
    "    plt.rc('font', family='Malgun Gothic')\n",
    "elif platform.system() == 'Darwin': # Mac\n",
    "    plt.rc('font', family='AppleGothic')\n",
    "else: #linux\n",
    "    plt.rc('font', family='NanumGothic')\n",
    "\n",
    "# 그래프에 마이너스 표시가 되도록 변경\n",
    "plt.rcParams['axes.unicode_minus'] = False\n"
   ]
  },
  {
   "cell_type": "code",
   "execution_count": 59,
   "id": "1b57c412-a643-49ef-a73b-18940d838ae7",
   "metadata": {
    "tags": []
   },
   "outputs": [],
   "source": [
    "df = pd.read_csv('police_2.csv', encoding='cp949', index_col=[\"죄종별\"])\n",
    "test_cpi=pd.read_excel(r'C:\\Users\\yes_truly\\Desktop\\소비자물가지수.xlsx')"
   ]
  },
  {
   "cell_type": "code",
   "execution_count": 60,
   "id": "bf9073cc-d4b5-41f5-804b-f647fe3d49eb",
   "metadata": {
    "tags": []
   },
   "outputs": [
    {
     "data": {
      "text/html": [
       "<div>\n",
       "<style scoped>\n",
       "    .dataframe tbody tr th:only-of-type {\n",
       "        vertical-align: middle;\n",
       "    }\n",
       "\n",
       "    .dataframe tbody tr th {\n",
       "        vertical-align: top;\n",
       "    }\n",
       "\n",
       "    .dataframe thead th {\n",
       "        text-align: right;\n",
       "    }\n",
       "</style>\n",
       "<table border=\"1\" class=\"dataframe\">\n",
       "  <thead>\n",
       "    <tr style=\"text-align: right;\">\n",
       "      <th></th>\n",
       "      <th>항목</th>\n",
       "      <th>2018</th>\n",
       "      <th>2019</th>\n",
       "      <th>2020</th>\n",
       "      <th>2021</th>\n",
       "      <th>2022</th>\n",
       "    </tr>\n",
       "    <tr>\n",
       "      <th>죄종별</th>\n",
       "      <th></th>\n",
       "      <th></th>\n",
       "      <th></th>\n",
       "      <th></th>\n",
       "      <th></th>\n",
       "      <th></th>\n",
       "    </tr>\n",
       "  </thead>\n",
       "  <tbody>\n",
       "    <tr>\n",
       "      <th>사기</th>\n",
       "      <td>발생건수[건]</td>\n",
       "      <td>270029</td>\n",
       "      <td>304472</td>\n",
       "      <td>347675</td>\n",
       "      <td>294075</td>\n",
       "      <td>325848</td>\n",
       "    </tr>\n",
       "    <tr>\n",
       "      <th>전자금융거래법위반</th>\n",
       "      <td>발생건수[건]</td>\n",
       "      <td>7877</td>\n",
       "      <td>8132</td>\n",
       "      <td>6402</td>\n",
       "      <td>7024</td>\n",
       "      <td>9731</td>\n",
       "    </tr>\n",
       "    <tr>\n",
       "      <th>횡령</th>\n",
       "      <td>발생건수[건]</td>\n",
       "      <td>55113</td>\n",
       "      <td>58508</td>\n",
       "      <td>58889</td>\n",
       "      <td>50421</td>\n",
       "      <td>60220</td>\n",
       "    </tr>\n",
       "    <tr>\n",
       "      <th>도박범죄</th>\n",
       "      <td>발생건수[건]</td>\n",
       "      <td>6004</td>\n",
       "      <td>8008</td>\n",
       "      <td>8135</td>\n",
       "      <td>6391</td>\n",
       "      <td>4463</td>\n",
       "    </tr>\n",
       "  </tbody>\n",
       "</table>\n",
       "</div>"
      ],
      "text/plain": [
       "                항목    2018    2019    2020    2021    2022\n",
       "죄종별                                                       \n",
       "사기         발생건수[건]  270029  304472  347675  294075  325848\n",
       "전자금융거래법위반  발생건수[건]    7877    8132    6402    7024    9731\n",
       "횡령         발생건수[건]   55113   58508   58889   50421   60220\n",
       "도박범죄       발생건수[건]    6004    8008    8135    6391    4463"
      ]
     },
     "execution_count": 60,
     "metadata": {},
     "output_type": "execute_result"
    }
   ],
   "source": [
    "df"
   ]
  },
  {
   "cell_type": "code",
   "execution_count": 61,
   "id": "67df289d-c6be-40bc-ad3c-333b9c94413c",
   "metadata": {
    "tags": []
   },
   "outputs": [
    {
     "data": {
      "text/html": [
       "<div>\n",
       "<style scoped>\n",
       "    .dataframe tbody tr th:only-of-type {\n",
       "        vertical-align: middle;\n",
       "    }\n",
       "\n",
       "    .dataframe tbody tr th {\n",
       "        vertical-align: top;\n",
       "    }\n",
       "\n",
       "    .dataframe thead th {\n",
       "        text-align: right;\n",
       "    }\n",
       "</style>\n",
       "<table border=\"1\" class=\"dataframe\">\n",
       "  <thead>\n",
       "    <tr style=\"text-align: right;\">\n",
       "      <th></th>\n",
       "      <th>2018</th>\n",
       "      <th>2019</th>\n",
       "      <th>2020</th>\n",
       "      <th>2021</th>\n",
       "      <th>2022</th>\n",
       "    </tr>\n",
       "    <tr>\n",
       "      <th>죄종별</th>\n",
       "      <th></th>\n",
       "      <th></th>\n",
       "      <th></th>\n",
       "      <th></th>\n",
       "      <th></th>\n",
       "    </tr>\n",
       "  </thead>\n",
       "  <tbody>\n",
       "    <tr>\n",
       "      <th>사기</th>\n",
       "      <td>270029</td>\n",
       "      <td>304472</td>\n",
       "      <td>347675</td>\n",
       "      <td>294075</td>\n",
       "      <td>325848</td>\n",
       "    </tr>\n",
       "    <tr>\n",
       "      <th>전자금융거래법위반</th>\n",
       "      <td>7877</td>\n",
       "      <td>8132</td>\n",
       "      <td>6402</td>\n",
       "      <td>7024</td>\n",
       "      <td>9731</td>\n",
       "    </tr>\n",
       "    <tr>\n",
       "      <th>횡령</th>\n",
       "      <td>55113</td>\n",
       "      <td>58508</td>\n",
       "      <td>58889</td>\n",
       "      <td>50421</td>\n",
       "      <td>60220</td>\n",
       "    </tr>\n",
       "    <tr>\n",
       "      <th>도박범죄</th>\n",
       "      <td>6004</td>\n",
       "      <td>8008</td>\n",
       "      <td>8135</td>\n",
       "      <td>6391</td>\n",
       "      <td>4463</td>\n",
       "    </tr>\n",
       "  </tbody>\n",
       "</table>\n",
       "</div>"
      ],
      "text/plain": [
       "             2018    2019    2020    2021    2022\n",
       "죄종별                                              \n",
       "사기         270029  304472  347675  294075  325848\n",
       "전자금융거래법위반    7877    8132    6402    7024    9731\n",
       "횡령          55113   58508   58889   50421   60220\n",
       "도박범죄         6004    8008    8135    6391    4463"
      ]
     },
     "execution_count": 61,
     "metadata": {},
     "output_type": "execute_result"
    }
   ],
   "source": [
    "#죄종별에서 도박범죄만 남기고 나머지 삭제\n",
    "#항목 열 삭제\n",
    "\n",
    "df_crime = df.drop(columns=\"항목\")\n",
    "df_crime"
   ]
  },
  {
   "cell_type": "code",
   "execution_count": 64,
   "id": "ee4df028-881d-47a4-97d2-88b55e9329dd",
   "metadata": {
    "tags": []
   },
   "outputs": [
    {
     "data": {
      "text/html": [
       "<div>\n",
       "<style scoped>\n",
       "    .dataframe tbody tr th:only-of-type {\n",
       "        vertical-align: middle;\n",
       "    }\n",
       "\n",
       "    .dataframe tbody tr th {\n",
       "        vertical-align: top;\n",
       "    }\n",
       "\n",
       "    .dataframe thead th {\n",
       "        text-align: right;\n",
       "    }\n",
       "</style>\n",
       "<table border=\"1\" class=\"dataframe\">\n",
       "  <thead>\n",
       "    <tr style=\"text-align: right;\">\n",
       "      <th></th>\n",
       "      <th>2018</th>\n",
       "      <th>2019</th>\n",
       "      <th>2020</th>\n",
       "      <th>2021</th>\n",
       "      <th>2022</th>\n",
       "    </tr>\n",
       "    <tr>\n",
       "      <th></th>\n",
       "      <th></th>\n",
       "      <th></th>\n",
       "      <th></th>\n",
       "      <th></th>\n",
       "      <th></th>\n",
       "    </tr>\n",
       "  </thead>\n",
       "  <tbody>\n",
       "    <tr>\n",
       "      <th>사기</th>\n",
       "      <td>270029</td>\n",
       "      <td>304472</td>\n",
       "      <td>347675</td>\n",
       "      <td>294075</td>\n",
       "      <td>325848</td>\n",
       "    </tr>\n",
       "    <tr>\n",
       "      <th>전자금융거래법위반</th>\n",
       "      <td>7877</td>\n",
       "      <td>8132</td>\n",
       "      <td>6402</td>\n",
       "      <td>7024</td>\n",
       "      <td>9731</td>\n",
       "    </tr>\n",
       "    <tr>\n",
       "      <th>횡령</th>\n",
       "      <td>55113</td>\n",
       "      <td>58508</td>\n",
       "      <td>58889</td>\n",
       "      <td>50421</td>\n",
       "      <td>60220</td>\n",
       "    </tr>\n",
       "    <tr>\n",
       "      <th>도박범죄</th>\n",
       "      <td>6004</td>\n",
       "      <td>8008</td>\n",
       "      <td>8135</td>\n",
       "      <td>6391</td>\n",
       "      <td>4463</td>\n",
       "    </tr>\n",
       "  </tbody>\n",
       "</table>\n",
       "</div>"
      ],
      "text/plain": [
       "             2018    2019    2020    2021    2022\n",
       "                                                 \n",
       "사기         270029  304472  347675  294075  325848\n",
       "전자금융거래법위반    7877    8132    6402    7024    9731\n",
       "횡령          55113   58508   58889   50421   60220\n",
       "도박범죄         6004    8008    8135    6391    4463"
      ]
     },
     "execution_count": 64,
     "metadata": {},
     "output_type": "execute_result"
    }
   ],
   "source": [
    "#죄종별 삭제\n",
    "df_crime = df_crime.rename_axis(index={\"죄종별\":\"\"})\n",
    "df_crime"
   ]
  },
  {
   "cell_type": "code",
   "execution_count": 65,
   "id": "263d0a33-6f34-408d-9bc7-525c63e412da",
   "metadata": {
    "tags": []
   },
   "outputs": [
    {
     "data": {
      "text/html": [
       "<div>\n",
       "<style scoped>\n",
       "    .dataframe tbody tr th:only-of-type {\n",
       "        vertical-align: middle;\n",
       "    }\n",
       "\n",
       "    .dataframe tbody tr th {\n",
       "        vertical-align: top;\n",
       "    }\n",
       "\n",
       "    .dataframe thead th {\n",
       "        text-align: right;\n",
       "    }\n",
       "</style>\n",
       "<table border=\"1\" class=\"dataframe\">\n",
       "  <thead>\n",
       "    <tr style=\"text-align: right;\">\n",
       "      <th></th>\n",
       "      <th>사기</th>\n",
       "      <th>전자금융거래법위반</th>\n",
       "      <th>횡령</th>\n",
       "      <th>도박범죄</th>\n",
       "    </tr>\n",
       "    <tr>\n",
       "      <th>연도</th>\n",
       "      <th></th>\n",
       "      <th></th>\n",
       "      <th></th>\n",
       "      <th></th>\n",
       "    </tr>\n",
       "  </thead>\n",
       "  <tbody>\n",
       "    <tr>\n",
       "      <th>2018</th>\n",
       "      <td>270029</td>\n",
       "      <td>7877</td>\n",
       "      <td>55113</td>\n",
       "      <td>6004</td>\n",
       "    </tr>\n",
       "    <tr>\n",
       "      <th>2019</th>\n",
       "      <td>304472</td>\n",
       "      <td>8132</td>\n",
       "      <td>58508</td>\n",
       "      <td>8008</td>\n",
       "    </tr>\n",
       "    <tr>\n",
       "      <th>2020</th>\n",
       "      <td>347675</td>\n",
       "      <td>6402</td>\n",
       "      <td>58889</td>\n",
       "      <td>8135</td>\n",
       "    </tr>\n",
       "    <tr>\n",
       "      <th>2021</th>\n",
       "      <td>294075</td>\n",
       "      <td>7024</td>\n",
       "      <td>50421</td>\n",
       "      <td>6391</td>\n",
       "    </tr>\n",
       "    <tr>\n",
       "      <th>2022</th>\n",
       "      <td>325848</td>\n",
       "      <td>9731</td>\n",
       "      <td>60220</td>\n",
       "      <td>4463</td>\n",
       "    </tr>\n",
       "  </tbody>\n",
       "</table>\n",
       "</div>"
      ],
      "text/plain": [
       "          사기  전자금융거래법위반     횡령  도박범죄\n",
       "연도                                  \n",
       "2018  270029       7877  55113  6004\n",
       "2019  304472       8132  58508  8008\n",
       "2020  347675       6402  58889  8135\n",
       "2021  294075       7024  50421  6391\n",
       "2022  325848       9731  60220  4463"
      ]
     },
     "execution_count": 65,
     "metadata": {},
     "output_type": "execute_result"
    }
   ],
   "source": [
    "df_crime.columns.name='연도'\n",
    "df_crime=df_crime.transpose()\n",
    "df_crime"
   ]
  },
  {
   "cell_type": "code",
   "execution_count": 66,
   "id": "7300e2cc-e6f2-48e5-be6f-118e80864b53",
   "metadata": {
    "tags": []
   },
   "outputs": [
    {
     "name": "stdout",
     "output_type": "stream",
     "text": [
      "<class 'pandas.core.frame.DataFrame'>\n",
      "Index: 5 entries, 2018 to 2022\n",
      "Data columns (total 4 columns):\n",
      " #   Column     Non-Null Count  Dtype\n",
      "---  ------     --------------  -----\n",
      " 0   사기         5 non-null      int64\n",
      " 1   전자금융거래법위반  5 non-null      int64\n",
      " 2   횡령         5 non-null      int64\n",
      " 3   도박범죄       5 non-null      int64\n",
      "dtypes: int64(4)\n",
      "memory usage: 372.0+ bytes\n"
     ]
    }
   ],
   "source": [
    "df_crime.info()"
   ]
  },
  {
   "cell_type": "code",
   "execution_count": 85,
   "id": "adb6f93b-7130-4034-83be-85f538d5fdeb",
   "metadata": {
    "tags": []
   },
   "outputs": [],
   "source": [
    "#df_crime['도박범죄'] = df_crime['도박범죄'].astype('float64')\n",
    "#df_crime.info()\n",
    "#Dtype을 통일시켜주지 않아도 정상적으로 결과 출력됨"
   ]
  },
  {
   "cell_type": "code",
   "execution_count": 67,
   "id": "fbdbe847-5e8b-4ac8-a5b1-94653ff34c70",
   "metadata": {
    "tags": []
   },
   "outputs": [
    {
     "name": "stdout",
     "output_type": "stream",
     "text": [
      "<class 'pandas.core.frame.DataFrame'>\n",
      "RangeIndex: 17 entries, 0 to 16\n",
      "Data columns (total 12 columns):\n",
      " #   Column  Non-Null Count  Dtype  \n",
      "---  ------  --------------  -----  \n",
      " 0   연도      15 non-null     object \n",
      " 1   2012    15 non-null     object \n",
      " 2   2013    14 non-null     float64\n",
      " 3   2014    14 non-null     float64\n",
      " 4   2015    14 non-null     float64\n",
      " 5   2016    14 non-null     float64\n",
      " 6   2017    14 non-null     float64\n",
      " 7   2018    14 non-null     float64\n",
      " 8   2019    14 non-null     float64\n",
      " 9   2020    14 non-null     float64\n",
      " 10  2021    14 non-null     float64\n",
      " 11  2022    14 non-null     float64\n",
      "dtypes: float64(10), object(2)\n",
      "memory usage: 1.7+ KB\n"
     ]
    }
   ],
   "source": [
    "test_cpi.info()"
   ]
  },
  {
   "cell_type": "code",
   "execution_count": 68,
   "id": "9017380c-b6ce-4937-a944-e2888ae85558",
   "metadata": {
    "tags": []
   },
   "outputs": [
    {
     "data": {
      "text/html": [
       "<div>\n",
       "<style scoped>\n",
       "    .dataframe tbody tr th:only-of-type {\n",
       "        vertical-align: middle;\n",
       "    }\n",
       "\n",
       "    .dataframe tbody tr th {\n",
       "        vertical-align: top;\n",
       "    }\n",
       "\n",
       "    .dataframe thead th {\n",
       "        text-align: right;\n",
       "    }\n",
       "</style>\n",
       "<table border=\"1\" class=\"dataframe\">\n",
       "  <thead>\n",
       "    <tr style=\"text-align: right;\">\n",
       "      <th></th>\n",
       "      <th>2018</th>\n",
       "      <th>2019</th>\n",
       "      <th>2020</th>\n",
       "      <th>2021</th>\n",
       "      <th>2022</th>\n",
       "    </tr>\n",
       "  </thead>\n",
       "  <tbody>\n",
       "    <tr>\n",
       "      <th>0</th>\n",
       "      <td>99.1</td>\n",
       "      <td>99.5</td>\n",
       "      <td>100.0</td>\n",
       "      <td>102.5</td>\n",
       "      <td>107.7</td>\n",
       "    </tr>\n",
       "    <tr>\n",
       "      <th>1</th>\n",
       "      <td>1.5</td>\n",
       "      <td>0.4</td>\n",
       "      <td>0.5</td>\n",
       "      <td>2.5</td>\n",
       "      <td>5.1</td>\n",
       "    </tr>\n",
       "  </tbody>\n",
       "</table>\n",
       "</div>"
      ],
      "text/plain": [
       "   2018  2019   2020   2021   2022\n",
       "0  99.1  99.5  100.0  102.5  107.7\n",
       "1   1.5   0.4    0.5    2.5    5.1"
      ]
     },
     "execution_count": 68,
     "metadata": {},
     "output_type": "execute_result"
    }
   ],
   "source": [
    "cpi = test_cpi.iloc[0:2, [7, 8, 9, 10, 11]]\n",
    "cpi"
   ]
  },
  {
   "cell_type": "code",
   "execution_count": 69,
   "id": "7f9a4c6a-aaf6-4379-addf-235b0723eac3",
   "metadata": {
    "tags": []
   },
   "outputs": [
    {
     "name": "stdout",
     "output_type": "stream",
     "text": [
      "2018     99.1\n",
      "2019     99.5\n",
      "2020    100.0\n",
      "2021    102.5\n",
      "2022    107.7\n",
      "Name: 0, dtype: float64\n",
      "2018    1.5\n",
      "2019    0.4\n",
      "2020    0.5\n",
      "2021    2.5\n",
      "2022    5.1\n",
      "Name: 1, dtype: float64\n"
     ]
    }
   ],
   "source": [
    "cpi_columns=cpi.columns\n",
    "first_row=cpi.iloc[0]\n",
    "print(first_row)\n",
    "second_row=cpi.iloc[1]\n",
    "print(second_row)"
   ]
  },
  {
   "cell_type": "code",
   "execution_count": 70,
   "id": "0fcba42b-7e62-4f7f-9768-bbb4f7b1155f",
   "metadata": {
    "tags": []
   },
   "outputs": [
    {
     "data": {
      "text/html": [
       "<div>\n",
       "<style scoped>\n",
       "    .dataframe tbody tr th:only-of-type {\n",
       "        vertical-align: middle;\n",
       "    }\n",
       "\n",
       "    .dataframe tbody tr th {\n",
       "        vertical-align: top;\n",
       "    }\n",
       "\n",
       "    .dataframe thead th {\n",
       "        text-align: right;\n",
       "    }\n",
       "</style>\n",
       "<table border=\"1\" class=\"dataframe\">\n",
       "  <thead>\n",
       "    <tr style=\"text-align: right;\">\n",
       "      <th></th>\n",
       "      <th>2018</th>\n",
       "      <th>2019</th>\n",
       "      <th>2020</th>\n",
       "      <th>2021</th>\n",
       "      <th>2022</th>\n",
       "    </tr>\n",
       "  </thead>\n",
       "  <tbody>\n",
       "    <tr>\n",
       "      <th>소비자물가 총지수(2020=100)</th>\n",
       "      <td>99.1</td>\n",
       "      <td>99.5</td>\n",
       "      <td>100.0</td>\n",
       "      <td>102.5</td>\n",
       "      <td>107.7</td>\n",
       "    </tr>\n",
       "    <tr>\n",
       "      <th>소비자물가상승률(%)</th>\n",
       "      <td>1.5</td>\n",
       "      <td>0.4</td>\n",
       "      <td>0.5</td>\n",
       "      <td>2.5</td>\n",
       "      <td>5.1</td>\n",
       "    </tr>\n",
       "  </tbody>\n",
       "</table>\n",
       "</div>"
      ],
      "text/plain": [
       "                     2018  2019   2020   2021   2022\n",
       "소비자물가 총지수(2020=100)  99.1  99.5  100.0  102.5  107.7\n",
       "소비자물가상승률(%)           1.5   0.4    0.5    2.5    5.1"
      ]
     },
     "execution_count": 70,
     "metadata": {},
     "output_type": "execute_result"
    }
   ],
   "source": [
    "df_cpi = pd.DataFrame([first_row.values, second_row.values],index=[\"소비자물가 총지수(2020=100)\",\"소비자물가상승률(%)\"],columns=cpi.columns)\n",
    "df_cpi"
   ]
  },
  {
   "cell_type": "code",
   "execution_count": 71,
   "id": "6460231c-b0bc-4051-b6da-01e4da7c1680",
   "metadata": {
    "tags": []
   },
   "outputs": [
    {
     "data": {
      "text/html": [
       "<div>\n",
       "<style scoped>\n",
       "    .dataframe tbody tr th:only-of-type {\n",
       "        vertical-align: middle;\n",
       "    }\n",
       "\n",
       "    .dataframe tbody tr th {\n",
       "        vertical-align: top;\n",
       "    }\n",
       "\n",
       "    .dataframe thead th {\n",
       "        text-align: right;\n",
       "    }\n",
       "</style>\n",
       "<table border=\"1\" class=\"dataframe\">\n",
       "  <thead>\n",
       "    <tr style=\"text-align: right;\">\n",
       "      <th></th>\n",
       "      <th>소비자물가 총지수(2020=100)</th>\n",
       "      <th>소비자물가상승률(%)</th>\n",
       "    </tr>\n",
       "    <tr>\n",
       "      <th>연도</th>\n",
       "      <th></th>\n",
       "      <th></th>\n",
       "    </tr>\n",
       "  </thead>\n",
       "  <tbody>\n",
       "    <tr>\n",
       "      <th>2018</th>\n",
       "      <td>99.1</td>\n",
       "      <td>1.5</td>\n",
       "    </tr>\n",
       "    <tr>\n",
       "      <th>2019</th>\n",
       "      <td>99.5</td>\n",
       "      <td>0.4</td>\n",
       "    </tr>\n",
       "    <tr>\n",
       "      <th>2020</th>\n",
       "      <td>100.0</td>\n",
       "      <td>0.5</td>\n",
       "    </tr>\n",
       "    <tr>\n",
       "      <th>2021</th>\n",
       "      <td>102.5</td>\n",
       "      <td>2.5</td>\n",
       "    </tr>\n",
       "    <tr>\n",
       "      <th>2022</th>\n",
       "      <td>107.7</td>\n",
       "      <td>5.1</td>\n",
       "    </tr>\n",
       "  </tbody>\n",
       "</table>\n",
       "</div>"
      ],
      "text/plain": [
       "      소비자물가 총지수(2020=100)  소비자물가상승률(%)\n",
       "연도                                    \n",
       "2018                 99.1          1.5\n",
       "2019                 99.5          0.4\n",
       "2020                100.0          0.5\n",
       "2021                102.5          2.5\n",
       "2022                107.7          5.1"
      ]
     },
     "execution_count": 71,
     "metadata": {},
     "output_type": "execute_result"
    }
   ],
   "source": [
    "df_cpi.columns.name='연도'\n",
    "df_cpi=df_cpi.transpose()\n",
    "df_cpi"
   ]
  },
  {
   "cell_type": "code",
   "execution_count": 72,
   "id": "22ff7e00-4895-4160-9613-11a7de5f7abd",
   "metadata": {
    "tags": []
   },
   "outputs": [
    {
     "name": "stdout",
     "output_type": "stream",
     "text": [
      "Index(['2018', '2019', '2020', '2021', '2022'], dtype='object', name='연도')\n",
      "Index([2018, 2019, 2020, 2021, 2022], dtype='object', name='연도')\n"
     ]
    }
   ],
   "source": [
    "print(df_crime.index)\n",
    "print(df_cpi.index)"
   ]
  },
  {
   "cell_type": "code",
   "execution_count": 73,
   "id": "a6ba1df9-b43f-4c90-82e4-c990aca246cc",
   "metadata": {
    "tags": []
   },
   "outputs": [],
   "source": [
    "# 연도별의 인덱스가 crime = 문자, cpi = 숫자 형태로 서로 다르므로 crime을 정수형으로 변환\n",
    "df_crime.index = df_crime.index.astype(int)"
   ]
  },
  {
   "cell_type": "code",
   "execution_count": 74,
   "id": "19a4515e-a641-4faa-8248-b8a2fe5e13c0",
   "metadata": {
    "tags": []
   },
   "outputs": [
    {
     "data": {
      "text/html": [
       "<div>\n",
       "<style scoped>\n",
       "    .dataframe tbody tr th:only-of-type {\n",
       "        vertical-align: middle;\n",
       "    }\n",
       "\n",
       "    .dataframe tbody tr th {\n",
       "        vertical-align: top;\n",
       "    }\n",
       "\n",
       "    .dataframe thead th {\n",
       "        text-align: right;\n",
       "    }\n",
       "</style>\n",
       "<table border=\"1\" class=\"dataframe\">\n",
       "  <thead>\n",
       "    <tr style=\"text-align: right;\">\n",
       "      <th></th>\n",
       "      <th>소비자물가 총지수(2020=100)</th>\n",
       "      <th>소비자물가상승률(%)</th>\n",
       "      <th>사기</th>\n",
       "      <th>전자금융거래법위반</th>\n",
       "      <th>횡령</th>\n",
       "      <th>도박범죄</th>\n",
       "    </tr>\n",
       "    <tr>\n",
       "      <th>연도</th>\n",
       "      <th></th>\n",
       "      <th></th>\n",
       "      <th></th>\n",
       "      <th></th>\n",
       "      <th></th>\n",
       "      <th></th>\n",
       "    </tr>\n",
       "  </thead>\n",
       "  <tbody>\n",
       "    <tr>\n",
       "      <th>2018</th>\n",
       "      <td>99.1</td>\n",
       "      <td>1.5</td>\n",
       "      <td>270029</td>\n",
       "      <td>7877</td>\n",
       "      <td>55113</td>\n",
       "      <td>6004</td>\n",
       "    </tr>\n",
       "    <tr>\n",
       "      <th>2019</th>\n",
       "      <td>99.5</td>\n",
       "      <td>0.4</td>\n",
       "      <td>304472</td>\n",
       "      <td>8132</td>\n",
       "      <td>58508</td>\n",
       "      <td>8008</td>\n",
       "    </tr>\n",
       "    <tr>\n",
       "      <th>2020</th>\n",
       "      <td>100.0</td>\n",
       "      <td>0.5</td>\n",
       "      <td>347675</td>\n",
       "      <td>6402</td>\n",
       "      <td>58889</td>\n",
       "      <td>8135</td>\n",
       "    </tr>\n",
       "    <tr>\n",
       "      <th>2021</th>\n",
       "      <td>102.5</td>\n",
       "      <td>2.5</td>\n",
       "      <td>294075</td>\n",
       "      <td>7024</td>\n",
       "      <td>50421</td>\n",
       "      <td>6391</td>\n",
       "    </tr>\n",
       "    <tr>\n",
       "      <th>2022</th>\n",
       "      <td>107.7</td>\n",
       "      <td>5.1</td>\n",
       "      <td>325848</td>\n",
       "      <td>9731</td>\n",
       "      <td>60220</td>\n",
       "      <td>4463</td>\n",
       "    </tr>\n",
       "  </tbody>\n",
       "</table>\n",
       "</div>"
      ],
      "text/plain": [
       "      소비자물가 총지수(2020=100)  소비자물가상승률(%)      사기  전자금융거래법위반     횡령  도박범죄\n",
       "연도                                                                    \n",
       "2018                 99.1          1.5  270029       7877  55113  6004\n",
       "2019                 99.5          0.4  304472       8132  58508  8008\n",
       "2020                100.0          0.5  347675       6402  58889  8135\n",
       "2021                102.5          2.5  294075       7024  50421  6391\n",
       "2022                107.7          5.1  325848       9731  60220  4463"
      ]
     },
     "execution_count": 74,
     "metadata": {},
     "output_type": "execute_result"
    }
   ],
   "source": [
    "cpi_crime = pd.concat([df_cpi, df_crime], axis=1)\n",
    "cpi_crime"
   ]
  },
  {
   "cell_type": "code",
   "execution_count": 75,
   "id": "ecd21a3e-384c-4e35-a96b-ff1c84002b15",
   "metadata": {
    "tags": []
   },
   "outputs": [
    {
     "name": "stdout",
     "output_type": "stream",
     "text": [
      "<class 'pandas.core.frame.DataFrame'>\n",
      "Index: 5 entries, 2018 to 2022\n",
      "Data columns (total 6 columns):\n",
      " #   Column               Non-Null Count  Dtype  \n",
      "---  ------               --------------  -----  \n",
      " 0   소비자물가 총지수(2020=100)  5 non-null      float64\n",
      " 1   소비자물가상승률(%)          5 non-null      float64\n",
      " 2   사기                   5 non-null      int64  \n",
      " 3   전자금융거래법위반            5 non-null      int64  \n",
      " 4   횡령                   5 non-null      int64  \n",
      " 5   도박범죄                 5 non-null      int64  \n",
      "dtypes: float64(2), int64(4)\n",
      "memory usage: 452.0+ bytes\n"
     ]
    }
   ],
   "source": [
    "cpi_crime.info()"
   ]
  },
  {
   "cell_type": "code",
   "execution_count": 76,
   "id": "da9063b8-2830-4893-b2ab-9ec70c86d524",
   "metadata": {
    "tags": []
   },
   "outputs": [
    {
     "data": {
      "text/plain": [
       "소비자물가 총지수(2020=100)    0\n",
       "소비자물가상승률(%)            0\n",
       "사기                     0\n",
       "전자금융거래법위반              0\n",
       "횡령                     0\n",
       "도박범죄                   0\n",
       "dtype: int64"
      ]
     },
     "execution_count": 76,
     "metadata": {},
     "output_type": "execute_result"
    }
   ],
   "source": [
    "cpi_crime.isnull().sum()"
   ]
  },
  {
   "cell_type": "code",
   "execution_count": 77,
   "id": "caa3308c-6915-492d-84fc-cc9cd3d64e0d",
   "metadata": {
    "tags": []
   },
   "outputs": [
    {
     "data": {
      "text/html": [
       "<div>\n",
       "<style scoped>\n",
       "    .dataframe tbody tr th:only-of-type {\n",
       "        vertical-align: middle;\n",
       "    }\n",
       "\n",
       "    .dataframe tbody tr th {\n",
       "        vertical-align: top;\n",
       "    }\n",
       "\n",
       "    .dataframe thead th {\n",
       "        text-align: right;\n",
       "    }\n",
       "</style>\n",
       "<table border=\"1\" class=\"dataframe\">\n",
       "  <thead>\n",
       "    <tr style=\"text-align: right;\">\n",
       "      <th></th>\n",
       "      <th>소비자물가 총지수(2020=100)</th>\n",
       "      <th>소비자물가상승률(%)</th>\n",
       "      <th>사기</th>\n",
       "      <th>전자금융거래법위반</th>\n",
       "      <th>횡령</th>\n",
       "      <th>도박범죄</th>\n",
       "    </tr>\n",
       "  </thead>\n",
       "  <tbody>\n",
       "    <tr>\n",
       "      <th>count</th>\n",
       "      <td>5.000000</td>\n",
       "      <td>5.000000</td>\n",
       "      <td>5.000000</td>\n",
       "      <td>5.000000</td>\n",
       "      <td>5.000000</td>\n",
       "      <td>5.000000</td>\n",
       "    </tr>\n",
       "    <tr>\n",
       "      <th>mean</th>\n",
       "      <td>101.760000</td>\n",
       "      <td>2.000000</td>\n",
       "      <td>308419.800000</td>\n",
       "      <td>7833.200000</td>\n",
       "      <td>56630.200000</td>\n",
       "      <td>6600.200000</td>\n",
       "    </tr>\n",
       "    <tr>\n",
       "      <th>std</th>\n",
       "      <td>3.574633</td>\n",
       "      <td>1.931321</td>\n",
       "      <td>29748.633661</td>\n",
       "      <td>1264.514017</td>\n",
       "      <td>3948.766732</td>\n",
       "      <td>1525.152025</td>\n",
       "    </tr>\n",
       "    <tr>\n",
       "      <th>min</th>\n",
       "      <td>99.100000</td>\n",
       "      <td>0.400000</td>\n",
       "      <td>270029.000000</td>\n",
       "      <td>6402.000000</td>\n",
       "      <td>50421.000000</td>\n",
       "      <td>4463.000000</td>\n",
       "    </tr>\n",
       "    <tr>\n",
       "      <th>25%</th>\n",
       "      <td>99.500000</td>\n",
       "      <td>0.500000</td>\n",
       "      <td>294075.000000</td>\n",
       "      <td>7024.000000</td>\n",
       "      <td>55113.000000</td>\n",
       "      <td>6004.000000</td>\n",
       "    </tr>\n",
       "    <tr>\n",
       "      <th>50%</th>\n",
       "      <td>100.000000</td>\n",
       "      <td>1.500000</td>\n",
       "      <td>304472.000000</td>\n",
       "      <td>7877.000000</td>\n",
       "      <td>58508.000000</td>\n",
       "      <td>6391.000000</td>\n",
       "    </tr>\n",
       "    <tr>\n",
       "      <th>75%</th>\n",
       "      <td>102.500000</td>\n",
       "      <td>2.500000</td>\n",
       "      <td>325848.000000</td>\n",
       "      <td>8132.000000</td>\n",
       "      <td>58889.000000</td>\n",
       "      <td>8008.000000</td>\n",
       "    </tr>\n",
       "    <tr>\n",
       "      <th>max</th>\n",
       "      <td>107.700000</td>\n",
       "      <td>5.100000</td>\n",
       "      <td>347675.000000</td>\n",
       "      <td>9731.000000</td>\n",
       "      <td>60220.000000</td>\n",
       "      <td>8135.000000</td>\n",
       "    </tr>\n",
       "  </tbody>\n",
       "</table>\n",
       "</div>"
      ],
      "text/plain": [
       "       소비자물가 총지수(2020=100)  소비자물가상승률(%)             사기    전자금융거래법위반  \\\n",
       "count             5.000000     5.000000       5.000000     5.000000   \n",
       "mean            101.760000     2.000000  308419.800000  7833.200000   \n",
       "std               3.574633     1.931321   29748.633661  1264.514017   \n",
       "min              99.100000     0.400000  270029.000000  6402.000000   \n",
       "25%              99.500000     0.500000  294075.000000  7024.000000   \n",
       "50%             100.000000     1.500000  304472.000000  7877.000000   \n",
       "75%             102.500000     2.500000  325848.000000  8132.000000   \n",
       "max             107.700000     5.100000  347675.000000  9731.000000   \n",
       "\n",
       "                 횡령         도박범죄  \n",
       "count      5.000000     5.000000  \n",
       "mean   56630.200000  6600.200000  \n",
       "std     3948.766732  1525.152025  \n",
       "min    50421.000000  4463.000000  \n",
       "25%    55113.000000  6004.000000  \n",
       "50%    58508.000000  6391.000000  \n",
       "75%    58889.000000  8008.000000  \n",
       "max    60220.000000  8135.000000  "
      ]
     },
     "execution_count": 77,
     "metadata": {},
     "output_type": "execute_result"
    }
   ],
   "source": [
    "cpi_crime.describe()"
   ]
  },
  {
   "cell_type": "code",
   "execution_count": 78,
   "id": "e9a011f9-bb65-4633-8187-09980ae9bcef",
   "metadata": {
    "tags": []
   },
   "outputs": [
    {
     "data": {
      "text/html": [
       "<div>\n",
       "<style scoped>\n",
       "    .dataframe tbody tr th:only-of-type {\n",
       "        vertical-align: middle;\n",
       "    }\n",
       "\n",
       "    .dataframe tbody tr th {\n",
       "        vertical-align: top;\n",
       "    }\n",
       "\n",
       "    .dataframe thead th {\n",
       "        text-align: right;\n",
       "    }\n",
       "</style>\n",
       "<table border=\"1\" class=\"dataframe\">\n",
       "  <thead>\n",
       "    <tr style=\"text-align: right;\">\n",
       "      <th></th>\n",
       "      <th>소비자물가 총지수(2020=100)</th>\n",
       "      <th>소비자물가상승률(%)</th>\n",
       "      <th>사기</th>\n",
       "      <th>전자금융거래법위반</th>\n",
       "      <th>횡령</th>\n",
       "      <th>도박범죄</th>\n",
       "    </tr>\n",
       "  </thead>\n",
       "  <tbody>\n",
       "    <tr>\n",
       "      <th>소비자물가 총지수(2020=100)</th>\n",
       "      <td>1.000000</td>\n",
       "      <td>0.954914</td>\n",
       "      <td>0.317050</td>\n",
       "      <td>0.685883</td>\n",
       "      <td>0.222187</td>\n",
       "      <td>-0.786280</td>\n",
       "    </tr>\n",
       "    <tr>\n",
       "      <th>소비자물가상승률(%)</th>\n",
       "      <td>0.954914</td>\n",
       "      <td>1.000000</td>\n",
       "      <td>0.058673</td>\n",
       "      <td>0.729409</td>\n",
       "      <td>0.078337</td>\n",
       "      <td>-0.932463</td>\n",
       "    </tr>\n",
       "    <tr>\n",
       "      <th>사기</th>\n",
       "      <td>0.317050</td>\n",
       "      <td>0.058673</td>\n",
       "      <td>1.000000</td>\n",
       "      <td>-0.095435</td>\n",
       "      <td>0.619595</td>\n",
       "      <td>0.238770</td>\n",
       "    </tr>\n",
       "    <tr>\n",
       "      <th>전자금융거래법위반</th>\n",
       "      <td>0.685883</td>\n",
       "      <td>0.729409</td>\n",
       "      <td>-0.095435</td>\n",
       "      <td>1.000000</td>\n",
       "      <td>0.455565</td>\n",
       "      <td>-0.737430</td>\n",
       "    </tr>\n",
       "    <tr>\n",
       "      <th>횡령</th>\n",
       "      <td>0.222187</td>\n",
       "      <td>0.078337</td>\n",
       "      <td>0.619595</td>\n",
       "      <td>0.455565</td>\n",
       "      <td>1.000000</td>\n",
       "      <td>0.026641</td>\n",
       "    </tr>\n",
       "    <tr>\n",
       "      <th>도박범죄</th>\n",
       "      <td>-0.786280</td>\n",
       "      <td>-0.932463</td>\n",
       "      <td>0.238770</td>\n",
       "      <td>-0.737430</td>\n",
       "      <td>0.026641</td>\n",
       "      <td>1.000000</td>\n",
       "    </tr>\n",
       "  </tbody>\n",
       "</table>\n",
       "</div>"
      ],
      "text/plain": [
       "                     소비자물가 총지수(2020=100)  소비자물가상승률(%)        사기  전자금융거래법위반  \\\n",
       "소비자물가 총지수(2020=100)             1.000000     0.954914  0.317050   0.685883   \n",
       "소비자물가상승률(%)                     0.954914     1.000000  0.058673   0.729409   \n",
       "사기                              0.317050     0.058673  1.000000  -0.095435   \n",
       "전자금융거래법위반                       0.685883     0.729409 -0.095435   1.000000   \n",
       "횡령                              0.222187     0.078337  0.619595   0.455565   \n",
       "도박범죄                           -0.786280    -0.932463  0.238770  -0.737430   \n",
       "\n",
       "                           횡령      도박범죄  \n",
       "소비자물가 총지수(2020=100)  0.222187 -0.786280  \n",
       "소비자물가상승률(%)          0.078337 -0.932463  \n",
       "사기                   0.619595  0.238770  \n",
       "전자금융거래법위반            0.455565 -0.737430  \n",
       "횡령                   1.000000  0.026641  \n",
       "도박범죄                 0.026641  1.000000  "
      ]
     },
     "execution_count": 78,
     "metadata": {},
     "output_type": "execute_result"
    }
   ],
   "source": [
    "cpi_crime.corr(method='pearson')\n",
    "#상승률(일반범죄)금융거래위반의 경우 비교적 강한 양의 상관관계를 띔(0.65정도 차이)소비자물가지수 상승률이 높아질수록 전자금융거래법위반 횟수가 증가한다\n",
    "#도박범죄 음의 상관관계를 가지기때문에 소비자물가지수가 상승하지만 오히려 범죄 발생 횟수는 감소한다.\n",
    "#대체적으로 금융범죄는 소비자물가지수와 양의 상관관계를 갖는다고 해석할 수 있다.\n",
    "#횡령도 유의미한 양의 상관관계를 보였어야 했으나 예상했던 수치와는 다르게 0에 가까운 상관계수가 나와 결론적으로 유의미한 상관관계를 보이지 않아 횡령과 금융지수 상관성 예측에 실패했다고 볼 수 있다."
   ]
  },
  {
   "cell_type": "code",
   "execution_count": 80,
   "id": "130b7c3e-9994-4f98-a403-30596a239d3d",
   "metadata": {
    "tags": []
   },
   "outputs": [
    {
     "data": {
      "text/plain": [
       "<Axes: xlabel='소비자물가 총지수(2020=100)', ylabel='사기'>"
      ]
     },
     "execution_count": 80,
     "metadata": {},
     "output_type": "execute_result"
    },
    {
     "data": {
      "image/png": "[encoded data removed]",
      "text/plain": [
       "<Figure size 640x480 with 1 Axes>"
      ]
     },
     "metadata": {},
     "output_type": "display_data"
    }
   ],
   "source": [
    "cpi_crime.plot(kind='scatter', x='소비자물가 총지수(2020=100)', y='사기')"
   ]
  },
  {
   "cell_type": "code",
   "execution_count": 81,
   "id": "54c75cca-ce17-426e-832a-c5ef854847fe",
   "metadata": {
    "tags": []
   },
   "outputs": [
    {
     "data": {
      "text/plain": [
       "<Axes: xlabel='소비자물가상승률(%)', ylabel='사기'>"
      ]
     },
     "execution_count": 81,
     "metadata": {},
     "output_type": "execute_result"
    },
    {
     "data": {
      "image/png": "[encoded data removed]",
      "text/plain": [
       "<Figure size 640x480 with 1 Axes>"
      ]
     },
     "metadata": {},
     "output_type": "display_data"
    }
   ],
   "source": [
    "cpi_crime.plot(kind='scatter', x='소비자물가상승률(%)', y='사기')"
   ]
  },
  {
   "cell_type": "code",
   "execution_count": 82,
   "id": "4beaf39c-9fea-4af8-ad2e-a698c2e76be6",
   "metadata": {
    "tags": []
   },
   "outputs": [
    {
     "data": {
      "text/plain": [
       "<Axes: xlabel='소비자물가 총지수(2020=100)', ylabel='전자금융거래법위반'>"
      ]
     },
     "execution_count": 82,
     "metadata": {},
     "output_type": "execute_result"
    },
    {
     "data": {
      "image/png": "[encoded data removed]",
      "text/plain": [
       "<Figure size 640x480 with 1 Axes>"
      ]
     },
     "metadata": {},
     "output_type": "display_data"
    }
   ],
   "source": [
    "cpi_crime.plot(kind='scatter', x='소비자물가 총지수(2020=100)', y='전자금융거래법위반')"
   ]
  },
  {
   "cell_type": "code",
   "execution_count": 83,
   "id": "7b79b78e-b9b7-4438-8815-14ec5f2f22f8",
   "metadata": {
    "tags": []
   },
   "outputs": [
    {
     "data": {
      "text/plain": [
       "<Axes: xlabel='소비자물가상승률(%)', ylabel='전자금융거래법위반'>"
      ]
     },
     "execution_count": 83,
     "metadata": {},
     "output_type": "execute_result"
    },
    {
     "data": {
      "image/png": "[encoded data removed]",
      "text/plain": [
       "<Figure size 640x480 with 1 Axes>"
      ]
     },
     "metadata": {},
     "output_type": "display_data"
    }
   ],
   "source": [
    "cpi_crime.plot(kind='scatter', x='소비자물가상승률(%)', y='전자금융거래법위반')"
   ]
  },
  {
   "cell_type": "code",
   "execution_count": 84,
   "id": "df08794b-7825-488e-9e17-f0e1f21fda8a",
   "metadata": {
    "tags": []
   },
   "outputs": [
    {
     "data": {
      "text/plain": [
       "<Axes: xlabel='소비자물가 총지수(2020=100)', ylabel='횡령'>"
      ]
     },
     "execution_count": 84,
     "metadata": {},
     "output_type": "execute_result"
    },
    {
     "data": {
      "image/png": "[encoded data removed]",
      "text/plain": [
       "<Figure size 640x480 with 1 Axes>"
      ]
     },
     "metadata": {},
     "output_type": "display_data"
    }
   ],
   "source": [
    "cpi_crime.plot(kind='scatter', x='소비자물가 총지수(2020=100)', y='횡령')"
   ]
  },
  {
   "cell_type": "code",
   "execution_count": 85,
   "id": "16943297-fc1b-4221-8c39-b04edd9e3720",
   "metadata": {
    "tags": []
   },
   "outputs": [
    {
     "data": {
      "text/plain": [
       "<Axes: xlabel='소비자물가상승률(%)', ylabel='횡령'>"
      ]
     },
     "execution_count": 85,
     "metadata": {},
     "output_type": "execute_result"
    },
    {
     "data": {
      "image/png": "[encoded data removed]",
      "text/plain": [
       "<Figure size 640x480 with 1 Axes>"
      ]
     },
     "metadata": {},
     "output_type": "display_data"
    }
   ],
   "source": [
    "cpi_crime.plot(kind='scatter', x='소비자물가상승률(%)', y='횡령')"
   ]
  },
  {
   "cell_type": "code",
   "execution_count": 86,
   "id": "9ec32e07-6978-445f-a09a-6754aef94d7f",
   "metadata": {
    "tags": []
   },
   "outputs": [
    {
     "data": {
      "text/plain": [
       "<Axes: xlabel='소비자물가 총지수(2020=100)', ylabel='도박범죄'>"
      ]
     },
     "execution_count": 86,
     "metadata": {},
     "output_type": "execute_result"
    },
    {
     "data": {
      "image/png": "[encoded data removed]",
      "text/plain": [
       "<Figure size 640x480 with 1 Axes>"
      ]
     },
     "metadata": {},
     "output_type": "display_data"
    }
   ],
   "source": [
    "cpi_crime.plot(kind='scatter', x='소비자물가 총지수(2020=100)', y='도박범죄')"
   ]
  },
  {
   "cell_type": "code",
   "execution_count": 87,
   "id": "8d475985-c6bf-4a09-b7a7-681e517b272d",
   "metadata": {
    "tags": []
   },
   "outputs": [
    {
     "data": {
      "text/plain": [
       "<Axes: xlabel='소비자물가상승률(%)', ylabel='도박범죄'>"
      ]
     },
     "execution_count": 87,
     "metadata": {},
     "output_type": "execute_result"
    },
    {
     "data": {
      "image/png": "[encoded data removed]",
      "text/plain": [
       "<Figure size 640x480 with 1 Axes>"
      ]
     },
     "metadata": {},
     "output_type": "display_data"
    }
   ],
   "source": [
    "cpi_crime.plot(kind='scatter', x='소비자물가상승률(%)', y='도박범죄')"
   ]
  },
  {
   "cell_type": "code",
   "execution_count": 112,
   "id": "a0fc368a-c1a1-4c24-82fb-a3d6af59c623",
   "metadata": {
    "tags": []
   },
   "outputs": [
    {
     "data": {
      "image/png": "[encoded data removed]",
      "text/plain": [
       "<Figure size 640x480 with 3 Axes>"
      ]
     },
     "metadata": {},
     "output_type": "display_data"
    }
   ],
   "source": [
    "# '연도'는 열이 아닌 인덱스의 이름\n",
    "# cpi_crime.index를 사용하여 인덱스 값을 x축 데이터로 사용\n",
    "\n",
    "fig, ax1 = plt.subplots()\n",
    "\n",
    "color = 'tab:green'\n",
    "ax1.set_xlabel('연도')\n",
    "ax1.set_ylabel('도박범죄', color=color)\n",
    "ax1.bar(cpi_crime.index, cpi_crime['도박범죄'], color=color)  \n",
    "ax1.tick_params(axis='y', labelcolor=color)\n",
    "\n",
    "ax2 = ax1.twinx()  \n",
    "color = 'tab:red'\n",
    "ax2.set_ylabel('소비자물가 총지수(2020=100)', color=color)  \n",
    "ax2.plot(cpi_crime.index, cpi_crime['소비자물가 총지수(2020=100)'], color=color)  \n",
    "ax2.tick_params(axis='y', labelcolor=color)\n",
    "\n",
    "ax3 = ax1.twinx()  \n",
    "color = 'tab:blue'\n",
    "ax3.spines['right'].set_position(('outward', 60))  # 두 번째 y축을 오른쪽에 추가\n",
    "ax3.set_ylabel('소비자물가상승률(%)', color=color)  \n",
    "ax3.plot(cpi_crime.index, cpi_crime['소비자물가상승률(%)'], color=color)  \n",
    "ax3.tick_params(axis='y', labelcolor=color)\n",
    "\n",
    "plt.title('도박범죄 & CPI 지수')\n",
    "\n",
    "plt.show()"
   ]
  },
  {
   "cell_type": "code",
   "execution_count": null,
   "id": "fe6ac58c-4ae7-436e-884b-0d9325ecd176",
   "metadata": {},
   "outputs": [],
   "source": []
  }
 ],
 "metadata": {
  "kernelspec": {
   "display_name": "Python 3 (ipykernel)",
   "language": "python",
   "name": "python3"
  },
  "language_info": {
   "codemirror_mode": {
    "name": "ipython",
    "version": 3
   },
   "file_extension": ".py",
   "mimetype": "text/x-python",
   "name": "python",
   "nbconvert_exporter": "python",
   "pygments_lexer": "ipython3",
   "version": "3.11.4"
  }
 },
 "nbformat": 4,
 "nbformat_minor": 5
}
