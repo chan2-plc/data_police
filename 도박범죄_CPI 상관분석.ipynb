{
 "cells": [
  {
   "cell_type": "code",
   "execution_count": 76,
   "id": "e76b1e01-25a1-47aa-92f8-96a30f5e4702",
   "metadata": {
    "tags": []
   },
   "outputs": [],
   "source": [
    "import pandas as pd \n",
    "import numpy as np\n",
    "import requests\n",
    "from bs4 import BeautifulSoup\n",
    "import csv\n",
    "import matplotlib.pyplot as plt\n",
    "import chardet\n",
    "%matplotlib inline\n",
    "import platform\n",
    "\n",
    "if platform.system() == 'Windows':\n",
    "    plt.rc('font', family='Malgun Gothic')\n",
    "elif platform.system() == 'Darwin': # Mac\n",
    "    plt.rc('font', family='AppleGothic')\n",
    "else: #linux\n",
    "    plt.rc('font', family='NanumGothic')\n",
    "\n",
    "# 그래프에 마이너스 표시가 되도록 변경\n",
    "plt.rcParams['axes.unicode_minus'] = False\n"
   ]
  },
  {
   "cell_type": "code",
   "execution_count": 77,
   "id": "1b57c412-a643-49ef-a73b-18940d838ae7",
   "metadata": {
    "tags": []
   },
   "outputs": [],
   "source": [
    "df = pd.read_csv('police_2.csv', encoding='cp949', index_col=[\"죄종별\"])\n",
    "test_cpi=pd.read_excel(r'/Users/chan2/Desktop/교내 활동/데이터분석/소비자물가지수.xlsx')"
   ]
  },
  {
   "cell_type": "code",
   "execution_count": 78,
   "id": "bf9073cc-d4b5-41f5-804b-f647fe3d49eb",
   "metadata": {
    "tags": []
   },
   "outputs": [
    {
     "data": {
      "text/html": [
       "<div>\n",
       "<style scoped>\n",
       "    .dataframe tbody tr th:only-of-type {\n",
       "        vertical-align: middle;\n",
       "    }\n",
       "\n",
       "    .dataframe tbody tr th {\n",
       "        vertical-align: top;\n",
       "    }\n",
       "\n",
       "    .dataframe thead th {\n",
       "        text-align: right;\n",
       "    }\n",
       "</style>\n",
       "<table border=\"1\" class=\"dataframe\">\n",
       "  <thead>\n",
       "    <tr style=\"text-align: right;\">\n",
       "      <th></th>\n",
       "      <th>항목</th>\n",
       "      <th>2018</th>\n",
       "      <th>2019</th>\n",
       "      <th>2020</th>\n",
       "      <th>2021</th>\n",
       "      <th>2022</th>\n",
       "    </tr>\n",
       "    <tr>\n",
       "      <th>죄종별</th>\n",
       "      <th></th>\n",
       "      <th></th>\n",
       "      <th></th>\n",
       "      <th></th>\n",
       "      <th></th>\n",
       "      <th></th>\n",
       "    </tr>\n",
       "  </thead>\n",
       "  <tbody>\n",
       "    <tr>\n",
       "      <th>사기</th>\n",
       "      <td>발생건수[건]</td>\n",
       "      <td>270029</td>\n",
       "      <td>304472</td>\n",
       "      <td>347675</td>\n",
       "      <td>294075</td>\n",
       "      <td>325848</td>\n",
       "    </tr>\n",
       "    <tr>\n",
       "      <th>전자금융거래법위반</th>\n",
       "      <td>발생건수[건]</td>\n",
       "      <td>7877</td>\n",
       "      <td>8132</td>\n",
       "      <td>6402</td>\n",
       "      <td>7024</td>\n",
       "      <td>9731</td>\n",
       "    </tr>\n",
       "    <tr>\n",
       "      <th>횡령</th>\n",
       "      <td>발생건수[건]</td>\n",
       "      <td>55113</td>\n",
       "      <td>58508</td>\n",
       "      <td>58889</td>\n",
       "      <td>50421</td>\n",
       "      <td>60220</td>\n",
       "    </tr>\n",
       "    <tr>\n",
       "      <th>도박범죄</th>\n",
       "      <td>발생건수[건]</td>\n",
       "      <td>6004</td>\n",
       "      <td>8008</td>\n",
       "      <td>8135</td>\n",
       "      <td>6391</td>\n",
       "      <td>4463</td>\n",
       "    </tr>\n",
       "  </tbody>\n",
       "</table>\n",
       "</div>"
      ],
      "text/plain": [
       "                항목    2018    2019    2020    2021    2022\n",
       "죄종별                                                       \n",
       "사기         발생건수[건]  270029  304472  347675  294075  325848\n",
       "전자금융거래법위반  발생건수[건]    7877    8132    6402    7024    9731\n",
       "횡령         발생건수[건]   55113   58508   58889   50421   60220\n",
       "도박범죄       발생건수[건]    6004    8008    8135    6391    4463"
      ]
     },
     "execution_count": 78,
     "metadata": {},
     "output_type": "execute_result"
    }
   ],
   "source": [
    "df"
   ]
  },
  {
   "cell_type": "code",
   "execution_count": 79,
   "id": "67df289d-c6be-40bc-ad3c-333b9c94413c",
   "metadata": {
    "tags": []
   },
   "outputs": [
    {
     "data": {
      "text/html": [
       "<div>\n",
       "<style scoped>\n",
       "    .dataframe tbody tr th:only-of-type {\n",
       "        vertical-align: middle;\n",
       "    }\n",
       "\n",
       "    .dataframe tbody tr th {\n",
       "        vertical-align: top;\n",
       "    }\n",
       "\n",
       "    .dataframe thead th {\n",
       "        text-align: right;\n",
       "    }\n",
       "</style>\n",
       "<table border=\"1\" class=\"dataframe\">\n",
       "  <thead>\n",
       "    <tr style=\"text-align: right;\">\n",
       "      <th></th>\n",
       "      <th>2018</th>\n",
       "      <th>2019</th>\n",
       "      <th>2020</th>\n",
       "      <th>2021</th>\n",
       "      <th>2022</th>\n",
       "    </tr>\n",
       "    <tr>\n",
       "      <th>죄종별</th>\n",
       "      <th></th>\n",
       "      <th></th>\n",
       "      <th></th>\n",
       "      <th></th>\n",
       "      <th></th>\n",
       "    </tr>\n",
       "  </thead>\n",
       "  <tbody>\n",
       "    <tr>\n",
       "      <th>도박범죄</th>\n",
       "      <td>6004</td>\n",
       "      <td>8008</td>\n",
       "      <td>8135</td>\n",
       "      <td>6391</td>\n",
       "      <td>4463</td>\n",
       "    </tr>\n",
       "  </tbody>\n",
       "</table>\n",
       "</div>"
      ],
      "text/plain": [
       "      2018  2019  2020  2021  2022\n",
       "죄종별                               \n",
       "도박범죄  6004  8008  8135  6391  4463"
      ]
     },
     "execution_count": 79,
     "metadata": {},
     "output_type": "execute_result"
    }
   ],
   "source": [
    "#죄종별에서 도박범죄만 남기고 나머지 삭제\n",
    "#항목 열 삭제\n",
    "\n",
    "df_crime = df.drop(columns=\"항목\", index=[\"사기\", \"전자금융거래법위반\", \"횡령\"])\n",
    "df_crime"
   ]
  },
  {
   "cell_type": "code",
   "execution_count": 80,
   "id": "ee4df028-881d-47a4-97d2-88b55e9329dd",
   "metadata": {
    "tags": []
   },
   "outputs": [],
   "source": [
    "#죄종별 삭제\n",
    "df_crime = df_crime.rename_axis(index={\"죄종별\":\"\"})"
   ]
  },
  {
   "cell_type": "code",
   "execution_count": 81,
   "id": "256aa411-698a-4717-813e-ae768a1fbd2a",
   "metadata": {
    "tags": []
   },
   "outputs": [
    {
     "name": "stdout",
     "output_type": "stream",
     "text": [
      "2018    6004\n",
      "2019    8008\n",
      "2020    8135\n",
      "2021    6391\n",
      "2022    4463\n",
      "Name: 도박범죄, dtype: int64\n"
     ]
    }
   ],
   "source": [
    "crime_columns=df_crime.columns\n",
    "crime_first_row=df_crime.iloc[0]\n",
    "print(crime_first_row)"
   ]
  },
  {
   "cell_type": "code",
   "execution_count": 82,
   "id": "06b27129-0ec7-4e07-9d64-943e6efa0369",
   "metadata": {
    "tags": []
   },
   "outputs": [
    {
     "data": {
      "text/html": [
       "<div>\n",
       "<style scoped>\n",
       "    .dataframe tbody tr th:only-of-type {\n",
       "        vertical-align: middle;\n",
       "    }\n",
       "\n",
       "    .dataframe tbody tr th {\n",
       "        vertical-align: top;\n",
       "    }\n",
       "\n",
       "    .dataframe thead th {\n",
       "        text-align: right;\n",
       "    }\n",
       "</style>\n",
       "<table border=\"1\" class=\"dataframe\">\n",
       "  <thead>\n",
       "    <tr style=\"text-align: right;\">\n",
       "      <th></th>\n",
       "      <th>2018</th>\n",
       "      <th>2019</th>\n",
       "      <th>2020</th>\n",
       "      <th>2021</th>\n",
       "      <th>2022</th>\n",
       "    </tr>\n",
       "  </thead>\n",
       "  <tbody>\n",
       "    <tr>\n",
       "      <th>도박범죄</th>\n",
       "      <td>6004</td>\n",
       "      <td>8008</td>\n",
       "      <td>8135</td>\n",
       "      <td>6391</td>\n",
       "      <td>4463</td>\n",
       "    </tr>\n",
       "  </tbody>\n",
       "</table>\n",
       "</div>"
      ],
      "text/plain": [
       "      2018  2019  2020  2021  2022\n",
       "도박범죄  6004  8008  8135  6391  4463"
      ]
     },
     "execution_count": 82,
     "metadata": {},
     "output_type": "execute_result"
    }
   ],
   "source": [
    "df_crime = pd.DataFrame([crime_first_row.values],index=[\"도박범죄\"],columns=df_crime.columns)\n",
    "df_crime"
   ]
  },
  {
   "cell_type": "code",
   "execution_count": 83,
   "id": "263d0a33-6f34-408d-9bc7-525c63e412da",
   "metadata": {
    "tags": []
   },
   "outputs": [
    {
     "data": {
      "text/html": [
       "<div>\n",
       "<style scoped>\n",
       "    .dataframe tbody tr th:only-of-type {\n",
       "        vertical-align: middle;\n",
       "    }\n",
       "\n",
       "    .dataframe tbody tr th {\n",
       "        vertical-align: top;\n",
       "    }\n",
       "\n",
       "    .dataframe thead th {\n",
       "        text-align: right;\n",
       "    }\n",
       "</style>\n",
       "<table border=\"1\" class=\"dataframe\">\n",
       "  <thead>\n",
       "    <tr style=\"text-align: right;\">\n",
       "      <th></th>\n",
       "      <th>도박범죄</th>\n",
       "    </tr>\n",
       "    <tr>\n",
       "      <th>연도</th>\n",
       "      <th></th>\n",
       "    </tr>\n",
       "  </thead>\n",
       "  <tbody>\n",
       "    <tr>\n",
       "      <th>2018</th>\n",
       "      <td>6004</td>\n",
       "    </tr>\n",
       "    <tr>\n",
       "      <th>2019</th>\n",
       "      <td>8008</td>\n",
       "    </tr>\n",
       "    <tr>\n",
       "      <th>2020</th>\n",
       "      <td>8135</td>\n",
       "    </tr>\n",
       "    <tr>\n",
       "      <th>2021</th>\n",
       "      <td>6391</td>\n",
       "    </tr>\n",
       "    <tr>\n",
       "      <th>2022</th>\n",
       "      <td>4463</td>\n",
       "    </tr>\n",
       "  </tbody>\n",
       "</table>\n",
       "</div>"
      ],
      "text/plain": [
       "      도박범죄\n",
       "연도        \n",
       "2018  6004\n",
       "2019  8008\n",
       "2020  8135\n",
       "2021  6391\n",
       "2022  4463"
      ]
     },
     "execution_count": 83,
     "metadata": {},
     "output_type": "execute_result"
    }
   ],
   "source": [
    "df_crime.columns.name='연도'\n",
    "df_crime=df_crime.transpose()\n",
    "df_crime"
   ]
  },
  {
   "cell_type": "code",
   "execution_count": 84,
   "id": "7300e2cc-e6f2-48e5-be6f-118e80864b53",
   "metadata": {
    "tags": []
   },
   "outputs": [
    {
     "name": "stdout",
     "output_type": "stream",
     "text": [
      "<class 'pandas.core.frame.DataFrame'>\n",
      "Index: 5 entries, 2018 to 2022\n",
      "Data columns (total 1 columns):\n",
      " #   Column  Non-Null Count  Dtype\n",
      "---  ------  --------------  -----\n",
      " 0   도박범죄    5 non-null      int64\n",
      "dtypes: int64(1)\n",
      "memory usage: 252.0+ bytes\n"
     ]
    }
   ],
   "source": [
    "df_crime.info()"
   ]
  },
  {
   "cell_type": "code",
   "execution_count": 85,
   "id": "adb6f93b-7130-4034-83be-85f538d5fdeb",
   "metadata": {
    "tags": []
   },
   "outputs": [],
   "source": [
    "#df_crime['도박범죄'] = df_crime['도박범죄'].astype('float64')\n",
    "#df_crime.info()\n",
    "#Dtype을 통일시켜주지 않아도 정상적으로 결과 출력됨"
   ]
  },
  {
   "cell_type": "code",
   "execution_count": 86,
   "id": "fbdbe847-5e8b-4ac8-a5b1-94653ff34c70",
   "metadata": {
    "tags": []
   },
   "outputs": [
    {
     "name": "stdout",
     "output_type": "stream",
     "text": [
      "<class 'pandas.core.frame.DataFrame'>\n",
      "RangeIndex: 17 entries, 0 to 16\n",
      "Data columns (total 12 columns):\n",
      " #   Column  Non-Null Count  Dtype  \n",
      "---  ------  --------------  -----  \n",
      " 0   연도      15 non-null     object \n",
      " 1   2012    15 non-null     object \n",
      " 2   2013    14 non-null     float64\n",
      " 3   2014    14 non-null     float64\n",
      " 4   2015    14 non-null     float64\n",
      " 5   2016    14 non-null     float64\n",
      " 6   2017    14 non-null     float64\n",
      " 7   2018    14 non-null     float64\n",
      " 8   2019    14 non-null     float64\n",
      " 9   2020    14 non-null     float64\n",
      " 10  2021    14 non-null     float64\n",
      " 11  2022    14 non-null     float64\n",
      "dtypes: float64(10), object(2)\n",
      "memory usage: 1.7+ KB\n"
     ]
    }
   ],
   "source": [
    "test_cpi.info()"
   ]
  },
  {
   "cell_type": "code",
   "execution_count": 87,
   "id": "9017380c-b6ce-4937-a944-e2888ae85558",
   "metadata": {
    "tags": []
   },
   "outputs": [
    {
     "data": {
      "text/html": [
       "<div>\n",
       "<style scoped>\n",
       "    .dataframe tbody tr th:only-of-type {\n",
       "        vertical-align: middle;\n",
       "    }\n",
       "\n",
       "    .dataframe tbody tr th {\n",
       "        vertical-align: top;\n",
       "    }\n",
       "\n",
       "    .dataframe thead th {\n",
       "        text-align: right;\n",
       "    }\n",
       "</style>\n",
       "<table border=\"1\" class=\"dataframe\">\n",
       "  <thead>\n",
       "    <tr style=\"text-align: right;\">\n",
       "      <th></th>\n",
       "      <th>2018</th>\n",
       "      <th>2019</th>\n",
       "      <th>2020</th>\n",
       "      <th>2021</th>\n",
       "      <th>2022</th>\n",
       "    </tr>\n",
       "  </thead>\n",
       "  <tbody>\n",
       "    <tr>\n",
       "      <th>0</th>\n",
       "      <td>99.1</td>\n",
       "      <td>99.5</td>\n",
       "      <td>100.0</td>\n",
       "      <td>102.5</td>\n",
       "      <td>107.7</td>\n",
       "    </tr>\n",
       "    <tr>\n",
       "      <th>1</th>\n",
       "      <td>1.5</td>\n",
       "      <td>0.4</td>\n",
       "      <td>0.5</td>\n",
       "      <td>2.5</td>\n",
       "      <td>5.1</td>\n",
       "    </tr>\n",
       "  </tbody>\n",
       "</table>\n",
       "</div>"
      ],
      "text/plain": [
       "   2018  2019   2020   2021   2022\n",
       "0  99.1  99.5  100.0  102.5  107.7\n",
       "1   1.5   0.4    0.5    2.5    5.1"
      ]
     },
     "execution_count": 87,
     "metadata": {},
     "output_type": "execute_result"
    }
   ],
   "source": [
    "cpi = test_cpi.iloc[0:2, [7, 8, 9, 10, 11]]\n",
    "cpi"
   ]
  },
  {
   "cell_type": "code",
   "execution_count": 88,
   "id": "7f9a4c6a-aaf6-4379-addf-235b0723eac3",
   "metadata": {
    "tags": []
   },
   "outputs": [
    {
     "name": "stdout",
     "output_type": "stream",
     "text": [
      "2018     99.1\n",
      "2019     99.5\n",
      "2020    100.0\n",
      "2021    102.5\n",
      "2022    107.7\n",
      "Name: 0, dtype: float64\n",
      "2018    1.5\n",
      "2019    0.4\n",
      "2020    0.5\n",
      "2021    2.5\n",
      "2022    5.1\n",
      "Name: 1, dtype: float64\n"
     ]
    }
   ],
   "source": [
    "cpi_columns=cpi.columns\n",
    "first_row=cpi.iloc[0]\n",
    "print(first_row)\n",
    "second_row=cpi.iloc[1]\n",
    "print(second_row)"
   ]
  },
  {
   "cell_type": "code",
   "execution_count": 89,
   "id": "0fcba42b-7e62-4f7f-9768-bbb4f7b1155f",
   "metadata": {},
   "outputs": [
    {
     "data": {
      "text/html": [
       "<div>\n",
       "<style scoped>\n",
       "    .dataframe tbody tr th:only-of-type {\n",
       "        vertical-align: middle;\n",
       "    }\n",
       "\n",
       "    .dataframe tbody tr th {\n",
       "        vertical-align: top;\n",
       "    }\n",
       "\n",
       "    .dataframe thead th {\n",
       "        text-align: right;\n",
       "    }\n",
       "</style>\n",
       "<table border=\"1\" class=\"dataframe\">\n",
       "  <thead>\n",
       "    <tr style=\"text-align: right;\">\n",
       "      <th></th>\n",
       "      <th>2018</th>\n",
       "      <th>2019</th>\n",
       "      <th>2020</th>\n",
       "      <th>2021</th>\n",
       "      <th>2022</th>\n",
       "    </tr>\n",
       "  </thead>\n",
       "  <tbody>\n",
       "    <tr>\n",
       "      <th>소비자물가 총지수(2020=100)</th>\n",
       "      <td>99.1</td>\n",
       "      <td>99.5</td>\n",
       "      <td>100.0</td>\n",
       "      <td>102.5</td>\n",
       "      <td>107.7</td>\n",
       "    </tr>\n",
       "    <tr>\n",
       "      <th>소비자물가상승률(%)</th>\n",
       "      <td>1.5</td>\n",
       "      <td>0.4</td>\n",
       "      <td>0.5</td>\n",
       "      <td>2.5</td>\n",
       "      <td>5.1</td>\n",
       "    </tr>\n",
       "  </tbody>\n",
       "</table>\n",
       "</div>"
      ],
      "text/plain": [
       "                     2018  2019   2020   2021   2022\n",
       "소비자물가 총지수(2020=100)  99.1  99.5  100.0  102.5  107.7\n",
       "소비자물가상승률(%)           1.5   0.4    0.5    2.5    5.1"
      ]
     },
     "execution_count": 89,
     "metadata": {},
     "output_type": "execute_result"
    }
   ],
   "source": [
    "df_cpi = pd.DataFrame([first_row.values, second_row.values],index=[\"소비자물가 총지수(2020=100)\",\"소비자물가상승률(%)\"],columns=cpi.columns)\n",
    "df_cpi"
   ]
  },
  {
   "cell_type": "code",
   "execution_count": 90,
   "id": "6460231c-b0bc-4051-b6da-01e4da7c1680",
   "metadata": {
    "tags": []
   },
   "outputs": [
    {
     "data": {
      "text/html": [
       "<div>\n",
       "<style scoped>\n",
       "    .dataframe tbody tr th:only-of-type {\n",
       "        vertical-align: middle;\n",
       "    }\n",
       "\n",
       "    .dataframe tbody tr th {\n",
       "        vertical-align: top;\n",
       "    }\n",
       "\n",
       "    .dataframe thead th {\n",
       "        text-align: right;\n",
       "    }\n",
       "</style>\n",
       "<table border=\"1\" class=\"dataframe\">\n",
       "  <thead>\n",
       "    <tr style=\"text-align: right;\">\n",
       "      <th></th>\n",
       "      <th>소비자물가 총지수(2020=100)</th>\n",
       "      <th>소비자물가상승률(%)</th>\n",
       "    </tr>\n",
       "    <tr>\n",
       "      <th>연도</th>\n",
       "      <th></th>\n",
       "      <th></th>\n",
       "    </tr>\n",
       "  </thead>\n",
       "  <tbody>\n",
       "    <tr>\n",
       "      <th>2018</th>\n",
       "      <td>99.1</td>\n",
       "      <td>1.5</td>\n",
       "    </tr>\n",
       "    <tr>\n",
       "      <th>2019</th>\n",
       "      <td>99.5</td>\n",
       "      <td>0.4</td>\n",
       "    </tr>\n",
       "    <tr>\n",
       "      <th>2020</th>\n",
       "      <td>100.0</td>\n",
       "      <td>0.5</td>\n",
       "    </tr>\n",
       "    <tr>\n",
       "      <th>2021</th>\n",
       "      <td>102.5</td>\n",
       "      <td>2.5</td>\n",
       "    </tr>\n",
       "    <tr>\n",
       "      <th>2022</th>\n",
       "      <td>107.7</td>\n",
       "      <td>5.1</td>\n",
       "    </tr>\n",
       "  </tbody>\n",
       "</table>\n",
       "</div>"
      ],
      "text/plain": [
       "      소비자물가 총지수(2020=100)  소비자물가상승률(%)\n",
       "연도                                    \n",
       "2018                 99.1          1.5\n",
       "2019                 99.5          0.4\n",
       "2020                100.0          0.5\n",
       "2021                102.5          2.5\n",
       "2022                107.7          5.1"
      ]
     },
     "execution_count": 90,
     "metadata": {},
     "output_type": "execute_result"
    }
   ],
   "source": [
    "df_cpi.columns.name='연도'\n",
    "df_cpi=df_cpi.transpose()\n",
    "df_cpi"
   ]
  },
  {
   "cell_type": "code",
   "execution_count": 91,
   "id": "22ff7e00-4895-4160-9613-11a7de5f7abd",
   "metadata": {
    "tags": []
   },
   "outputs": [
    {
     "name": "stdout",
     "output_type": "stream",
     "text": [
      "Index(['2018', '2019', '2020', '2021', '2022'], dtype='object', name='연도')\n",
      "Index([2018, 2019, 2020, 2021, 2022], dtype='object', name='연도')\n"
     ]
    }
   ],
   "source": [
    "print(df_crime.index)\n",
    "print(df_cpi.index)"
   ]
  },
  {
   "cell_type": "code",
   "execution_count": 92,
   "id": "a6ba1df9-b43f-4c90-82e4-c990aca246cc",
   "metadata": {
    "tags": []
   },
   "outputs": [],
   "source": [
    "# 연도별의 인덱스가 crime = 문자, cpi = 숫자 형태로 서로 다르므로 crime을 정수형으로 변환\n",
    "df_crime.index = df_crime.index.astype(int)"
   ]
  },
  {
   "cell_type": "code",
   "execution_count": 97,
   "id": "19a4515e-a641-4faa-8248-b8a2fe5e13c0",
   "metadata": {
    "tags": []
   },
   "outputs": [
    {
     "data": {
      "text/html": [
       "<div>\n",
       "<style scoped>\n",
       "    .dataframe tbody tr th:only-of-type {\n",
       "        vertical-align: middle;\n",
       "    }\n",
       "\n",
       "    .dataframe tbody tr th {\n",
       "        vertical-align: top;\n",
       "    }\n",
       "\n",
       "    .dataframe thead th {\n",
       "        text-align: right;\n",
       "    }\n",
       "</style>\n",
       "<table border=\"1\" class=\"dataframe\">\n",
       "  <thead>\n",
       "    <tr style=\"text-align: right;\">\n",
       "      <th></th>\n",
       "      <th>소비자물가 총지수(2020=100)</th>\n",
       "      <th>소비자물가상승률(%)</th>\n",
       "      <th>도박범죄</th>\n",
       "    </tr>\n",
       "    <tr>\n",
       "      <th>연도</th>\n",
       "      <th></th>\n",
       "      <th></th>\n",
       "      <th></th>\n",
       "    </tr>\n",
       "  </thead>\n",
       "  <tbody>\n",
       "    <tr>\n",
       "      <th>2018</th>\n",
       "      <td>99.1</td>\n",
       "      <td>1.5</td>\n",
       "      <td>6004</td>\n",
       "    </tr>\n",
       "    <tr>\n",
       "      <th>2019</th>\n",
       "      <td>99.5</td>\n",
       "      <td>0.4</td>\n",
       "      <td>8008</td>\n",
       "    </tr>\n",
       "    <tr>\n",
       "      <th>2020</th>\n",
       "      <td>100.0</td>\n",
       "      <td>0.5</td>\n",
       "      <td>8135</td>\n",
       "    </tr>\n",
       "    <tr>\n",
       "      <th>2021</th>\n",
       "      <td>102.5</td>\n",
       "      <td>2.5</td>\n",
       "      <td>6391</td>\n",
       "    </tr>\n",
       "    <tr>\n",
       "      <th>2022</th>\n",
       "      <td>107.7</td>\n",
       "      <td>5.1</td>\n",
       "      <td>4463</td>\n",
       "    </tr>\n",
       "  </tbody>\n",
       "</table>\n",
       "</div>"
      ],
      "text/plain": [
       "      소비자물가 총지수(2020=100)  소비자물가상승률(%)  도박범죄\n",
       "연도                                          \n",
       "2018                 99.1          1.5  6004\n",
       "2019                 99.5          0.4  8008\n",
       "2020                100.0          0.5  8135\n",
       "2021                102.5          2.5  6391\n",
       "2022                107.7          5.1  4463"
      ]
     },
     "execution_count": 97,
     "metadata": {},
     "output_type": "execute_result"
    }
   ],
   "source": [
    "cpi_crime = pd.concat([df_cpi, df_crime], axis=1)\n",
    "cpi_crime"
   ]
  },
  {
   "cell_type": "code",
   "execution_count": 98,
   "id": "ecd21a3e-384c-4e35-a96b-ff1c84002b15",
   "metadata": {},
   "outputs": [
    {
     "name": "stdout",
     "output_type": "stream",
     "text": [
      "<class 'pandas.core.frame.DataFrame'>\n",
      "Index: 5 entries, 2018 to 2022\n",
      "Data columns (total 3 columns):\n",
      " #   Column               Non-Null Count  Dtype  \n",
      "---  ------               --------------  -----  \n",
      " 0   소비자물가 총지수(2020=100)  5 non-null      float64\n",
      " 1   소비자물가상승률(%)          5 non-null      float64\n",
      " 2   도박범죄                 5 non-null      int64  \n",
      "dtypes: float64(2), int64(1)\n",
      "memory usage: 332.0+ bytes\n"
     ]
    }
   ],
   "source": [
    "cpi_crime.info()"
   ]
  },
  {
   "cell_type": "code",
   "execution_count": 99,
   "id": "da9063b8-2830-4893-b2ab-9ec70c86d524",
   "metadata": {
    "tags": []
   },
   "outputs": [
    {
     "data": {
      "text/plain": [
       "소비자물가 총지수(2020=100)    0\n",
       "소비자물가상승률(%)            0\n",
       "도박범죄                   0\n",
       "dtype: int64"
      ]
     },
     "execution_count": 99,
     "metadata": {},
     "output_type": "execute_result"
    }
   ],
   "source": [
    "cpi_crime.isnull().sum()"
   ]
  },
  {
   "cell_type": "code",
   "execution_count": 100,
   "id": "caa3308c-6915-492d-84fc-cc9cd3d64e0d",
   "metadata": {
    "tags": []
   },
   "outputs": [
    {
     "data": {
      "text/html": [
       "<div>\n",
       "<style scoped>\n",
       "    .dataframe tbody tr th:only-of-type {\n",
       "        vertical-align: middle;\n",
       "    }\n",
       "\n",
       "    .dataframe tbody tr th {\n",
       "        vertical-align: top;\n",
       "    }\n",
       "\n",
       "    .dataframe thead th {\n",
       "        text-align: right;\n",
       "    }\n",
       "</style>\n",
       "<table border=\"1\" class=\"dataframe\">\n",
       "  <thead>\n",
       "    <tr style=\"text-align: right;\">\n",
       "      <th></th>\n",
       "      <th>소비자물가 총지수(2020=100)</th>\n",
       "      <th>소비자물가상승률(%)</th>\n",
       "      <th>도박범죄</th>\n",
       "    </tr>\n",
       "  </thead>\n",
       "  <tbody>\n",
       "    <tr>\n",
       "      <th>count</th>\n",
       "      <td>5.000000</td>\n",
       "      <td>5.000000</td>\n",
       "      <td>5.000000</td>\n",
       "    </tr>\n",
       "    <tr>\n",
       "      <th>mean</th>\n",
       "      <td>101.760000</td>\n",
       "      <td>2.000000</td>\n",
       "      <td>6600.200000</td>\n",
       "    </tr>\n",
       "    <tr>\n",
       "      <th>std</th>\n",
       "      <td>3.574633</td>\n",
       "      <td>1.931321</td>\n",
       "      <td>1525.152025</td>\n",
       "    </tr>\n",
       "    <tr>\n",
       "      <th>min</th>\n",
       "      <td>99.100000</td>\n",
       "      <td>0.400000</td>\n",
       "      <td>4463.000000</td>\n",
       "    </tr>\n",
       "    <tr>\n",
       "      <th>25%</th>\n",
       "      <td>99.500000</td>\n",
       "      <td>0.500000</td>\n",
       "      <td>6004.000000</td>\n",
       "    </tr>\n",
       "    <tr>\n",
       "      <th>50%</th>\n",
       "      <td>100.000000</td>\n",
       "      <td>1.500000</td>\n",
       "      <td>6391.000000</td>\n",
       "    </tr>\n",
       "    <tr>\n",
       "      <th>75%</th>\n",
       "      <td>102.500000</td>\n",
       "      <td>2.500000</td>\n",
       "      <td>8008.000000</td>\n",
       "    </tr>\n",
       "    <tr>\n",
       "      <th>max</th>\n",
       "      <td>107.700000</td>\n",
       "      <td>5.100000</td>\n",
       "      <td>8135.000000</td>\n",
       "    </tr>\n",
       "  </tbody>\n",
       "</table>\n",
       "</div>"
      ],
      "text/plain": [
       "       소비자물가 총지수(2020=100)  소비자물가상승률(%)         도박범죄\n",
       "count             5.000000     5.000000     5.000000\n",
       "mean            101.760000     2.000000  6600.200000\n",
       "std               3.574633     1.931321  1525.152025\n",
       "min              99.100000     0.400000  4463.000000\n",
       "25%              99.500000     0.500000  6004.000000\n",
       "50%             100.000000     1.500000  6391.000000\n",
       "75%             102.500000     2.500000  8008.000000\n",
       "max             107.700000     5.100000  8135.000000"
      ]
     },
     "execution_count": 100,
     "metadata": {},
     "output_type": "execute_result"
    }
   ],
   "source": [
    "cpi_crime.describe()"
   ]
  },
  {
   "cell_type": "code",
   "execution_count": 101,
   "id": "e9a011f9-bb65-4633-8187-09980ae9bcef",
   "metadata": {
    "tags": []
   },
   "outputs": [
    {
     "data": {
      "text/html": [
       "<div>\n",
       "<style scoped>\n",
       "    .dataframe tbody tr th:only-of-type {\n",
       "        vertical-align: middle;\n",
       "    }\n",
       "\n",
       "    .dataframe tbody tr th {\n",
       "        vertical-align: top;\n",
       "    }\n",
       "\n",
       "    .dataframe thead th {\n",
       "        text-align: right;\n",
       "    }\n",
       "</style>\n",
       "<table border=\"1\" class=\"dataframe\">\n",
       "  <thead>\n",
       "    <tr style=\"text-align: right;\">\n",
       "      <th></th>\n",
       "      <th>소비자물가 총지수(2020=100)</th>\n",
       "      <th>소비자물가상승률(%)</th>\n",
       "      <th>도박범죄</th>\n",
       "    </tr>\n",
       "  </thead>\n",
       "  <tbody>\n",
       "    <tr>\n",
       "      <th>소비자물가 총지수(2020=100)</th>\n",
       "      <td>1.000000</td>\n",
       "      <td>0.954914</td>\n",
       "      <td>-0.786280</td>\n",
       "    </tr>\n",
       "    <tr>\n",
       "      <th>소비자물가상승률(%)</th>\n",
       "      <td>0.954914</td>\n",
       "      <td>1.000000</td>\n",
       "      <td>-0.932463</td>\n",
       "    </tr>\n",
       "    <tr>\n",
       "      <th>도박범죄</th>\n",
       "      <td>-0.786280</td>\n",
       "      <td>-0.932463</td>\n",
       "      <td>1.000000</td>\n",
       "    </tr>\n",
       "  </tbody>\n",
       "</table>\n",
       "</div>"
      ],
      "text/plain": [
       "                     소비자물가 총지수(2020=100)  소비자물가상승률(%)      도박범죄\n",
       "소비자물가 총지수(2020=100)             1.000000     0.954914 -0.786280\n",
       "소비자물가상승률(%)                     0.954914     1.000000 -0.932463\n",
       "도박범죄                           -0.786280    -0.932463  1.000000"
      ]
     },
     "execution_count": 101,
     "metadata": {},
     "output_type": "execute_result"
    }
   ],
   "source": [
    "cpi_crime.corr(method='pearson')\n",
    "#총지수와 상승률 모두 음의 상관 관계를 가짐"
   ]
  },
  {
   "cell_type": "code",
   "execution_count": 102,
   "id": "130b7c3e-9994-4f98-a403-30596a239d3d",
   "metadata": {
    "tags": []
   },
   "outputs": [
    {
     "data": {
      "text/plain": [
       "<Axes: xlabel='소비자물가 총지수(2020=100)', ylabel='도박범죄'>"
      ]
     },
     "execution_count": 102,
     "metadata": {},
     "output_type": "execute_result"
    },
    {
     "data": {
      "image/png": "[encoded data removed]",
      "text/plain": [
       "<Figure size 640x480 with 1 Axes>"
      ]
     },
     "metadata": {},
     "output_type": "display_data"
    }
   ],
   "source": [
    "cpi_crime.plot(kind='scatter', x='소비자물가 총지수(2020=100)', y='도박범죄')"
   ]
  },
  {
   "cell_type": "code",
   "execution_count": 103,
   "id": "54c75cca-ce17-426e-832a-c5ef854847fe",
   "metadata": {
    "tags": []
   },
   "outputs": [
    {
     "data": {
      "text/plain": [
       "<Axes: xlabel='소비자물가상승률(%)', ylabel='도박범죄'>"
      ]
     },
     "execution_count": 103,
     "metadata": {},
     "output_type": "execute_result"
    },
    {
     "data": {
      "image/png": "[encoded data removed]",
      "text/plain": [
       "<Figure size 640x480 with 1 Axes>"
      ]
     },
     "metadata": {},
     "output_type": "display_data"
    }
   ],
   "source": [
    "cpi_crime.plot(kind='scatter', x='소비자물가상승률(%)', y='도박범죄')"
   ]
  },
  {
   "cell_type": "code",
   "execution_count": 112,
   "id": "a0fc368a-c1a1-4c24-82fb-a3d6af59c623",
   "metadata": {
    "tags": []
   },
   "outputs": [
    {
     "data": {
      "image/png": "[encoded data removed]",
      "text/plain": [
       "<Figure size 640x480 with 3 Axes>"
      ]
     },
     "metadata": {},
     "output_type": "display_data"
    }
   ],
   "source": [
    "# '연도'는 열이 아닌 인덱스의 이름\n",
    "# cpi_crime.index를 사용하여 인덱스 값을 x축 데이터로 사용\n",
    "\n",
    "fig, ax1 = plt.subplots()\n",
    "\n",
    "color = 'tab:green'\n",
    "ax1.set_xlabel('연도')\n",
    "ax1.set_ylabel('도박범죄', color=color)\n",
    "ax1.bar(cpi_crime.index, cpi_crime['도박범죄'], color=color)  \n",
    "ax1.tick_params(axis='y', labelcolor=color)\n",
    "\n",
    "ax2 = ax1.twinx()  \n",
    "color = 'tab:red'\n",
    "ax2.set_ylabel('소비자물가 총지수(2020=100)', color=color)  \n",
    "ax2.plot(cpi_crime.index, cpi_crime['소비자물가 총지수(2020=100)'], color=color)  \n",
    "ax2.tick_params(axis='y', labelcolor=color)\n",
    "\n",
    "ax3 = ax1.twinx()  \n",
    "color = 'tab:blue'\n",
    "ax3.spines['right'].set_position(('outward', 60))  # 두 번째 y축을 오른쪽에 추가\n",
    "ax3.set_ylabel('소비자물가상승률(%)', color=color)  \n",
    "ax3.plot(cpi_crime.index, cpi_crime['소비자물가상승률(%)'], color=color)  \n",
    "ax3.tick_params(axis='y', labelcolor=color)\n",
    "\n",
    "plt.title('도박범죄 & CPI 지수')\n",
    "\n",
    "plt.show()"
   ]
  },
  {
   "cell_type": "code",
   "execution_count": null,
   "id": "fe6ac58c-4ae7-436e-884b-0d9325ecd176",
   "metadata": {},
   "outputs": [],
   "source": []
  }
 ],
 "metadata": {
  "kernelspec": {
   "display_name": "Python 3 (ipykernel)",
   "language": "python",
   "name": "python3"
  },
  "language_info": {
   "codemirror_mode": {
    "name": "ipython",
    "version": 3
   },
   "file_extension": ".py",
   "mimetype": "text/x-python",
   "name": "python",
   "nbconvert_exporter": "python",
   "pygments_lexer": "ipython3",
   "version": "3.11.4"
  }
 },
 "nbformat": 4,
 "nbformat_minor": 5
}
