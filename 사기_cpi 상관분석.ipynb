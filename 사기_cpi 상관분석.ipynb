{
 "cells": [
  {
   "cell_type": "code",
   "execution_count": 1,
   "id": "7540bf97-b644-4d5c-87ae-231e2d7cad5d",
   "metadata": {
    "tags": []
   },
   "outputs": [],
   "source": [
    "%matplotlib inline\n",
    "import pandas as pd\n",
    "import matplotlib.pyplot as plt\n",
    "import seaborn as sns\n",
    "%matplotlib inline\n",
    "\n",
    "\n",
    "#데이터 프레임 한글 표시될 수 있도록 설정 - 윈도우, 맥, 리눅스에 맞게 설정됨\n",
    "import platform\n",
    "\n",
    "if platform.system() == 'Windows':\n",
    "    plt.rc('font', family='Malgun Gothic')\n",
    "elif platform.system() == 'Darwin': # Mac\n",
    "    plt.rc('font', family='AppleGothic')\n",
    "else: #linux\n",
    "    plt.rc('font', family='NanumGothic')\n",
    "\n",
    "# 그래프에 마이너스 표시가 되도록 변경\n",
    "plt.rcParams['axes.unicode_minus'] = False"
   ]
  },
  {
   "cell_type": "code",
   "execution_count": 13,
   "id": "766c6ccd-0d7a-45f6-82e8-fc89ac7374e0",
   "metadata": {
    "tags": []
   },
   "outputs": [],
   "source": [
    "crime =pd.read_csv('police_2.csv', encoding='cp949', index_col=[\"죄종별\"])"
   ]
  },
  {
   "cell_type": "code",
   "execution_count": 14,
   "id": "2ffc4393-6aa7-4904-9848-02ee1be36f2b",
   "metadata": {
    "tags": []
   },
   "outputs": [
    {
     "data": {
      "text/html": [
       "<div>\n",
       "<style scoped>\n",
       "    .dataframe tbody tr th:only-of-type {\n",
       "        vertical-align: middle;\n",
       "    }\n",
       "\n",
       "    .dataframe tbody tr th {\n",
       "        vertical-align: top;\n",
       "    }\n",
       "\n",
       "    .dataframe thead th {\n",
       "        text-align: right;\n",
       "    }\n",
       "</style>\n",
       "<table border=\"1\" class=\"dataframe\">\n",
       "  <thead>\n",
       "    <tr style=\"text-align: right;\">\n",
       "      <th></th>\n",
       "      <th>항목</th>\n",
       "      <th>2018</th>\n",
       "      <th>2019</th>\n",
       "      <th>2020</th>\n",
       "      <th>2021</th>\n",
       "      <th>2022</th>\n",
       "    </tr>\n",
       "    <tr>\n",
       "      <th>죄종별</th>\n",
       "      <th></th>\n",
       "      <th></th>\n",
       "      <th></th>\n",
       "      <th></th>\n",
       "      <th></th>\n",
       "      <th></th>\n",
       "    </tr>\n",
       "  </thead>\n",
       "  <tbody>\n",
       "    <tr>\n",
       "      <th>사기</th>\n",
       "      <td>발생건수[건]</td>\n",
       "      <td>270029</td>\n",
       "      <td>304472</td>\n",
       "      <td>347675</td>\n",
       "      <td>294075</td>\n",
       "      <td>325848</td>\n",
       "    </tr>\n",
       "    <tr>\n",
       "      <th>전자금융거래법위반</th>\n",
       "      <td>발생건수[건]</td>\n",
       "      <td>7877</td>\n",
       "      <td>8132</td>\n",
       "      <td>6402</td>\n",
       "      <td>7024</td>\n",
       "      <td>9731</td>\n",
       "    </tr>\n",
       "    <tr>\n",
       "      <th>횡령</th>\n",
       "      <td>발생건수[건]</td>\n",
       "      <td>55113</td>\n",
       "      <td>58508</td>\n",
       "      <td>58889</td>\n",
       "      <td>50421</td>\n",
       "      <td>60220</td>\n",
       "    </tr>\n",
       "    <tr>\n",
       "      <th>도박범죄</th>\n",
       "      <td>발생건수[건]</td>\n",
       "      <td>6004</td>\n",
       "      <td>8008</td>\n",
       "      <td>8135</td>\n",
       "      <td>6391</td>\n",
       "      <td>4463</td>\n",
       "    </tr>\n",
       "  </tbody>\n",
       "</table>\n",
       "</div>"
      ],
      "text/plain": [
       "                항목    2018    2019    2020    2021    2022\n",
       "죄종별                                                       \n",
       "사기         발생건수[건]  270029  304472  347675  294075  325848\n",
       "전자금융거래법위반  발생건수[건]    7877    8132    6402    7024    9731\n",
       "횡령         발생건수[건]   55113   58508   58889   50421   60220\n",
       "도박범죄       발생건수[건]    6004    8008    8135    6391    4463"
      ]
     },
     "execution_count": 14,
     "metadata": {},
     "output_type": "execute_result"
    }
   ],
   "source": [
    "crime"
   ]
  },
  {
   "cell_type": "code",
   "execution_count": 19,
   "id": "e294eb44-b182-4133-abdb-ce14de824fa1",
   "metadata": {
    "tags": []
   },
   "outputs": [
    {
     "data": {
      "text/html": [
       "<div>\n",
       "<style scoped>\n",
       "    .dataframe tbody tr th:only-of-type {\n",
       "        vertical-align: middle;\n",
       "    }\n",
       "\n",
       "    .dataframe tbody tr th {\n",
       "        vertical-align: top;\n",
       "    }\n",
       "\n",
       "    .dataframe thead th {\n",
       "        text-align: right;\n",
       "    }\n",
       "</style>\n",
       "<table border=\"1\" class=\"dataframe\">\n",
       "  <thead>\n",
       "    <tr style=\"text-align: right;\">\n",
       "      <th></th>\n",
       "      <th>2018</th>\n",
       "      <th>2019</th>\n",
       "      <th>2020</th>\n",
       "      <th>2021</th>\n",
       "      <th>2022</th>\n",
       "    </tr>\n",
       "    <tr>\n",
       "      <th>죄종별</th>\n",
       "      <th></th>\n",
       "      <th></th>\n",
       "      <th></th>\n",
       "      <th></th>\n",
       "      <th></th>\n",
       "    </tr>\n",
       "  </thead>\n",
       "  <tbody>\n",
       "    <tr>\n",
       "      <th>사기</th>\n",
       "      <td>270029</td>\n",
       "      <td>304472</td>\n",
       "      <td>347675</td>\n",
       "      <td>294075</td>\n",
       "      <td>325848</td>\n",
       "    </tr>\n",
       "  </tbody>\n",
       "</table>\n",
       "</div>"
      ],
      "text/plain": [
       "       2018    2019    2020    2021    2022\n",
       "죄종별                                        \n",
       "사기   270029  304472  347675  294075  325848"
      ]
     },
     "execution_count": 19,
     "metadata": {},
     "output_type": "execute_result"
    }
   ],
   "source": [
    "#죄종별에서 도박범죄만 남기고 나머지 삭제\n",
    "#항목 열 삭제\n",
    "\n",
    "df_crime = crime.drop(columns=\"항목\", index=[\"도박범죄\", \"전자금융거래법위반\", \"횡령\"])\n",
    "df_crime"
   ]
  },
  {
   "cell_type": "code",
   "execution_count": 22,
   "id": "dba1e4b7-4b9b-4820-b872-2e29de158c16",
   "metadata": {
    "tags": []
   },
   "outputs": [],
   "source": [
    "#죄종별 삭제\n",
    "fruad_crime = df_crime.rename_axis(index={\"죄종별\":\"\"})"
   ]
  },
  {
   "cell_type": "code",
   "execution_count": 23,
   "id": "be2b4a0a-c19d-412b-bb7e-730f508a1f00",
   "metadata": {
    "tags": []
   },
   "outputs": [
    {
     "data": {
      "text/html": [
       "<div>\n",
       "<style scoped>\n",
       "    .dataframe tbody tr th:only-of-type {\n",
       "        vertical-align: middle;\n",
       "    }\n",
       "\n",
       "    .dataframe tbody tr th {\n",
       "        vertical-align: top;\n",
       "    }\n",
       "\n",
       "    .dataframe thead th {\n",
       "        text-align: right;\n",
       "    }\n",
       "</style>\n",
       "<table border=\"1\" class=\"dataframe\">\n",
       "  <thead>\n",
       "    <tr style=\"text-align: right;\">\n",
       "      <th></th>\n",
       "      <th>2018</th>\n",
       "      <th>2019</th>\n",
       "      <th>2020</th>\n",
       "      <th>2021</th>\n",
       "      <th>2022</th>\n",
       "    </tr>\n",
       "    <tr>\n",
       "      <th></th>\n",
       "      <th></th>\n",
       "      <th></th>\n",
       "      <th></th>\n",
       "      <th></th>\n",
       "      <th></th>\n",
       "    </tr>\n",
       "  </thead>\n",
       "  <tbody>\n",
       "    <tr>\n",
       "      <th>사기</th>\n",
       "      <td>270029</td>\n",
       "      <td>304472</td>\n",
       "      <td>347675</td>\n",
       "      <td>294075</td>\n",
       "      <td>325848</td>\n",
       "    </tr>\n",
       "  </tbody>\n",
       "</table>\n",
       "</div>"
      ],
      "text/plain": [
       "      2018    2019    2020    2021    2022\n",
       "                                          \n",
       "사기  270029  304472  347675  294075  325848"
      ]
     },
     "execution_count": 23,
     "metadata": {},
     "output_type": "execute_result"
    }
   ],
   "source": [
    "fruad_crime"
   ]
  },
  {
   "cell_type": "code",
   "execution_count": 24,
   "id": "6df6bc9d-7164-46fd-9d8d-4c582a5c126e",
   "metadata": {
    "tags": []
   },
   "outputs": [
    {
     "data": {
      "text/html": [
       "<div>\n",
       "<style scoped>\n",
       "    .dataframe tbody tr th:only-of-type {\n",
       "        vertical-align: middle;\n",
       "    }\n",
       "\n",
       "    .dataframe tbody tr th {\n",
       "        vertical-align: top;\n",
       "    }\n",
       "\n",
       "    .dataframe thead th {\n",
       "        text-align: right;\n",
       "    }\n",
       "</style>\n",
       "<table border=\"1\" class=\"dataframe\">\n",
       "  <thead>\n",
       "    <tr style=\"text-align: right;\">\n",
       "      <th></th>\n",
       "      <th>사기</th>\n",
       "    </tr>\n",
       "    <tr>\n",
       "      <th>연도</th>\n",
       "      <th></th>\n",
       "    </tr>\n",
       "  </thead>\n",
       "  <tbody>\n",
       "    <tr>\n",
       "      <th>2018</th>\n",
       "      <td>270029</td>\n",
       "    </tr>\n",
       "    <tr>\n",
       "      <th>2019</th>\n",
       "      <td>304472</td>\n",
       "    </tr>\n",
       "    <tr>\n",
       "      <th>2020</th>\n",
       "      <td>347675</td>\n",
       "    </tr>\n",
       "    <tr>\n",
       "      <th>2021</th>\n",
       "      <td>294075</td>\n",
       "    </tr>\n",
       "    <tr>\n",
       "      <th>2022</th>\n",
       "      <td>325848</td>\n",
       "    </tr>\n",
       "  </tbody>\n",
       "</table>\n",
       "</div>"
      ],
      "text/plain": [
       "          사기\n",
       "연도          \n",
       "2018  270029\n",
       "2019  304472\n",
       "2020  347675\n",
       "2021  294075\n",
       "2022  325848"
      ]
     },
     "execution_count": 24,
     "metadata": {},
     "output_type": "execute_result"
    }
   ],
   "source": [
    "fruad_crime.columns.name='연도'\n",
    "fruad_crime=fruad_crime.transpose()\n",
    "fruad_crime"
   ]
  },
  {
   "cell_type": "code",
   "execution_count": 25,
   "id": "d48824ef-8000-42f5-b3d9-c67cecc78665",
   "metadata": {
    "tags": []
   },
   "outputs": [
    {
     "name": "stdout",
     "output_type": "stream",
     "text": [
      "<class 'pandas.core.frame.DataFrame'>\n",
      "Index: 5 entries, 2018 to 2022\n",
      "Data columns (total 1 columns):\n",
      " #   Column  Non-Null Count  Dtype\n",
      "---  ------  --------------  -----\n",
      " 0   사기      5 non-null      int64\n",
      "dtypes: int64(1)\n",
      "memory usage: 252.0+ bytes\n"
     ]
    }
   ],
   "source": [
    "fruad_crime.info()"
   ]
  },
  {
   "cell_type": "code",
   "execution_count": 6,
   "id": "847b2341-a119-4327-a7b5-65890bd971d2",
   "metadata": {
    "tags": []
   },
   "outputs": [
    {
     "data": {
      "text/html": [
       "<div>\n",
       "<style scoped>\n",
       "    .dataframe tbody tr th:only-of-type {\n",
       "        vertical-align: middle;\n",
       "    }\n",
       "\n",
       "    .dataframe tbody tr th {\n",
       "        vertical-align: top;\n",
       "    }\n",
       "\n",
       "    .dataframe thead th {\n",
       "        text-align: right;\n",
       "    }\n",
       "</style>\n",
       "<table border=\"1\" class=\"dataframe\">\n",
       "  <thead>\n",
       "    <tr style=\"text-align: right;\">\n",
       "      <th></th>\n",
       "      <th>소비자물가 총지수(2020=100)</th>\n",
       "      <th>소비자물가상승률(%)</th>\n",
       "    </tr>\n",
       "    <tr>\n",
       "      <th>연도</th>\n",
       "      <th></th>\n",
       "      <th></th>\n",
       "    </tr>\n",
       "  </thead>\n",
       "  <tbody>\n",
       "    <tr>\n",
       "      <th>2018</th>\n",
       "      <td>99.1</td>\n",
       "      <td>1.5</td>\n",
       "    </tr>\n",
       "    <tr>\n",
       "      <th>2019</th>\n",
       "      <td>99.5</td>\n",
       "      <td>0.4</td>\n",
       "    </tr>\n",
       "    <tr>\n",
       "      <th>2020</th>\n",
       "      <td>100.0</td>\n",
       "      <td>0.5</td>\n",
       "    </tr>\n",
       "    <tr>\n",
       "      <th>2021</th>\n",
       "      <td>102.5</td>\n",
       "      <td>2.5</td>\n",
       "    </tr>\n",
       "    <tr>\n",
       "      <th>2022</th>\n",
       "      <td>107.7</td>\n",
       "      <td>5.1</td>\n",
       "    </tr>\n",
       "  </tbody>\n",
       "</table>\n",
       "</div>"
      ],
      "text/plain": [
       "      소비자물가 총지수(2020=100)  소비자물가상승률(%)\n",
       "연도                                    \n",
       "2018                 99.1          1.5\n",
       "2019                 99.5          0.4\n",
       "2020                100.0          0.5\n",
       "2021                102.5          2.5\n",
       "2022                107.7          5.1"
      ]
     },
     "execution_count": 6,
     "metadata": {},
     "output_type": "execute_result"
    }
   ],
   "source": [
    "cpi=pd.read_csv(\"df_cpi.csv\",index_col=[\"연도\"])\n",
    "cpi"
   ]
  },
  {
   "cell_type": "code",
   "execution_count": 26,
   "id": "018dc640-7dde-4ef7-a801-6256f4a6a501",
   "metadata": {
    "tags": []
   },
   "outputs": [
    {
     "name": "stdout",
     "output_type": "stream",
     "text": [
      "<class 'pandas.core.frame.DataFrame'>\n",
      "Int64Index: 5 entries, 2018 to 2022\n",
      "Data columns (total 2 columns):\n",
      " #   Column               Non-Null Count  Dtype  \n",
      "---  ------               --------------  -----  \n",
      " 0   소비자물가 총지수(2020=100)  5 non-null      float64\n",
      " 1   소비자물가상승률(%)          5 non-null      float64\n",
      "dtypes: float64(2)\n",
      "memory usage: 292.0 bytes\n"
     ]
    }
   ],
   "source": [
    "cpi.info()"
   ]
  },
  {
   "cell_type": "code",
   "execution_count": 28,
   "id": "97d01ede-6210-4c0f-84b4-133edc9bab04",
   "metadata": {
    "tags": []
   },
   "outputs": [
    {
     "name": "stdout",
     "output_type": "stream",
     "text": [
      "Index(['2018', '2019', '2020', '2021', '2022'], dtype='object', name='연도')\n",
      "Int64Index([2018, 2019, 2020, 2021, 2022], dtype='int64', name='연도')\n"
     ]
    }
   ],
   "source": [
    "print(fruad_crime.index)\n",
    "print(cpi.index)"
   ]
  },
  {
   "cell_type": "code",
   "execution_count": 29,
   "id": "effa5695-9b5c-43c1-bf15-442760e4576b",
   "metadata": {
    "tags": []
   },
   "outputs": [],
   "source": [
    "fruad_crime.index=fruad_crime.index.astype(int)"
   ]
  },
  {
   "cell_type": "code",
   "execution_count": 32,
   "id": "bf681d53-2f95-4156-872f-8e8ec25759e4",
   "metadata": {
    "tags": []
   },
   "outputs": [
    {
     "data": {
      "text/html": [
       "<div>\n",
       "<style scoped>\n",
       "    .dataframe tbody tr th:only-of-type {\n",
       "        vertical-align: middle;\n",
       "    }\n",
       "\n",
       "    .dataframe tbody tr th {\n",
       "        vertical-align: top;\n",
       "    }\n",
       "\n",
       "    .dataframe thead th {\n",
       "        text-align: right;\n",
       "    }\n",
       "</style>\n",
       "<table border=\"1\" class=\"dataframe\">\n",
       "  <thead>\n",
       "    <tr style=\"text-align: right;\">\n",
       "      <th></th>\n",
       "      <th>사기</th>\n",
       "      <th>소비자물가 총지수(2020=100)</th>\n",
       "      <th>소비자물가상승률(%)</th>\n",
       "    </tr>\n",
       "    <tr>\n",
       "      <th>연도</th>\n",
       "      <th></th>\n",
       "      <th></th>\n",
       "      <th></th>\n",
       "    </tr>\n",
       "  </thead>\n",
       "  <tbody>\n",
       "    <tr>\n",
       "      <th>2018</th>\n",
       "      <td>270029</td>\n",
       "      <td>99.1</td>\n",
       "      <td>1.5</td>\n",
       "    </tr>\n",
       "    <tr>\n",
       "      <th>2019</th>\n",
       "      <td>304472</td>\n",
       "      <td>99.5</td>\n",
       "      <td>0.4</td>\n",
       "    </tr>\n",
       "    <tr>\n",
       "      <th>2020</th>\n",
       "      <td>347675</td>\n",
       "      <td>100.0</td>\n",
       "      <td>0.5</td>\n",
       "    </tr>\n",
       "    <tr>\n",
       "      <th>2021</th>\n",
       "      <td>294075</td>\n",
       "      <td>102.5</td>\n",
       "      <td>2.5</td>\n",
       "    </tr>\n",
       "    <tr>\n",
       "      <th>2022</th>\n",
       "      <td>325848</td>\n",
       "      <td>107.7</td>\n",
       "      <td>5.1</td>\n",
       "    </tr>\n",
       "  </tbody>\n",
       "</table>\n",
       "</div>"
      ],
      "text/plain": [
       "          사기  소비자물가 총지수(2020=100)  소비자물가상승률(%)\n",
       "연도                                            \n",
       "2018  270029                 99.1          1.5\n",
       "2019  304472                 99.5          0.4\n",
       "2020  347675                100.0          0.5\n",
       "2021  294075                102.5          2.5\n",
       "2022  325848                107.7          5.1"
      ]
     },
     "execution_count": 32,
     "metadata": {},
     "output_type": "execute_result"
    }
   ],
   "source": [
    "cpi_fruad=pd.concat([fruad_crime,cpi],axis=1)\n",
    "cpi_fruad"
   ]
  },
  {
   "cell_type": "code",
   "execution_count": 33,
   "id": "19d68dc3-cd25-4831-86df-6f20140638ae",
   "metadata": {
    "tags": []
   },
   "outputs": [
    {
     "name": "stdout",
     "output_type": "stream",
     "text": [
      "<class 'pandas.core.frame.DataFrame'>\n",
      "Int64Index: 5 entries, 2018 to 2022\n",
      "Data columns (total 3 columns):\n",
      " #   Column               Non-Null Count  Dtype  \n",
      "---  ------               --------------  -----  \n",
      " 0   사기                   5 non-null      int64  \n",
      " 1   소비자물가 총지수(2020=100)  5 non-null      float64\n",
      " 2   소비자물가상승률(%)          5 non-null      float64\n",
      "dtypes: float64(2), int64(1)\n",
      "memory usage: 160.0 bytes\n"
     ]
    }
   ],
   "source": [
    "cpi_fruad.info()"
   ]
  },
  {
   "cell_type": "code",
   "execution_count": 35,
   "id": "7ffc7a24-7f9a-4bd0-9b6a-3b3831f772af",
   "metadata": {
    "tags": []
   },
   "outputs": [
    {
     "data": {
      "text/plain": [
       "사기                     0\n",
       "소비자물가 총지수(2020=100)    0\n",
       "소비자물가상승률(%)            0\n",
       "dtype: int64"
      ]
     },
     "execution_count": 35,
     "metadata": {},
     "output_type": "execute_result"
    }
   ],
   "source": [
    "cpi_fruad.isnull().sum()"
   ]
  },
  {
   "cell_type": "code",
   "execution_count": 34,
   "id": "835db225-09f6-478e-8661-0490ebb2341b",
   "metadata": {
    "tags": []
   },
   "outputs": [
    {
     "data": {
      "text/html": [
       "<div>\n",
       "<style scoped>\n",
       "    .dataframe tbody tr th:only-of-type {\n",
       "        vertical-align: middle;\n",
       "    }\n",
       "\n",
       "    .dataframe tbody tr th {\n",
       "        vertical-align: top;\n",
       "    }\n",
       "\n",
       "    .dataframe thead th {\n",
       "        text-align: right;\n",
       "    }\n",
       "</style>\n",
       "<table border=\"1\" class=\"dataframe\">\n",
       "  <thead>\n",
       "    <tr style=\"text-align: right;\">\n",
       "      <th></th>\n",
       "      <th>사기</th>\n",
       "      <th>소비자물가 총지수(2020=100)</th>\n",
       "      <th>소비자물가상승률(%)</th>\n",
       "    </tr>\n",
       "  </thead>\n",
       "  <tbody>\n",
       "    <tr>\n",
       "      <th>count</th>\n",
       "      <td>5.000000</td>\n",
       "      <td>5.000000</td>\n",
       "      <td>5.000000</td>\n",
       "    </tr>\n",
       "    <tr>\n",
       "      <th>mean</th>\n",
       "      <td>308419.800000</td>\n",
       "      <td>101.760000</td>\n",
       "      <td>2.000000</td>\n",
       "    </tr>\n",
       "    <tr>\n",
       "      <th>std</th>\n",
       "      <td>29748.633661</td>\n",
       "      <td>3.574633</td>\n",
       "      <td>1.931321</td>\n",
       "    </tr>\n",
       "    <tr>\n",
       "      <th>min</th>\n",
       "      <td>270029.000000</td>\n",
       "      <td>99.100000</td>\n",
       "      <td>0.400000</td>\n",
       "    </tr>\n",
       "    <tr>\n",
       "      <th>25%</th>\n",
       "      <td>294075.000000</td>\n",
       "      <td>99.500000</td>\n",
       "      <td>0.500000</td>\n",
       "    </tr>\n",
       "    <tr>\n",
       "      <th>50%</th>\n",
       "      <td>304472.000000</td>\n",
       "      <td>100.000000</td>\n",
       "      <td>1.500000</td>\n",
       "    </tr>\n",
       "    <tr>\n",
       "      <th>75%</th>\n",
       "      <td>325848.000000</td>\n",
       "      <td>102.500000</td>\n",
       "      <td>2.500000</td>\n",
       "    </tr>\n",
       "    <tr>\n",
       "      <th>max</th>\n",
       "      <td>347675.000000</td>\n",
       "      <td>107.700000</td>\n",
       "      <td>5.100000</td>\n",
       "    </tr>\n",
       "  </tbody>\n",
       "</table>\n",
       "</div>"
      ],
      "text/plain": [
       "                  사기  소비자물가 총지수(2020=100)  소비자물가상승률(%)\n",
       "count       5.000000             5.000000     5.000000\n",
       "mean   308419.800000           101.760000     2.000000\n",
       "std     29748.633661             3.574633     1.931321\n",
       "min    270029.000000            99.100000     0.400000\n",
       "25%    294075.000000            99.500000     0.500000\n",
       "50%    304472.000000           100.000000     1.500000\n",
       "75%    325848.000000           102.500000     2.500000\n",
       "max    347675.000000           107.700000     5.100000"
      ]
     },
     "execution_count": 34,
     "metadata": {},
     "output_type": "execute_result"
    }
   ],
   "source": [
    "cpi_fruad.describe()"
   ]
  },
  {
   "cell_type": "code",
   "execution_count": 36,
   "id": "a8591542-2a3a-4323-ad11-57b4335889d7",
   "metadata": {
    "tags": []
   },
   "outputs": [
    {
     "data": {
      "text/html": [
       "<div>\n",
       "<style scoped>\n",
       "    .dataframe tbody tr th:only-of-type {\n",
       "        vertical-align: middle;\n",
       "    }\n",
       "\n",
       "    .dataframe tbody tr th {\n",
       "        vertical-align: top;\n",
       "    }\n",
       "\n",
       "    .dataframe thead th {\n",
       "        text-align: right;\n",
       "    }\n",
       "</style>\n",
       "<table border=\"1\" class=\"dataframe\">\n",
       "  <thead>\n",
       "    <tr style=\"text-align: right;\">\n",
       "      <th></th>\n",
       "      <th>사기</th>\n",
       "      <th>소비자물가 총지수(2020=100)</th>\n",
       "      <th>소비자물가상승률(%)</th>\n",
       "    </tr>\n",
       "  </thead>\n",
       "  <tbody>\n",
       "    <tr>\n",
       "      <th>사기</th>\n",
       "      <td>1.000000</td>\n",
       "      <td>0.317050</td>\n",
       "      <td>0.058673</td>\n",
       "    </tr>\n",
       "    <tr>\n",
       "      <th>소비자물가 총지수(2020=100)</th>\n",
       "      <td>0.317050</td>\n",
       "      <td>1.000000</td>\n",
       "      <td>0.954914</td>\n",
       "    </tr>\n",
       "    <tr>\n",
       "      <th>소비자물가상승률(%)</th>\n",
       "      <td>0.058673</td>\n",
       "      <td>0.954914</td>\n",
       "      <td>1.000000</td>\n",
       "    </tr>\n",
       "  </tbody>\n",
       "</table>\n",
       "</div>"
      ],
      "text/plain": [
       "                           사기  소비자물가 총지수(2020=100)  소비자물가상승률(%)\n",
       "사기                   1.000000             0.317050     0.058673\n",
       "소비자물가 총지수(2020=100)  0.317050             1.000000     0.954914\n",
       "소비자물가상승률(%)          0.058673             0.954914     1.000000"
      ]
     },
     "execution_count": 36,
     "metadata": {},
     "output_type": "execute_result"
    }
   ],
   "source": [
    "cpi_fruad.corr(method='pearson')"
   ]
  },
  {
   "cell_type": "code",
   "execution_count": 37,
   "id": "5e989247-f380-4970-a613-57dbad4e2a55",
   "metadata": {
    "tags": []
   },
   "outputs": [
    {
     "data": {
      "text/plain": [
       "<Axes: xlabel='소비자물가 총지수(2020=100)', ylabel='사기'>"
      ]
     },
     "execution_count": 37,
     "metadata": {},
     "output_type": "execute_result"
    },
    {
     "data": {
      "image/png": "[encoded data removed]",
      "text/plain": [
       "<Figure size 640x480 with 1 Axes>"
      ]
     },
     "metadata": {},
     "output_type": "display_data"
    }
   ],
   "source": [
    "cpi_fruad.plot(kind='scatter', x='소비자물가 총지수(2020=100)', y='사기')"
   ]
  }
 ],
 "metadata": {
  "kernelspec": {
   "display_name": "Python 3 (ipykernel)",
   "language": "python",
   "name": "python3"
  },
  "language_info": {
   "codemirror_mode": {
    "name": "ipython",
    "version": 3
   },
   "file_extension": ".py",
   "mimetype": "text/x-python",
   "name": "python",
   "nbconvert_exporter": "python",
   "pygments_lexer": "ipython3",
   "version": "3.11.4"
  }
 },
 "nbformat": 4,
 "nbformat_minor": 5
}
