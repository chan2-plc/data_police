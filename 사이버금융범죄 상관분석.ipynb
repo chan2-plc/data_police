{
 "cells": [
  {
   "cell_type": "code",
   "execution_count": 1,
   "id": "d2807084-02fe-4044-a171-951ff25bc728",
   "metadata": {
    "tags": []
   },
   "outputs": [],
   "source": [
    "import pandas as pd\n",
    "import numpy as np\n",
    "import requests\n",
    "from bs4 import BeautifulSoup\n",
    "import csv\n",
    "import matplotlib.pyplot as plt\n",
    "%matplotlib inline\n",
    "import platform\n",
    "\n",
    "if platform.system() == 'Windows':\n",
    "    plt.rc('font', family='Malgun Gothic')\n",
    "elif platform.system() == 'Darwin': # Mac\n",
    "    plt.rc('font', family='AppleGothic')\n",
    "else: #linux\n",
    "    plt.rc('font', family='NanumGothic')\n",
    "\n",
    "# 그래프에 마이너스 표시가 되도록 변경\n",
    "plt.rcParams['axes.unicode_minus'] = False\n"
   ]
  },
  {
   "cell_type": "code",
   "execution_count": 66,
   "id": "e88ab3bc-0327-4d13-a209-a2006be8ab7b",
   "metadata": {
    "tags": []
   },
   "outputs": [
    {
     "name": "stdout",
     "output_type": "stream",
     "text": [
      "<class 'pandas.core.frame.DataFrame'>\n",
      "RangeIndex: 17 entries, 0 to 16\n",
      "Data columns (total 12 columns):\n",
      " #   Column  Non-Null Count  Dtype  \n",
      "---  ------  --------------  -----  \n",
      " 0   연도      15 non-null     object \n",
      " 1   2012    15 non-null     object \n",
      " 2   2013    14 non-null     float64\n",
      " 3   2014    14 non-null     float64\n",
      " 4   2015    14 non-null     float64\n",
      " 5   2016    14 non-null     float64\n",
      " 6   2017    14 non-null     float64\n",
      " 7   2018    14 non-null     float64\n",
      " 8   2019    14 non-null     float64\n",
      " 9   2020    14 non-null     float64\n",
      " 10  2021    14 non-null     float64\n",
      " 11  2022    14 non-null     float64\n",
      "dtypes: float64(10), object(2)\n",
      "memory usage: 1.7+ KB\n"
     ]
    }
   ],
   "source": [
    "test_cpi=pd.read_excel(r'C:\\Users\\yes_truly\\Desktop\\소비자물가지수.xlsx')\n",
    "test_cpi\n",
    "test_cpi.info()"
   ]
  },
  {
   "cell_type": "code",
   "execution_count": 5,
   "id": "0e53ff16-f294-404c-bdd4-5609902639e7",
   "metadata": {
    "tags": []
   },
   "outputs": [
    {
     "data": {
      "text/html": [
       "<div>\n",
       "<style scoped>\n",
       "    .dataframe tbody tr th:only-of-type {\n",
       "        vertical-align: middle;\n",
       "    }\n",
       "\n",
       "    .dataframe tbody tr th {\n",
       "        vertical-align: top;\n",
       "    }\n",
       "\n",
       "    .dataframe thead th {\n",
       "        text-align: right;\n",
       "    }\n",
       "</style>\n",
       "<table border=\"1\" class=\"dataframe\">\n",
       "  <thead>\n",
       "    <tr style=\"text-align: right;\">\n",
       "      <th></th>\n",
       "      <th>2018</th>\n",
       "      <th>2019</th>\n",
       "      <th>2020</th>\n",
       "      <th>2021</th>\n",
       "      <th>2022</th>\n",
       "    </tr>\n",
       "  </thead>\n",
       "  <tbody>\n",
       "    <tr>\n",
       "      <th>0</th>\n",
       "      <td>99.1</td>\n",
       "      <td>99.5</td>\n",
       "      <td>100.0</td>\n",
       "      <td>102.5</td>\n",
       "      <td>107.7</td>\n",
       "    </tr>\n",
       "    <tr>\n",
       "      <th>1</th>\n",
       "      <td>1.5</td>\n",
       "      <td>0.4</td>\n",
       "      <td>0.5</td>\n",
       "      <td>2.5</td>\n",
       "      <td>5.1</td>\n",
       "    </tr>\n",
       "  </tbody>\n",
       "</table>\n",
       "</div>"
      ],
      "text/plain": [
       "   2018  2019   2020   2021   2022\n",
       "0  99.1  99.5  100.0  102.5  107.7\n",
       "1   1.5   0.4    0.5    2.5    5.1"
      ]
     },
     "execution_count": 5,
     "metadata": {},
     "output_type": "execute_result"
    }
   ],
   "source": [
    "cpi = test_cpi.iloc[0:2, [ 7, 8, 9, 10, 11]]\n",
    "cpi"
   ]
  },
  {
   "cell_type": "code",
   "execution_count": 6,
   "id": "8a15e102-70c1-4097-8d1e-cf1c0c33fa7b",
   "metadata": {
    "tags": []
   },
   "outputs": [
    {
     "name": "stdout",
     "output_type": "stream",
     "text": [
      "2018     99.1\n",
      "2019     99.5\n",
      "2020    100.0\n",
      "2021    102.5\n",
      "2022    107.7\n",
      "Name: 0, dtype: float64\n",
      "2018    1.5\n",
      "2019    0.4\n",
      "2020    0.5\n",
      "2021    2.5\n",
      "2022    5.1\n",
      "Name: 1, dtype: float64\n"
     ]
    }
   ],
   "source": [
    "cpi_columns=cpi.columns\n",
    "first_row=cpi.iloc[0]\n",
    "print(first_row)\n",
    "second_row=cpi.iloc[1]\n",
    "print(second_row)"
   ]
  },
  {
   "cell_type": "code",
   "execution_count": 26,
   "id": "167be56f-22c0-42b9-9598-5fa93bd39fa1",
   "metadata": {
    "tags": []
   },
   "outputs": [
    {
     "data": {
      "text/html": [
       "<div>\n",
       "<style scoped>\n",
       "    .dataframe tbody tr th:only-of-type {\n",
       "        vertical-align: middle;\n",
       "    }\n",
       "\n",
       "    .dataframe tbody tr th {\n",
       "        vertical-align: top;\n",
       "    }\n",
       "\n",
       "    .dataframe thead th {\n",
       "        text-align: right;\n",
       "    }\n",
       "</style>\n",
       "<table border=\"1\" class=\"dataframe\">\n",
       "  <thead>\n",
       "    <tr style=\"text-align: right;\">\n",
       "      <th>연도</th>\n",
       "      <th>2018</th>\n",
       "      <th>2019</th>\n",
       "      <th>2020</th>\n",
       "      <th>2021</th>\n",
       "      <th>2022</th>\n",
       "    </tr>\n",
       "  </thead>\n",
       "  <tbody>\n",
       "    <tr>\n",
       "      <th>소비자물가 총지수(2020=100)</th>\n",
       "      <td>99.1</td>\n",
       "      <td>99.5</td>\n",
       "      <td>100.0</td>\n",
       "      <td>102.5</td>\n",
       "      <td>107.7</td>\n",
       "    </tr>\n",
       "    <tr>\n",
       "      <th>소비자물가상승률(%)</th>\n",
       "      <td>1.5</td>\n",
       "      <td>0.4</td>\n",
       "      <td>0.5</td>\n",
       "      <td>2.5</td>\n",
       "      <td>5.1</td>\n",
       "    </tr>\n",
       "  </tbody>\n",
       "</table>\n",
       "</div>"
      ],
      "text/plain": [
       "연도                   2018  2019   2020   2021   2022\n",
       "소비자물가 총지수(2020=100)  99.1  99.5  100.0  102.5  107.7\n",
       "소비자물가상승률(%)           1.5   0.4    0.5    2.5    5.1"
      ]
     },
     "execution_count": 26,
     "metadata": {},
     "output_type": "execute_result"
    }
   ],
   "source": [
    "df_cpi = pd.DataFrame([first_row.values, second_row.values],index=[\"소비자물가 총지수(2020=100)\",\"소비자물가상승률(%)\"],columns=cpi.columns)\n",
    "df_cpi"
   ]
  },
  {
   "cell_type": "code",
   "execution_count": 27,
   "id": "246c5781-70f3-4f80-911d-1d8df9ec4fcd",
   "metadata": {
    "tags": []
   },
   "outputs": [
    {
     "data": {
      "text/html": [
       "<div>\n",
       "<style scoped>\n",
       "    .dataframe tbody tr th:only-of-type {\n",
       "        vertical-align: middle;\n",
       "    }\n",
       "\n",
       "    .dataframe tbody tr th {\n",
       "        vertical-align: top;\n",
       "    }\n",
       "\n",
       "    .dataframe thead th {\n",
       "        text-align: right;\n",
       "    }\n",
       "</style>\n",
       "<table border=\"1\" class=\"dataframe\">\n",
       "  <thead>\n",
       "    <tr style=\"text-align: right;\">\n",
       "      <th></th>\n",
       "      <th>소비자물가 총지수(2020=100)</th>\n",
       "      <th>소비자물가상승률(%)</th>\n",
       "    </tr>\n",
       "    <tr>\n",
       "      <th>연도</th>\n",
       "      <th></th>\n",
       "      <th></th>\n",
       "    </tr>\n",
       "  </thead>\n",
       "  <tbody>\n",
       "    <tr>\n",
       "      <th>2018</th>\n",
       "      <td>99.1</td>\n",
       "      <td>1.5</td>\n",
       "    </tr>\n",
       "    <tr>\n",
       "      <th>2019</th>\n",
       "      <td>99.5</td>\n",
       "      <td>0.4</td>\n",
       "    </tr>\n",
       "    <tr>\n",
       "      <th>2020</th>\n",
       "      <td>100.0</td>\n",
       "      <td>0.5</td>\n",
       "    </tr>\n",
       "    <tr>\n",
       "      <th>2021</th>\n",
       "      <td>102.5</td>\n",
       "      <td>2.5</td>\n",
       "    </tr>\n",
       "    <tr>\n",
       "      <th>2022</th>\n",
       "      <td>107.7</td>\n",
       "      <td>5.1</td>\n",
       "    </tr>\n",
       "  </tbody>\n",
       "</table>\n",
       "</div>"
      ],
      "text/plain": [
       "      소비자물가 총지수(2020=100)  소비자물가상승률(%)\n",
       "연도                                    \n",
       "2018                 99.1          1.5\n",
       "2019                 99.5          0.4\n",
       "2020                100.0          0.5\n",
       "2021                102.5          2.5\n",
       "2022                107.7          5.1"
      ]
     },
     "execution_count": 27,
     "metadata": {},
     "output_type": "execute_result"
    }
   ],
   "source": [
    "df_cpi.columns.name='연도'\n",
    "df_cpi=df_cpi.transpose()\n",
    "df_cpi"
   ]
  },
  {
   "cell_type": "code",
   "execution_count": 28,
   "id": "91e3d661-f007-4c6c-b67a-b1d5bb03515e",
   "metadata": {
    "tags": []
   },
   "outputs": [
    {
     "data": {
      "text/html": [
       "<div>\n",
       "<style scoped>\n",
       "    .dataframe tbody tr th:only-of-type {\n",
       "        vertical-align: middle;\n",
       "    }\n",
       "\n",
       "    .dataframe tbody tr th {\n",
       "        vertical-align: top;\n",
       "    }\n",
       "\n",
       "    .dataframe thead th {\n",
       "        text-align: right;\n",
       "    }\n",
       "</style>\n",
       "<table border=\"1\" class=\"dataframe\">\n",
       "  <thead>\n",
       "    <tr style=\"text-align: right;\">\n",
       "      <th></th>\n",
       "      <th>구 분</th>\n",
       "      <th>총 계</th>\n",
       "      <th>소계</th>\n",
       "      <th>해킹</th>\n",
       "      <th>DDoS</th>\n",
       "      <th>악성프로그램</th>\n",
       "      <th>기타</th>\n",
       "      <th>소계.1</th>\n",
       "      <th>사이버사기</th>\n",
       "      <th>사이버금융범죄</th>\n",
       "      <th>개인위치정보침해</th>\n",
       "      <th>사이버저작권침해</th>\n",
       "      <th>기타.1</th>\n",
       "      <th>소계.2</th>\n",
       "      <th>사이버성폭력</th>\n",
       "      <th>사이버도박</th>\n",
       "      <th>사이버명예훼손모욕</th>\n",
       "      <th>기타.2</th>\n",
       "    </tr>\n",
       "    <tr>\n",
       "      <th>연도</th>\n",
       "      <th></th>\n",
       "      <th></th>\n",
       "      <th></th>\n",
       "      <th></th>\n",
       "      <th></th>\n",
       "      <th></th>\n",
       "      <th></th>\n",
       "      <th></th>\n",
       "      <th></th>\n",
       "      <th></th>\n",
       "      <th></th>\n",
       "      <th></th>\n",
       "      <th></th>\n",
       "      <th></th>\n",
       "      <th></th>\n",
       "      <th></th>\n",
       "      <th></th>\n",
       "      <th></th>\n",
       "    </tr>\n",
       "  </thead>\n",
       "  <tbody>\n",
       "    <tr>\n",
       "      <th>2018</th>\n",
       "      <td>발생</td>\n",
       "      <td>149604</td>\n",
       "      <td>2888</td>\n",
       "      <td>2178</td>\n",
       "      <td>20</td>\n",
       "      <td>119</td>\n",
       "      <td>571</td>\n",
       "      <td>123677</td>\n",
       "      <td>112000</td>\n",
       "      <td>5621</td>\n",
       "      <td>246</td>\n",
       "      <td>3856</td>\n",
       "      <td>1954</td>\n",
       "      <td>23039</td>\n",
       "      <td>3833</td>\n",
       "      <td>3012</td>\n",
       "      <td>15926</td>\n",
       "      <td>268</td>\n",
       "    </tr>\n",
       "    <tr>\n",
       "      <th>2019</th>\n",
       "      <td>발생</td>\n",
       "      <td>180499</td>\n",
       "      <td>3638</td>\n",
       "      <td>2664</td>\n",
       "      <td>35</td>\n",
       "      <td>270</td>\n",
       "      <td>669</td>\n",
       "      <td>151916</td>\n",
       "      <td>136074</td>\n",
       "      <td>10542</td>\n",
       "      <td>179</td>\n",
       "      <td>2562</td>\n",
       "      <td>2559</td>\n",
       "      <td>24945</td>\n",
       "      <td>2690</td>\n",
       "      <td>5346</td>\n",
       "      <td>16633</td>\n",
       "      <td>276</td>\n",
       "    </tr>\n",
       "    <tr>\n",
       "      <th>2020</th>\n",
       "      <td>발생</td>\n",
       "      <td>234098</td>\n",
       "      <td>4344</td>\n",
       "      <td>3176</td>\n",
       "      <td>25</td>\n",
       "      <td>169</td>\n",
       "      <td>974</td>\n",
       "      <td>199594</td>\n",
       "      <td>174328</td>\n",
       "      <td>20248</td>\n",
       "      <td>241</td>\n",
       "      <td>2183</td>\n",
       "      <td>2594</td>\n",
       "      <td>30160</td>\n",
       "      <td>4831</td>\n",
       "      <td>5692</td>\n",
       "      <td>19388</td>\n",
       "      <td>249</td>\n",
       "    </tr>\n",
       "    <tr>\n",
       "      <th>2021</th>\n",
       "      <td>발생</td>\n",
       "      <td>217807</td>\n",
       "      <td>3845</td>\n",
       "      <td>2839</td>\n",
       "      <td>14</td>\n",
       "      <td>157</td>\n",
       "      <td>835</td>\n",
       "      <td>174648</td>\n",
       "      <td>141154</td>\n",
       "      <td>28123</td>\n",
       "      <td>217</td>\n",
       "      <td>2423</td>\n",
       "      <td>2767</td>\n",
       "      <td>39278</td>\n",
       "      <td>4349</td>\n",
       "      <td>5505</td>\n",
       "      <td>28988</td>\n",
       "      <td>436</td>\n",
       "    </tr>\n",
       "    <tr>\n",
       "      <th>2022</th>\n",
       "      <td>발생</td>\n",
       "      <td>230355</td>\n",
       "      <td>3494</td>\n",
       "      <td>2396</td>\n",
       "      <td>30</td>\n",
       "      <td>185</td>\n",
       "      <td>883</td>\n",
       "      <td>190958</td>\n",
       "      <td>155715</td>\n",
       "      <td>28546</td>\n",
       "      <td>247</td>\n",
       "      <td>3302</td>\n",
       "      <td>3148</td>\n",
       "      <td>35903</td>\n",
       "      <td>3201</td>\n",
       "      <td>2997</td>\n",
       "      <td>29258</td>\n",
       "      <td>447</td>\n",
       "    </tr>\n",
       "  </tbody>\n",
       "</table>\n",
       "</div>"
      ],
      "text/plain": [
       "     구 분     총 계    소계    해킹  DDoS  악성프로그램   기타    소계.1   사이버사기  사이버금융범죄  \\\n",
       "연도                                                                         \n",
       "2018  발생  149604  2888  2178    20     119  571  123677  112000     5621   \n",
       "2019  발생  180499  3638  2664    35     270  669  151916  136074    10542   \n",
       "2020  발생  234098  4344  3176    25     169  974  199594  174328    20248   \n",
       "2021  발생  217807  3845  2839    14     157  835  174648  141154    28123   \n",
       "2022  발생  230355  3494  2396    30     185  883  190958  155715    28546   \n",
       "\n",
       "      개인위치정보침해  사이버저작권침해  기타.1   소계.2  사이버성폭력  사이버도박  사이버명예훼손모욕  기타.2  \n",
       "연도                                                                     \n",
       "2018       246      3856  1954  23039    3833   3012      15926   268  \n",
       "2019       179      2562  2559  24945    2690   5346      16633   276  \n",
       "2020       241      2183  2594  30160    4831   5692      19388   249  \n",
       "2021       217      2423  2767  39278    4349   5505      28988   436  \n",
       "2022       247      3302  3148  35903    3201   2997      29258   447  "
      ]
     },
     "execution_count": 28,
     "metadata": {},
     "output_type": "execute_result"
    }
   ],
   "source": [
    "cyber_crime = pd.read_csv(\"CyberCrime.csv\",index_col=['연도'], thousands = ',',encoding='UTF-8')\n",
    "cyber_crime = cyber_crime.iloc[::2]\n",
    "cyber_crime"
   ]
  },
  {
   "cell_type": "code",
   "execution_count": 29,
   "id": "fc61a862-9e98-47be-917c-8493fbbb33ee",
   "metadata": {
    "tags": []
   },
   "outputs": [
    {
     "name": "stdout",
     "output_type": "stream",
     "text": [
      "<class 'pandas.core.frame.DataFrame'>\n",
      "Int64Index: 5 entries, 2018 to 2022\n",
      "Data columns (total 18 columns):\n",
      " #   Column     Non-Null Count  Dtype \n",
      "---  ------     --------------  ----- \n",
      " 0   구 분        5 non-null      object\n",
      " 1   총 계        5 non-null      int64 \n",
      " 2   소계         5 non-null      int64 \n",
      " 3   해킹         5 non-null      int64 \n",
      " 4   DDoS       5 non-null      int64 \n",
      " 5   악성프로그램     5 non-null      int64 \n",
      " 6   기타         5 non-null      int64 \n",
      " 7   소계.1       5 non-null      int64 \n",
      " 8   사이버사기      5 non-null      int64 \n",
      " 9   사이버금융범죄    5 non-null      int64 \n",
      " 10  개인위치정보침해   5 non-null      int64 \n",
      " 11  사이버저작권침해   5 non-null      int64 \n",
      " 12  기타.1       5 non-null      int64 \n",
      " 13  소계.2       5 non-null      int64 \n",
      " 14  사이버성폭력     5 non-null      int64 \n",
      " 15  사이버도박      5 non-null      int64 \n",
      " 16  사이버명예훼손모욕  5 non-null      int64 \n",
      " 17  기타.2       5 non-null      int64 \n",
      "dtypes: int64(17), object(1)\n",
      "memory usage: 760.0+ bytes\n"
     ]
    }
   ],
   "source": [
    "cyber_crime.info()"
   ]
  },
  {
   "cell_type": "code",
   "execution_count": 33,
   "id": "df39fbd0-e044-4580-b9e9-bb9a12be7981",
   "metadata": {
    "tags": []
   },
   "outputs": [
    {
     "name": "stdout",
     "output_type": "stream",
     "text": [
      "<class 'pandas.core.frame.DataFrame'>\n",
      "Int64Index: 5 entries, 2018 to 2022\n",
      "Data columns (total 2 columns):\n",
      " #   Column   Non-Null Count  Dtype\n",
      "---  ------   --------------  -----\n",
      " 0   사이버금융범죄  5 non-null      int64\n",
      " 1   사이버도박    5 non-null      int64\n",
      "dtypes: int64(2)\n",
      "memory usage: 292.0 bytes\n"
     ]
    },
    {
     "data": {
      "text/html": [
       "<div>\n",
       "<style scoped>\n",
       "    .dataframe tbody tr th:only-of-type {\n",
       "        vertical-align: middle;\n",
       "    }\n",
       "\n",
       "    .dataframe tbody tr th {\n",
       "        vertical-align: top;\n",
       "    }\n",
       "\n",
       "    .dataframe thead th {\n",
       "        text-align: right;\n",
       "    }\n",
       "</style>\n",
       "<table border=\"1\" class=\"dataframe\">\n",
       "  <thead>\n",
       "    <tr style=\"text-align: right;\">\n",
       "      <th></th>\n",
       "      <th>사이버금융범죄</th>\n",
       "      <th>사이버도박</th>\n",
       "    </tr>\n",
       "    <tr>\n",
       "      <th>연도</th>\n",
       "      <th></th>\n",
       "      <th></th>\n",
       "    </tr>\n",
       "  </thead>\n",
       "  <tbody>\n",
       "    <tr>\n",
       "      <th>2018</th>\n",
       "      <td>5621</td>\n",
       "      <td>3012</td>\n",
       "    </tr>\n",
       "    <tr>\n",
       "      <th>2019</th>\n",
       "      <td>10542</td>\n",
       "      <td>5346</td>\n",
       "    </tr>\n",
       "    <tr>\n",
       "      <th>2020</th>\n",
       "      <td>20248</td>\n",
       "      <td>5692</td>\n",
       "    </tr>\n",
       "    <tr>\n",
       "      <th>2021</th>\n",
       "      <td>28123</td>\n",
       "      <td>5505</td>\n",
       "    </tr>\n",
       "    <tr>\n",
       "      <th>2022</th>\n",
       "      <td>28546</td>\n",
       "      <td>2997</td>\n",
       "    </tr>\n",
       "  </tbody>\n",
       "</table>\n",
       "</div>"
      ],
      "text/plain": [
       "      사이버금융범죄  사이버도박\n",
       "연도                  \n",
       "2018     5621   3012\n",
       "2019    10542   5346\n",
       "2020    20248   5692\n",
       "2021    28123   5505\n",
       "2022    28546   2997"
      ]
     },
     "execution_count": 33,
     "metadata": {},
     "output_type": "execute_result"
    }
   ],
   "source": [
    "cyber_crime_occur = cyber_crime.iloc[:,[9,15]]\n",
    "cyber_crime_occur.info()\n",
    "cyber_crime_occur"
   ]
  },
  {
   "cell_type": "code",
   "execution_count": 36,
   "id": "aab91541-099c-449a-a9f7-c2ef333e25b6",
   "metadata": {
    "tags": []
   },
   "outputs": [
    {
     "data": {
      "text/html": [
       "<div>\n",
       "<style scoped>\n",
       "    .dataframe tbody tr th:only-of-type {\n",
       "        vertical-align: middle;\n",
       "    }\n",
       "\n",
       "    .dataframe tbody tr th {\n",
       "        vertical-align: top;\n",
       "    }\n",
       "\n",
       "    .dataframe thead th {\n",
       "        text-align: right;\n",
       "    }\n",
       "</style>\n",
       "<table border=\"1\" class=\"dataframe\">\n",
       "  <thead>\n",
       "    <tr style=\"text-align: right;\">\n",
       "      <th></th>\n",
       "      <th>소비자물가 총지수(2020=100)</th>\n",
       "      <th>소비자물가상승률(%)</th>\n",
       "      <th>사이버금융범죄</th>\n",
       "      <th>사이버도박</th>\n",
       "    </tr>\n",
       "    <tr>\n",
       "      <th>연도</th>\n",
       "      <th></th>\n",
       "      <th></th>\n",
       "      <th></th>\n",
       "      <th></th>\n",
       "    </tr>\n",
       "  </thead>\n",
       "  <tbody>\n",
       "    <tr>\n",
       "      <th>2018</th>\n",
       "      <td>99.1</td>\n",
       "      <td>1.5</td>\n",
       "      <td>5621</td>\n",
       "      <td>3012</td>\n",
       "    </tr>\n",
       "    <tr>\n",
       "      <th>2019</th>\n",
       "      <td>99.5</td>\n",
       "      <td>0.4</td>\n",
       "      <td>10542</td>\n",
       "      <td>5346</td>\n",
       "    </tr>\n",
       "    <tr>\n",
       "      <th>2020</th>\n",
       "      <td>100.0</td>\n",
       "      <td>0.5</td>\n",
       "      <td>20248</td>\n",
       "      <td>5692</td>\n",
       "    </tr>\n",
       "    <tr>\n",
       "      <th>2021</th>\n",
       "      <td>102.5</td>\n",
       "      <td>2.5</td>\n",
       "      <td>28123</td>\n",
       "      <td>5505</td>\n",
       "    </tr>\n",
       "    <tr>\n",
       "      <th>2022</th>\n",
       "      <td>107.7</td>\n",
       "      <td>5.1</td>\n",
       "      <td>28546</td>\n",
       "      <td>2997</td>\n",
       "    </tr>\n",
       "  </tbody>\n",
       "</table>\n",
       "</div>"
      ],
      "text/plain": [
       "      소비자물가 총지수(2020=100)  소비자물가상승률(%)  사이버금융범죄  사이버도박\n",
       "연도                                                    \n",
       "2018                 99.1          1.5     5621   3012\n",
       "2019                 99.5          0.4    10542   5346\n",
       "2020                100.0          0.5    20248   5692\n",
       "2021                102.5          2.5    28123   5505\n",
       "2022                107.7          5.1    28546   2997"
      ]
     },
     "execution_count": 36,
     "metadata": {},
     "output_type": "execute_result"
    }
   ],
   "source": [
    "cpi_cyber_crime = pd.concat([df_cpi, cyber_crime_occur], axis=1)\n",
    "cpi_cyber_crime "
   ]
  },
  {
   "cell_type": "code",
   "execution_count": 37,
   "id": "5acc767d-1ccb-4105-aa6e-ee4a2b8ed920",
   "metadata": {
    "tags": []
   },
   "outputs": [
    {
     "name": "stdout",
     "output_type": "stream",
     "text": [
      "<class 'pandas.core.frame.DataFrame'>\n",
      "Index: 5 entries, 2018 to 2022\n",
      "Data columns (total 4 columns):\n",
      " #   Column               Non-Null Count  Dtype  \n",
      "---  ------               --------------  -----  \n",
      " 0   소비자물가 총지수(2020=100)  5 non-null      float64\n",
      " 1   소비자물가상승률(%)          5 non-null      float64\n",
      " 2   사이버금융범죄              5 non-null      int64  \n",
      " 3   사이버도박                5 non-null      int64  \n",
      "dtypes: float64(2), int64(2)\n",
      "memory usage: 372.0+ bytes\n"
     ]
    }
   ],
   "source": [
    "cpi_cyber_crime.info()"
   ]
  },
  {
   "cell_type": "code",
   "execution_count": 39,
   "id": "b7f1b093-3ded-4b45-a545-896d7d7b8f80",
   "metadata": {
    "tags": []
   },
   "outputs": [
    {
     "data": {
      "text/plain": [
       "소비자물가 총지수(2020=100)    0\n",
       "소비자물가상승률(%)            0\n",
       "사이버금융범죄                0\n",
       "사이버도박                  0\n",
       "dtype: int64"
      ]
     },
     "execution_count": 39,
     "metadata": {},
     "output_type": "execute_result"
    }
   ],
   "source": [
    "cpi_cyber_crime.isnull().sum()"
   ]
  },
  {
   "cell_type": "code",
   "execution_count": 41,
   "id": "59c6682e-27d6-4f75-b75b-9b623639e373",
   "metadata": {
    "tags": []
   },
   "outputs": [
    {
     "data": {
      "text/html": [
       "<div>\n",
       "<style scoped>\n",
       "    .dataframe tbody tr th:only-of-type {\n",
       "        vertical-align: middle;\n",
       "    }\n",
       "\n",
       "    .dataframe tbody tr th {\n",
       "        vertical-align: top;\n",
       "    }\n",
       "\n",
       "    .dataframe thead th {\n",
       "        text-align: right;\n",
       "    }\n",
       "</style>\n",
       "<table border=\"1\" class=\"dataframe\">\n",
       "  <thead>\n",
       "    <tr style=\"text-align: right;\">\n",
       "      <th></th>\n",
       "      <th>소비자물가 총지수(2020=100)</th>\n",
       "      <th>소비자물가상승률(%)</th>\n",
       "      <th>사이버금융범죄</th>\n",
       "      <th>사이버도박</th>\n",
       "    </tr>\n",
       "  </thead>\n",
       "  <tbody>\n",
       "    <tr>\n",
       "      <th>count</th>\n",
       "      <td>5.000000</td>\n",
       "      <td>5.000000</td>\n",
       "      <td>5.000000</td>\n",
       "      <td>5.000000</td>\n",
       "    </tr>\n",
       "    <tr>\n",
       "      <th>mean</th>\n",
       "      <td>101.760000</td>\n",
       "      <td>2.000000</td>\n",
       "      <td>18616.000000</td>\n",
       "      <td>4510.400000</td>\n",
       "    </tr>\n",
       "    <tr>\n",
       "      <th>std</th>\n",
       "      <td>3.574633</td>\n",
       "      <td>1.931321</td>\n",
       "      <td>10316.381076</td>\n",
       "      <td>1380.146478</td>\n",
       "    </tr>\n",
       "    <tr>\n",
       "      <th>min</th>\n",
       "      <td>99.100000</td>\n",
       "      <td>0.400000</td>\n",
       "      <td>5621.000000</td>\n",
       "      <td>2997.000000</td>\n",
       "    </tr>\n",
       "    <tr>\n",
       "      <th>25%</th>\n",
       "      <td>99.500000</td>\n",
       "      <td>0.500000</td>\n",
       "      <td>10542.000000</td>\n",
       "      <td>3012.000000</td>\n",
       "    </tr>\n",
       "    <tr>\n",
       "      <th>50%</th>\n",
       "      <td>100.000000</td>\n",
       "      <td>1.500000</td>\n",
       "      <td>20248.000000</td>\n",
       "      <td>5346.000000</td>\n",
       "    </tr>\n",
       "    <tr>\n",
       "      <th>75%</th>\n",
       "      <td>102.500000</td>\n",
       "      <td>2.500000</td>\n",
       "      <td>28123.000000</td>\n",
       "      <td>5505.000000</td>\n",
       "    </tr>\n",
       "    <tr>\n",
       "      <th>max</th>\n",
       "      <td>107.700000</td>\n",
       "      <td>5.100000</td>\n",
       "      <td>28546.000000</td>\n",
       "      <td>5692.000000</td>\n",
       "    </tr>\n",
       "  </tbody>\n",
       "</table>\n",
       "</div>"
      ],
      "text/plain": [
       "       소비자물가 총지수(2020=100)  소비자물가상승률(%)       사이버금융범죄        사이버도박\n",
       "count             5.000000     5.000000      5.000000     5.000000\n",
       "mean            101.760000     2.000000  18616.000000  4510.400000\n",
       "std               3.574633     1.931321  10316.381076  1380.146478\n",
       "min              99.100000     0.400000   5621.000000  2997.000000\n",
       "25%              99.500000     0.500000  10542.000000  3012.000000\n",
       "50%             100.000000     1.500000  20248.000000  5346.000000\n",
       "75%             102.500000     2.500000  28123.000000  5505.000000\n",
       "max             107.700000     5.100000  28546.000000  5692.000000"
      ]
     },
     "execution_count": 41,
     "metadata": {},
     "output_type": "execute_result"
    }
   ],
   "source": [
    "cpi_cyber_crime.describe()\n",
    "\n",
    "#소비자물가상승률은 평균적으로 2%, 사이버 금융범죄 발생은 평균적으로 18616건 발생, 사이버도박은 4510건 발생 확인 가능"
   ]
  },
  {
   "cell_type": "code",
   "execution_count": 48,
   "id": "2765fc9a-051a-4002-9d2b-ff0afa6d30d6",
   "metadata": {
    "tags": []
   },
   "outputs": [
    {
     "data": {
      "text/html": [
       "<div>\n",
       "<style scoped>\n",
       "    .dataframe tbody tr th:only-of-type {\n",
       "        vertical-align: middle;\n",
       "    }\n",
       "\n",
       "    .dataframe tbody tr th {\n",
       "        vertical-align: top;\n",
       "    }\n",
       "\n",
       "    .dataframe thead th {\n",
       "        text-align: right;\n",
       "    }\n",
       "</style>\n",
       "<table border=\"1\" class=\"dataframe\">\n",
       "  <thead>\n",
       "    <tr style=\"text-align: right;\">\n",
       "      <th></th>\n",
       "      <th>소비자물가 총지수(2020=100)</th>\n",
       "      <th>소비자물가상승률(%)</th>\n",
       "      <th>사이버금융범죄</th>\n",
       "      <th>사이버도박</th>\n",
       "    </tr>\n",
       "  </thead>\n",
       "  <tbody>\n",
       "    <tr>\n",
       "      <th>소비자물가 총지수(2020=100)</th>\n",
       "      <td>1.000000</td>\n",
       "      <td>0.954914</td>\n",
       "      <td>0.786128</td>\n",
       "      <td>-0.417345</td>\n",
       "    </tr>\n",
       "    <tr>\n",
       "      <th>소비자물가상승률(%)</th>\n",
       "      <td>0.954914</td>\n",
       "      <td>1.000000</td>\n",
       "      <td>0.658800</td>\n",
       "      <td>-0.614743</td>\n",
       "    </tr>\n",
       "    <tr>\n",
       "      <th>사이버금융범죄</th>\n",
       "      <td>0.786128</td>\n",
       "      <td>0.658800</td>\n",
       "      <td>1.000000</td>\n",
       "      <td>0.159450</td>\n",
       "    </tr>\n",
       "    <tr>\n",
       "      <th>사이버도박</th>\n",
       "      <td>-0.417345</td>\n",
       "      <td>-0.614743</td>\n",
       "      <td>0.159450</td>\n",
       "      <td>1.000000</td>\n",
       "    </tr>\n",
       "  </tbody>\n",
       "</table>\n",
       "</div>"
      ],
      "text/plain": [
       "                     소비자물가 총지수(2020=100)  소비자물가상승률(%)   사이버금융범죄     사이버도박\n",
       "소비자물가 총지수(2020=100)             1.000000     0.954914  0.786128 -0.417345\n",
       "소비자물가상승률(%)                     0.954914     1.000000  0.658800 -0.614743\n",
       "사이버금융범죄                         0.786128     0.658800  1.000000  0.159450\n",
       "사이버도박                          -0.417345    -0.614743  0.159450  1.000000"
      ]
     },
     "execution_count": 48,
     "metadata": {},
     "output_type": "execute_result"
    }
   ],
   "source": [
    "cpi_cyber_crime.corr(method='pearson')\n",
    "#사이버 금융범죄의 발생횟수와 소비자물가상숭률, 총지수 모두 양의 상관지수를 가짐\n",
    "#따라서 소비자물가지수와 사이버금융범죄 간의 양의 상관관계가 있음 \n",
    "\n",
    "#사이버 도박의 발생횟수와 소비자물가상숭률, 총지수 모두 음의 상관지수를 가짐\n",
    "#따라서 소비자물가지수와 사이버금융범죄 간의 음의 선형관계가 있음 "
   ]
  },
  {
   "cell_type": "code",
   "execution_count": 62,
   "id": "7a293168-339a-449e-84c4-1b32e9481bb8",
   "metadata": {
    "tags": []
   },
   "outputs": [
    {
     "data": {
      "text/plain": [
       "<Axes: xlabel='소비자물가 총지수(2020=100)', ylabel='사이버금융범죄'>"
      ]
     },
     "execution_count": 62,
     "metadata": {},
     "output_type": "execute_result"
    },
    {
     "data": {
      "image/png": "[encoded data removed]",
      "text/plain": [
       "<Figure size 640x480 with 1 Axes>"
      ]
     },
     "metadata": {},
     "output_type": "display_data"
    }
   ],
   "source": [
    "cpi_cyber_crime.plot(kind='scatter', x='소비자물가 총지수(2020=100)', y='사이버금융범죄')"
   ]
  },
  {
   "cell_type": "code",
   "execution_count": 63,
   "id": "adc85519-247f-4e3f-84cf-6ab17a3350e6",
   "metadata": {
    "tags": []
   },
   "outputs": [
    {
     "data": {
      "text/plain": [
       "<Axes: xlabel='소비자물가상승률(%)', ylabel='사이버금융범죄'>"
      ]
     },
     "execution_count": 63,
     "metadata": {},
     "output_type": "execute_result"
    },
    {
     "data": {
      "image/png": "[encoded data removed]",
      "text/plain": [
       "<Figure size 640x480 with 1 Axes>"
      ]
     },
     "metadata": {},
     "output_type": "display_data"
    }
   ],
   "source": [
    "cpi_cyber_crime.plot(kind='scatter', x='소비자물가상승률(%)', y='사이버금융범죄')"
   ]
  },
  {
   "cell_type": "code",
   "execution_count": 64,
   "id": "19c175ed-9f78-441b-87bf-5bd209f130a4",
   "metadata": {
    "tags": []
   },
   "outputs": [
    {
     "data": {
      "text/plain": [
       "<Axes: xlabel='소비자물가 총지수(2020=100)', ylabel='사이버도박'>"
      ]
     },
     "execution_count": 64,
     "metadata": {},
     "output_type": "execute_result"
    },
    {
     "data": {
      "image/png": "[encoded data removed]",
      "text/plain": [
       "<Figure size 640x480 with 1 Axes>"
      ]
     },
     "metadata": {},
     "output_type": "display_data"
    }
   ],
   "source": [
    "cpi_cyber_crime.plot(kind='scatter', x='소비자물가 총지수(2020=100)', y='사이버도박')"
   ]
  },
  {
   "cell_type": "code",
   "execution_count": 65,
   "id": "54ca94c5-9b40-4a05-abfd-8fa00108b594",
   "metadata": {
    "tags": []
   },
   "outputs": [
    {
     "data": {
      "text/plain": [
       "<Axes: xlabel='소비자물가상승률(%)', ylabel='사이버도박'>"
      ]
     },
     "execution_count": 65,
     "metadata": {},
     "output_type": "execute_result"
    },
    {
     "data": {
      "image/png": "[encoded data removed]",
      "text/plain": [
       "<Figure size 640x480 with 1 Axes>"
      ]
     },
     "metadata": {},
     "output_type": "display_data"
    }
   ],
   "source": [
    "cpi_cyber_crime.plot(kind='scatter', x='소비자물가상승률(%)', y='사이버도박')"
   ]
  }
 ],
 "metadata": {
  "kernelspec": {
   "display_name": "Python 3 (ipykernel)",
   "language": "python",
   "name": "python3"
  },
  "language_info": {
   "codemirror_mode": {
    "name": "ipython",
    "version": 3
   },
   "file_extension": ".py",
   "mimetype": "text/x-python",
   "name": "python",
   "nbconvert_exporter": "python",
   "pygments_lexer": "ipython3",
   "version": "3.11.4"
  }
 },
 "nbformat": 4,
 "nbformat_minor": 5
}
