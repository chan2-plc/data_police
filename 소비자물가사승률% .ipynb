{
 "cells": [
  {
   "cell_type": "code",
   "execution_count": 2,
   "id": "cec5b812",
   "metadata": {},
   "outputs": [],
   "source": [
    "import requests\n",
    "from bs4 import BeautifulSoup"
   ]
  },
  {
   "cell_type": "code",
   "execution_count": 3,
   "id": "e6818a35",
   "metadata": {},
   "outputs": [],
   "source": [
    "url = 'https://www.index.go.kr/unify/idx-info.do?idxCd=4226'\n",
    "r=requests.get(url)\n",
    "soup = BeautifulSoup(r.text, 'html.parser')"
   ]
  },
  {
   "cell_type": "code",
   "execution_count": 4,
   "id": "f0de904c",
   "metadata": {},
   "outputs": [],
   "source": [
    "html_text = '''\n",
    "<tr id=\"tr_422601_2\">\n",
    "    <th class=\"tl\" colspan=\"1\" data-id=\"t422601_c1_1\" item-id=\"T02\" rowspan=\"1\">소비자물가상승률(%)</th>\n",
    "    <td data-id=\"td_422601_1\" id=\"td_422601_1\" item-id=\"2012Y\" item-num=\"1\">2.2</td>\n",
    "    <td data-id=\"td_422601_2\" id=\"td_422601_2\" item-id=\"2013Y\" item-num=\"2\">1.3</td>\n",
    "    <td data-id=\"td_422601_3\" id=\"td_422601_3\" item-id=\"2014Y\" item-num=\"3\">1.3</td>\n",
    "    <td data-id=\"td_422601_4\" id=\"td_422601_4\" item-id=\"2015Y\" item-num=\"4\">0.7</td>\n",
    "    <td data-id=\"td_422601_5\" id=\"td_422601_5\" item-id=\"2016Y\" item-num=\"5\">1.0</td>\n",
    "    <td data-id=\"td_422601_6\" id=\"td_422601_6\" item-id=\"2017Y\" item-num=\"6\">1.9</td>\n",
    "    <td data-id=\"td_422601_7\" id=\"td_422601_7\" item-id=\"2018Y\" item-num=\"7\">1.5</td>\n",
    "    <td data-id=\"td_422601_8\" id=\"td_422601_8\" item-id=\"2019Y\" item-num=\"8\">0.4</td>\n",
    "    <td data-id=\"td_422601_9\" id=\"td_422601_9\" item-id=\"2020Y\" item-num=\"9\">0.5</td>\n",
    "    <td data-id=\"td_422601_10\" id=\"td_422601_10\" item-id=\"2021Y\" item-num=\"10\">2.5</td>\n",
    "    <td data-id=\"td_422601_11\" id=\"td_422601_11\" item-id=\"2022Y\" item-num=\"11\">5.1</td>\n",
    "</tr>\n",
    "'''"
   ]
  },
  {
   "cell_type": "code",
   "execution_count": 5,
   "id": "b77dc31b",
   "metadata": {},
   "outputs": [
    {
     "name": "stdout",
     "output_type": "stream",
     "text": [
      "Header: 소비자물가상승률(%)\n",
      "Data: ['2.2', '1.3', '1.3', '0.7', '1.0', '1.9', '1.5', '0.4', '0.5', '2.5', '5.1']\n",
      "\n",
      "\n",
      "소비자물가상승률(%)\n",
      "2.2\n",
      "1.3\n",
      "1.3\n",
      "0.7\n",
      "1.0\n",
      "1.9\n",
      "1.5\n",
      "0.4\n",
      "0.5\n",
      "2.5\n",
      "5.1\n",
      "\n",
      "\n"
     ]
    }
   ],
   "source": [
    "soup = BeautifulSoup(html_text, 'html.parser')\n",
    "\n",
    "header = soup.find('th').text.strip()\n",
    "\n",
    "data = [td.text.strip() for td in soup.find_all('td')]\n",
    "\n",
    "print(\"Header:\", header)\n",
    "print(\"Data:\", data)\n",
    "print(soup.get_text())\n"
   ]
  },
  {
   "cell_type": "code",
   "execution_count": 6,
   "id": "c8b7f1fc",
   "metadata": {},
   "outputs": [
    {
     "name": "stdout",
     "output_type": "stream",
     "text": [
      "   소비자물가상승률(%)\n",
      "0          2.2\n",
      "1          1.3\n",
      "2          1.3\n",
      "3          0.7\n",
      "4          1.0\n",
      "5          1.9\n",
      "6          1.5\n",
      "7          0.4\n",
      "8          0.5\n",
      "9          2.5\n",
      "10         5.1\n"
     ]
    }
   ],
   "source": [
    "import pandas as pd\n",
    "import csv\n",
    "df = pd.DataFrame({header: data})\n",
    "print(df)\n",
    "csv_filename = '소비자물가사승률%.csv'\n",
    "df.to_csv(csv_filename, index=False, encoding='utf-8')"
   ]
  },
  {
   "cell_type": "code",
   "execution_count": 7,
   "id": "d100719a",
   "metadata": {},
   "outputs": [
    {
     "data": {
      "text/html": [
       "<div>\n",
       "<style scoped>\n",
       "    .dataframe tbody tr th:only-of-type {\n",
       "        vertical-align: middle;\n",
       "    }\n",
       "\n",
       "    .dataframe tbody tr th {\n",
       "        vertical-align: top;\n",
       "    }\n",
       "\n",
       "    .dataframe thead th {\n",
       "        text-align: right;\n",
       "    }\n",
       "</style>\n",
       "<table border=\"1\" class=\"dataframe\">\n",
       "  <thead>\n",
       "    <tr style=\"text-align: right;\">\n",
       "      <th></th>\n",
       "      <th>소비자물가상승률(%)</th>\n",
       "    </tr>\n",
       "  </thead>\n",
       "  <tbody>\n",
       "    <tr>\n",
       "      <th>0</th>\n",
       "      <td>2.2</td>\n",
       "    </tr>\n",
       "    <tr>\n",
       "      <th>1</th>\n",
       "      <td>1.3</td>\n",
       "    </tr>\n",
       "    <tr>\n",
       "      <th>2</th>\n",
       "      <td>1.3</td>\n",
       "    </tr>\n",
       "    <tr>\n",
       "      <th>3</th>\n",
       "      <td>0.7</td>\n",
       "    </tr>\n",
       "    <tr>\n",
       "      <th>4</th>\n",
       "      <td>1.0</td>\n",
       "    </tr>\n",
       "    <tr>\n",
       "      <th>5</th>\n",
       "      <td>1.9</td>\n",
       "    </tr>\n",
       "    <tr>\n",
       "      <th>6</th>\n",
       "      <td>1.5</td>\n",
       "    </tr>\n",
       "    <tr>\n",
       "      <th>7</th>\n",
       "      <td>0.4</td>\n",
       "    </tr>\n",
       "    <tr>\n",
       "      <th>8</th>\n",
       "      <td>0.5</td>\n",
       "    </tr>\n",
       "    <tr>\n",
       "      <th>9</th>\n",
       "      <td>2.5</td>\n",
       "    </tr>\n",
       "    <tr>\n",
       "      <th>10</th>\n",
       "      <td>5.1</td>\n",
       "    </tr>\n",
       "  </tbody>\n",
       "</table>\n",
       "</div>"
      ],
      "text/plain": [
       "    소비자물가상승률(%)\n",
       "0           2.2\n",
       "1           1.3\n",
       "2           1.3\n",
       "3           0.7\n",
       "4           1.0\n",
       "5           1.9\n",
       "6           1.5\n",
       "7           0.4\n",
       "8           0.5\n",
       "9           2.5\n",
       "10          5.1"
      ]
     },
     "execution_count": 7,
     "metadata": {},
     "output_type": "execute_result"
    }
   ],
   "source": [
    "customer_cost = pd.read_csv(\"소비자물가사승률%.csv\", encoding='UTF-8')\n",
    "customer_cost"
   ]
  }
 ],
 "metadata": {
  "kernelspec": {
   "display_name": "Python 3 (ipykernel)",
   "language": "python",
   "name": "python3"
  },
  "language_info": {
   "codemirror_mode": {
    "name": "ipython",
    "version": 3
   },
   "file_extension": ".py",
   "mimetype": "text/x-python",
   "name": "python",
   "nbconvert_exporter": "python",
   "pygments_lexer": "ipython3",
   "version": "3.11.4"
  }
 },
 "nbformat": 4,
 "nbformat_minor": 5
}
