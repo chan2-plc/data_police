{
 "cells": [
  {
   "cell_type": "code",
   "execution_count": 170,
   "id": "b764cfac-1ad3-4a1c-8ce8-e8174d474578",
   "metadata": {
    "tags": []
   },
   "outputs": [],
   "source": [
    "import requests\n",
    "from bs4 import BeautifulSoup\n",
    "import csv"
   ]
  },
  {
   "cell_type": "code",
   "execution_count": 171,
   "id": "38b9d75d-9618-4cc5-8cb2-4d3d2baf1fb8",
   "metadata": {
    "tags": []
   },
   "outputs": [],
   "source": [
    "url=\"https://www.police.go.kr/www/open/publice/publice0204.jsp\"\n",
    "r=requests.post(url)"
   ]
  },
  {
   "cell_type": "code",
   "execution_count": 172,
   "id": "675b8554-7847-4948-be82-55defcb10be2",
   "metadata": {
    "tags": []
   },
   "outputs": [],
   "source": [
    "soup=BeautifulSoup(r.text,\"html.parser\")"
   ]
  },
  {
   "cell_type": "code",
   "execution_count": 173,
   "id": "bd924a3b-3e06-4c28-aab1-c23018c102f0",
   "metadata": {
    "tags": []
   },
   "outputs": [],
   "source": [
    "table_title = \"세부 유형별 발생·검거 현황\"\n",
    "h3_tag = soup.find(\"h3\", string=table_title)\n",
    "\n",
    "table = h3_tag.find_next('table')\n",
    "\n",
    "rows = table.find_all('tr')\n",
    "\n",
    "police_19=[rows[12],rows[13]]\n",
    "\n",
    "pol_19=[]\n",
    "for item in police_19:\n",
    "    pol_19.extend(item.stripped_strings) #item.stripped_strings는 해당 요소 내의 텍스트를 찾아내어 이를 공백을 제거한 문자열들의 제너레이터를 반환\n",
    "\n",
    "police_20=[rows[14],rows[15]]\n",
    "\n",
    "pol_20=[]\n",
    "for item in police_20:\n",
    "    pol_20.extend(item.stripped_strings)\n"
   ]
  },
  {
   "cell_type": "code",
   "execution_count": 174,
   "id": "f4e1808f-d436-4c7f-b569-31904f46a23e",
   "metadata": {
    "tags": []
   },
   "outputs": [
    {
     "name": "stdout",
     "output_type": "stream",
     "text": [
      "['2019', '발생', '180,499', '3,638', '2,664', '35', '270', '669', '151,916', '136,074', '10,542', '179', '2,562', '2,559', '24,945', '2,690', '5,346', '16,633', '276']\n",
      "['2019', '검거', '132,559', '1,007', '556', '14', '189', '248', '112,398', '105,651', '3,387', '78', '1,772', '1,510', '19,154', '2,164', '5,162', '11,632', '196']\n",
      "['2020', '발생', '234,098', '4,344', '3,176', '25', '169', '974', '199,594', '174,328', '20,248', '241', '2,183', '2,594', '30,160', '4,831', '5,692', '19,388', '249']\n",
      "['2020', '검거', '157,909', '911', '548', '10', '81', '272', '134,696', '127,233', '4,621', '95', '1,493', '1,254', '22,302', '4,063', '5,436', '12,638', '165']\n"
     ]
    }
   ],
   "source": [
    "pol_19.insert(19,'2019')\n",
    "occur_19=pol_19[0:19]\n",
    "arrest_19=pol_19[19:]\n",
    "print(occur_19)\n",
    "print(arrest_19)\n",
    "\n",
    "pol_20.insert(19,'2020')\n",
    "occur_20=pol_20[0:19]\n",
    "arrest_20=pol_20[19:]\n",
    "\n",
    "print(occur_20)\n",
    "print(arrest_20)\n"
   ]
  },
  {
   "cell_type": "code",
   "execution_count": 175,
   "id": "ea6d67a9-a8af-43f7-b49a-bb3bbf2294f0",
   "metadata": {
    "tags": []
   },
   "outputs": [
    {
     "name": "stdout",
     "output_type": "stream",
     "text": [
      "['구 분', '구 분', '총 계', '소계', '해킹', 'DDoS', '악성프로그램', '기타', '소계', '사이버사기', '사이버금융범죄', '개인위치정보침해', '사이버저작권침해', '기타', '소계', '사이버성폭력', '사이버도박', '사이버명예훼손모욕', '기타']\n"
     ]
    }
   ],
   "source": [
    "# <tr> 요소들을 추출합니다. . 앞에 기준을 정하는 것도 방법\n",
    "thead = soup.find_all('th', {'scope': 'col'})\n",
    "\n",
    "\n",
    "# 제외할 텍스트\n",
    "excluded_titles = [\"발생건수(건)\", \"검거\", \"건수(건)\", \"인원(명)\",\"정보통신망침해범죄\",\"정보통신망이용범죄\",\"불법콘텐츠범죄\"]\n",
    "\n",
    "# 특정 텍스트를 제외한 th 요소를 선택\n",
    "\n",
    "filtered_titles = []\n",
    "\n",
    "# soup.find_all('th', {'scope': 'col'})에서 가져온 모든 <th> 요소에 대해 반복\n",
    "for th in soup.find_all('th', {'scope': 'col'}):\n",
    "    # th 요소의 텍스트가 excluded_titles에 포함되어 있지 않으면 filtered_titles에 추가\n",
    "    if th.text not in excluded_titles:\n",
    "        filtered_titles.append(th.get_text())\n",
    "        \n",
    "filtered_titles.pop(1)\n",
    "        \n",
    "policetitle=filtered_titles\n",
    "print(policetitle)"
   ]
  },
  {
   "cell_type": "code",
   "execution_count": 176,
   "id": "c5f4b6ff-e843-4ca6-ae5d-194c93c83473",
   "metadata": {
    "tags": []
   },
   "outputs": [],
   "source": [
    "import csv\n",
    "\n",
    "with open(r'C:\\Users\\user\\Desktop\\데분프실습과제.csv','w',newline='',encoding='utf-8') as out:\n",
    "    police_total=csv.writer(out)\n",
    "    police_total.writerow(policetitle)\n",
    "    police_total.writerow(occur_19)\n",
    "    police_total.writerow(arrest_19)\n",
    "    police_total.writerow(occur_20)\n",
    "    police_total.writerow(arrest_20)"
   ]
  }
 ],
 "metadata": {
  "kernelspec": {
   "display_name": "Python 3 (ipykernel)",
   "language": "python",
   "name": "python3"
  },
  "language_info": {
   "codemirror_mode": {
    "name": "ipython",
    "version": 3
   },
   "file_extension": ".py",
   "mimetype": "text/x-python",
   "name": "python",
   "nbconvert_exporter": "python",
   "pygments_lexer": "ipython3",
   "version": "3.11.4"
  }
 },
 "nbformat": 4,
 "nbformat_minor": 5
}
