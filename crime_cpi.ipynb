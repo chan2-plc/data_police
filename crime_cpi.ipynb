{
 "cells": [
  {
   "cell_type": "code",
   "execution_count": 1,
   "id": "7540bf97-b644-4d5c-87ae-231e2d7cad5d",
   "metadata": {
    "tags": []
   },
   "outputs": [],
   "source": [
    "import pandas as pd\n",
    "import numpy as np\n",
    "import requests\n",
    "from bs4 import BeautifulSoup\n",
    "import csv"
   ]
  },
  {
   "cell_type": "code",
   "execution_count": 29,
   "id": "2ffc4393-6aa7-4904-9848-02ee1be36f2b",
   "metadata": {
    "tags": []
   },
   "outputs": [
    {
     "data": {
      "text/html": [
       "<div>\n",
       "<style scoped>\n",
       "    .dataframe tbody tr th:only-of-type {\n",
       "        vertical-align: middle;\n",
       "    }\n",
       "\n",
       "    .dataframe tbody tr th {\n",
       "        vertical-align: top;\n",
       "    }\n",
       "\n",
       "    .dataframe thead th {\n",
       "        text-align: right;\n",
       "    }\n",
       "</style>\n",
       "<table border=\"1\" class=\"dataframe\">\n",
       "  <thead>\n",
       "    <tr style=\"text-align: right;\">\n",
       "      <th></th>\n",
       "      <th>항목</th>\n",
       "      <th>2018</th>\n",
       "      <th>2019</th>\n",
       "      <th>2020</th>\n",
       "      <th>2021</th>\n",
       "      <th>2022</th>\n",
       "    </tr>\n",
       "    <tr>\n",
       "      <th>죄종별</th>\n",
       "      <th></th>\n",
       "      <th></th>\n",
       "      <th></th>\n",
       "      <th></th>\n",
       "      <th></th>\n",
       "      <th></th>\n",
       "    </tr>\n",
       "  </thead>\n",
       "  <tbody>\n",
       "    <tr>\n",
       "      <th>사기</th>\n",
       "      <td>발생건수[건]</td>\n",
       "      <td>270029</td>\n",
       "      <td>304472</td>\n",
       "      <td>347675</td>\n",
       "      <td>294075</td>\n",
       "      <td>325848</td>\n",
       "    </tr>\n",
       "    <tr>\n",
       "      <th>전자금융거래법위반</th>\n",
       "      <td>발생건수[건]</td>\n",
       "      <td>7877</td>\n",
       "      <td>8132</td>\n",
       "      <td>6402</td>\n",
       "      <td>7024</td>\n",
       "      <td>9731</td>\n",
       "    </tr>\n",
       "    <tr>\n",
       "      <th>횡령</th>\n",
       "      <td>발생건수[건]</td>\n",
       "      <td>55113</td>\n",
       "      <td>58508</td>\n",
       "      <td>58889</td>\n",
       "      <td>50421</td>\n",
       "      <td>60220</td>\n",
       "    </tr>\n",
       "    <tr>\n",
       "      <th>도박범죄</th>\n",
       "      <td>발생건수[건]</td>\n",
       "      <td>6004</td>\n",
       "      <td>8008</td>\n",
       "      <td>8135</td>\n",
       "      <td>6391</td>\n",
       "      <td>4463</td>\n",
       "    </tr>\n",
       "  </tbody>\n",
       "</table>\n",
       "</div>"
      ],
      "text/plain": [
       "                항목    2018    2019    2020    2021    2022\n",
       "죄종별                                                       \n",
       "사기         발생건수[건]  270029  304472  347675  294075  325848\n",
       "전자금융거래법위반  발생건수[건]    7877    8132    6402    7024    9731\n",
       "횡령         발생건수[건]   55113   58508   58889   50421   60220\n",
       "도박범죄       발생건수[건]    6004    8008    8135    6391    4463"
      ]
     },
     "execution_count": 29,
     "metadata": {},
     "output_type": "execute_result"
    }
   ],
   "source": [
    "crime=pd.read_csv(\"police_2.csv\",encoding=\"cp949\",index_col=[\"죄종별\"])\n",
    "crime"
   ]
  },
  {
   "cell_type": "code",
   "execution_count": 35,
   "id": "9e459f4f-31c4-4faa-b569-d4ce01e35f99",
   "metadata": {
    "tags": []
   },
   "outputs": [
    {
     "data": {
      "text/plain": [
       "Index(['사기', '전자금융거래법위반', '횡령', '도박범죄'], dtype='object', name='죄종별')"
      ]
     },
     "execution_count": 35,
     "metadata": {},
     "output_type": "execute_result"
    }
   ],
   "source": [
    "crime.index"
   ]
  },
  {
   "cell_type": "code",
   "execution_count": 33,
   "id": "6df6bc9d-7164-46fd-9d8d-4c582a5c126e",
   "metadata": {
    "tags": []
   },
   "outputs": [
    {
     "ename": "NameError",
     "evalue": "name 'ocuur_police' is not defined",
     "output_type": "error",
     "traceback": [
      "\u001b[1;31m---------------------------------------------------------------------------\u001b[0m",
      "\u001b[1;31mNameError\u001b[0m                                 Traceback (most recent call last)",
      "Cell \u001b[1;32mIn[33], line 3\u001b[0m\n\u001b[0;32m      1\u001b[0m occur_police\u001b[38;5;241m=\u001b[39mcrime\u001b[38;5;241m.\u001b[39miloc[:,[\u001b[38;5;241m1\u001b[39m,\u001b[38;5;241m2\u001b[39m,\u001b[38;5;241m3\u001b[39m,\u001b[38;5;241m4\u001b[39m]]\n\u001b[0;32m      2\u001b[0m occur_police\u001b[38;5;241m.\u001b[39mcolumns\u001b[38;5;241m.\u001b[39mname\u001b[38;5;241m=\u001b[39m\u001b[38;5;124m'\u001b[39m\u001b[38;5;124m연도\u001b[39m\u001b[38;5;124m'\u001b[39m\n\u001b[1;32m----> 3\u001b[0m ocuur_police\u001b[38;5;241m.\u001b[39mset_index\u001b[38;5;241m=\u001b[39m\u001b[38;5;124m'\u001b[39m\u001b[38;5;124m'\u001b[39m\n\u001b[0;32m      4\u001b[0m occur_police\u001b[38;5;241m.\u001b[39mtranspose()\n",
      "\u001b[1;31mNameError\u001b[0m: name 'ocuur_police' is not defined"
     ]
    }
   ],
   "source": [
    "occur_police=crime.iloc[:,[1,2,3,4]]\n",
    "occur_police.columns.name='연도'\n",
    "ocuur_police.set_index=''\n",
    "occur_police.transpose()"
   ]
  },
  {
   "cell_type": "code",
   "execution_count": null,
   "id": "847b2341-a119-4327-a7b5-65890bd971d2",
   "metadata": {},
   "outputs": [],
   "source": [
    "occur_police_fruad="
   ]
  }
 ],
 "metadata": {
  "kernelspec": {
   "display_name": "Python 3 (ipykernel)",
   "language": "python",
   "name": "python3"
  },
  "language_info": {
   "codemirror_mode": {
    "name": "ipython",
    "version": 3
   },
   "file_extension": ".py",
   "mimetype": "text/x-python",
   "name": "python",
   "nbconvert_exporter": "python",
   "pygments_lexer": "ipython3",
   "version": "3.11.4"
  }
 },
 "nbformat": 4,
 "nbformat_minor": 5
}
