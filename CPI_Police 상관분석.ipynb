{
 "cells": [
  {
   "cell_type": "code",
   "execution_count": 221,
   "id": "defaf03b",
   "metadata": {},
   "outputs": [],
   "source": [
    "%matplotlib inline\n",
    "import pandas as pd\n",
    "import matplotlib.pyplot as plt\n",
    "import seaborn as sns\n",
    "%matplotlib inline\n",
    "\n",
    "\n",
    "#데이터 프레임 한글 표시될 수 있도록 설정 - 윈도우, 맥, 리눅스에 맞게 설정됨\n",
    "import platform\n",
    "\n",
    "if platform.system() == 'Windows':\n",
    "    plt.rc('font', family='Malgun Gothic')\n",
    "elif platform.system() == 'Darwin': # Mac\n",
    "    plt.rc('font', family='AppleGothic')\n",
    "else: #linux\n",
    "    plt.rc('font', family='NanumGothic')\n",
    "\n",
    "# 그래프에 마이너스 표시가 되도록 변경\n",
    "plt.rcParams['axes.unicode_minus'] = False"
   ]
  },
  {
   "cell_type": "code",
   "execution_count": 222,
   "id": "8d8146ef",
   "metadata": {
    "scrolled": true
   },
   "outputs": [
    {
     "data": {
      "text/html": [
       "<div>\n",
       "<style scoped>\n",
       "    .dataframe tbody tr th:only-of-type {\n",
       "        vertical-align: middle;\n",
       "    }\n",
       "\n",
       "    .dataframe tbody tr th {\n",
       "        vertical-align: top;\n",
       "    }\n",
       "\n",
       "    .dataframe thead th {\n",
       "        text-align: right;\n",
       "    }\n",
       "</style>\n",
       "<table border=\"1\" class=\"dataframe\">\n",
       "  <thead>\n",
       "    <tr style=\"text-align: right;\">\n",
       "      <th></th>\n",
       "      <th>항목</th>\n",
       "      <th>2018</th>\n",
       "      <th>2019</th>\n",
       "      <th>2020</th>\n",
       "      <th>2021</th>\n",
       "      <th>2022</th>\n",
       "    </tr>\n",
       "    <tr>\n",
       "      <th>죄종별</th>\n",
       "      <th></th>\n",
       "      <th></th>\n",
       "      <th></th>\n",
       "      <th></th>\n",
       "      <th></th>\n",
       "      <th></th>\n",
       "    </tr>\n",
       "  </thead>\n",
       "  <tbody>\n",
       "    <tr>\n",
       "      <th>사기</th>\n",
       "      <td>발생건수[건]</td>\n",
       "      <td>270029</td>\n",
       "      <td>304472</td>\n",
       "      <td>347675</td>\n",
       "      <td>294075</td>\n",
       "      <td>325848</td>\n",
       "    </tr>\n",
       "    <tr>\n",
       "      <th>전자금융거래법위반</th>\n",
       "      <td>발생건수[건]</td>\n",
       "      <td>7877</td>\n",
       "      <td>8132</td>\n",
       "      <td>6402</td>\n",
       "      <td>7024</td>\n",
       "      <td>9731</td>\n",
       "    </tr>\n",
       "    <tr>\n",
       "      <th>횡령</th>\n",
       "      <td>발생건수[건]</td>\n",
       "      <td>55113</td>\n",
       "      <td>58508</td>\n",
       "      <td>58889</td>\n",
       "      <td>50421</td>\n",
       "      <td>60220</td>\n",
       "    </tr>\n",
       "    <tr>\n",
       "      <th>도박범죄</th>\n",
       "      <td>발생건수[건]</td>\n",
       "      <td>6004</td>\n",
       "      <td>8008</td>\n",
       "      <td>8135</td>\n",
       "      <td>6391</td>\n",
       "      <td>4463</td>\n",
       "    </tr>\n",
       "  </tbody>\n",
       "</table>\n",
       "</div>"
      ],
      "text/plain": [
       "                항목    2018    2019    2020    2021    2022\n",
       "죄종별                                                       \n",
       "사기         발생건수[건]  270029  304472  347675  294075  325848\n",
       "전자금융거래법위반  발생건수[건]    7877    8132    6402    7024    9731\n",
       "횡령         발생건수[건]   55113   58508   58889   50421   60220\n",
       "도박범죄       발생건수[건]    6004    8008    8135    6391    4463"
      ]
     },
     "execution_count": 222,
     "metadata": {},
     "output_type": "execute_result"
    }
   ],
   "source": [
    "df=pd.read_csv('police_2.csv',encoding='cp949',index_col=[\"죄종별\"])\n",
    "df"
   ]
  },
  {
   "cell_type": "code",
   "execution_count": 223,
   "id": "3f5c413e",
   "metadata": {},
   "outputs": [
    {
     "data": {
      "text/html": [
       "<div>\n",
       "<style scoped>\n",
       "    .dataframe tbody tr th:only-of-type {\n",
       "        vertical-align: middle;\n",
       "    }\n",
       "\n",
       "    .dataframe tbody tr th {\n",
       "        vertical-align: top;\n",
       "    }\n",
       "\n",
       "    .dataframe thead th {\n",
       "        text-align: right;\n",
       "    }\n",
       "</style>\n",
       "<table border=\"1\" class=\"dataframe\">\n",
       "  <thead>\n",
       "    <tr style=\"text-align: right;\">\n",
       "      <th>죄종별</th>\n",
       "      <th>사기</th>\n",
       "      <th>전자금융거래법위반</th>\n",
       "      <th>횡령</th>\n",
       "      <th>도박범죄</th>\n",
       "    </tr>\n",
       "    <tr>\n",
       "      <th>연도</th>\n",
       "      <th></th>\n",
       "      <th></th>\n",
       "      <th></th>\n",
       "      <th></th>\n",
       "    </tr>\n",
       "  </thead>\n",
       "  <tbody>\n",
       "    <tr>\n",
       "      <th>2018</th>\n",
       "      <td>270029</td>\n",
       "      <td>7877</td>\n",
       "      <td>55113</td>\n",
       "      <td>6004</td>\n",
       "    </tr>\n",
       "    <tr>\n",
       "      <th>2019</th>\n",
       "      <td>304472</td>\n",
       "      <td>8132</td>\n",
       "      <td>58508</td>\n",
       "      <td>8008</td>\n",
       "    </tr>\n",
       "    <tr>\n",
       "      <th>2020</th>\n",
       "      <td>347675</td>\n",
       "      <td>6402</td>\n",
       "      <td>58889</td>\n",
       "      <td>8135</td>\n",
       "    </tr>\n",
       "    <tr>\n",
       "      <th>2021</th>\n",
       "      <td>294075</td>\n",
       "      <td>7024</td>\n",
       "      <td>50421</td>\n",
       "      <td>6391</td>\n",
       "    </tr>\n",
       "    <tr>\n",
       "      <th>2022</th>\n",
       "      <td>325848</td>\n",
       "      <td>9731</td>\n",
       "      <td>60220</td>\n",
       "      <td>4463</td>\n",
       "    </tr>\n",
       "  </tbody>\n",
       "</table>\n",
       "</div>"
      ],
      "text/plain": [
       "죄종별       사기  전자금융거래법위반     횡령  도박범죄\n",
       "연도                                  \n",
       "2018  270029       7877  55113  6004\n",
       "2019  304472       8132  58508  8008\n",
       "2020  347675       6402  58889  8135\n",
       "2021  294075       7024  50421  6391\n",
       "2022  325848       9731  60220  4463"
      ]
     },
     "execution_count": 223,
     "metadata": {},
     "output_type": "execute_result"
    }
   ],
   "source": [
    "df=df.iloc[:,[1,2,3,4,5]]\n",
    "df.columns.name='연도'\n",
    "df=df.transpose()\n",
    "df"
   ]
  },
  {
   "cell_type": "code",
   "execution_count": 212,
   "id": "a689af99",
   "metadata": {},
   "outputs": [
    {
     "data": {
      "text/html": [
       "<div>\n",
       "<style scoped>\n",
       "    .dataframe tbody tr th:only-of-type {\n",
       "        vertical-align: middle;\n",
       "    }\n",
       "\n",
       "    .dataframe tbody tr th {\n",
       "        vertical-align: top;\n",
       "    }\n",
       "\n",
       "    .dataframe thead th {\n",
       "        text-align: right;\n",
       "    }\n",
       "</style>\n",
       "<table border=\"1\" class=\"dataframe\">\n",
       "  <thead>\n",
       "    <tr style=\"text-align: right;\">\n",
       "      <th>죄종별</th>\n",
       "      <th>횡령</th>\n",
       "    </tr>\n",
       "    <tr>\n",
       "      <th>연도</th>\n",
       "      <th></th>\n",
       "    </tr>\n",
       "  </thead>\n",
       "  <tbody>\n",
       "    <tr>\n",
       "      <th>2018</th>\n",
       "      <td>55113</td>\n",
       "    </tr>\n",
       "    <tr>\n",
       "      <th>2019</th>\n",
       "      <td>58508</td>\n",
       "    </tr>\n",
       "    <tr>\n",
       "      <th>2020</th>\n",
       "      <td>58889</td>\n",
       "    </tr>\n",
       "    <tr>\n",
       "      <th>2021</th>\n",
       "      <td>50421</td>\n",
       "    </tr>\n",
       "    <tr>\n",
       "      <th>2022</th>\n",
       "      <td>60220</td>\n",
       "    </tr>\n",
       "  </tbody>\n",
       "</table>\n",
       "</div>"
      ],
      "text/plain": [
       "죄종별      횡령\n",
       "연도         \n",
       "2018  55113\n",
       "2019  58508\n",
       "2020  58889\n",
       "2021  50421\n",
       "2022  60220"
      ]
     },
     "execution_count": 212,
     "metadata": {},
     "output_type": "execute_result"
    }
   ],
   "source": [
    "df1=df=df.iloc[:,[2]]\n",
    "df1"
   ]
  },
  {
   "cell_type": "code",
   "execution_count": 224,
   "id": "24c63334",
   "metadata": {
    "scrolled": true
   },
   "outputs": [
    {
     "data": {
      "text/html": [
       "<div>\n",
       "<style scoped>\n",
       "    .dataframe tbody tr th:only-of-type {\n",
       "        vertical-align: middle;\n",
       "    }\n",
       "\n",
       "    .dataframe tbody tr th {\n",
       "        vertical-align: top;\n",
       "    }\n",
       "\n",
       "    .dataframe thead th {\n",
       "        text-align: right;\n",
       "    }\n",
       "</style>\n",
       "<table border=\"1\" class=\"dataframe\">\n",
       "  <thead>\n",
       "    <tr style=\"text-align: right;\">\n",
       "      <th></th>\n",
       "      <th>연도</th>\n",
       "      <th>2012</th>\n",
       "      <th>2013</th>\n",
       "      <th>2014</th>\n",
       "      <th>2015</th>\n",
       "      <th>2016</th>\n",
       "      <th>2017</th>\n",
       "      <th>2018</th>\n",
       "      <th>2019</th>\n",
       "      <th>2020</th>\n",
       "      <th>2021</th>\n",
       "      <th>2022</th>\n",
       "    </tr>\n",
       "  </thead>\n",
       "  <tbody>\n",
       "    <tr>\n",
       "      <th>0</th>\n",
       "      <td>소비자물가 총지수(2020=100)</td>\n",
       "      <td>91.8</td>\n",
       "      <td>93.0</td>\n",
       "      <td>94.2</td>\n",
       "      <td>94.9</td>\n",
       "      <td>95.8</td>\n",
       "      <td>97.6</td>\n",
       "      <td>99.1</td>\n",
       "      <td>99.5</td>\n",
       "      <td>100.0</td>\n",
       "      <td>102.5</td>\n",
       "      <td>107.7</td>\n",
       "    </tr>\n",
       "    <tr>\n",
       "      <th>1</th>\n",
       "      <td>소비자물가상승률(%)</td>\n",
       "      <td>2.2</td>\n",
       "      <td>1.3</td>\n",
       "      <td>1.3</td>\n",
       "      <td>0.7</td>\n",
       "      <td>1.0</td>\n",
       "      <td>1.9</td>\n",
       "      <td>1.5</td>\n",
       "      <td>0.4</td>\n",
       "      <td>0.5</td>\n",
       "      <td>2.5</td>\n",
       "      <td>5.1</td>\n",
       "    </tr>\n",
       "    <tr>\n",
       "      <th>2</th>\n",
       "      <td>식료품 · 비주류음료</td>\n",
       "      <td>4.0</td>\n",
       "      <td>0.9</td>\n",
       "      <td>0.3</td>\n",
       "      <td>1.6</td>\n",
       "      <td>2.3</td>\n",
       "      <td>3.4</td>\n",
       "      <td>2.8</td>\n",
       "      <td>0.0</td>\n",
       "      <td>4.4</td>\n",
       "      <td>5.9</td>\n",
       "      <td>5.9</td>\n",
       "    </tr>\n",
       "    <tr>\n",
       "      <th>3</th>\n",
       "      <td>주류 및 담배</td>\n",
       "      <td>1.5</td>\n",
       "      <td>1.7</td>\n",
       "      <td>-0.1</td>\n",
       "      <td>50.1</td>\n",
       "      <td>0.7</td>\n",
       "      <td>1.5</td>\n",
       "      <td>0.3</td>\n",
       "      <td>0.6</td>\n",
       "      <td>0.3</td>\n",
       "      <td>0.4</td>\n",
       "      <td>2.2</td>\n",
       "    </tr>\n",
       "    <tr>\n",
       "      <th>4</th>\n",
       "      <td>의류 및 신발</td>\n",
       "      <td>4.8</td>\n",
       "      <td>2.9</td>\n",
       "      <td>4.0</td>\n",
       "      <td>1.3</td>\n",
       "      <td>1.8</td>\n",
       "      <td>1.1</td>\n",
       "      <td>1.1</td>\n",
       "      <td>0.1</td>\n",
       "      <td>0.7</td>\n",
       "      <td>0.6</td>\n",
       "      <td>3.1</td>\n",
       "    </tr>\n",
       "    <tr>\n",
       "      <th>5</th>\n",
       "      <td>주택 ·수도 · 전기 및 연료</td>\n",
       "      <td>4.6</td>\n",
       "      <td>3.5</td>\n",
       "      <td>2.9</td>\n",
       "      <td>-0.6</td>\n",
       "      <td>-0.8</td>\n",
       "      <td>1.7</td>\n",
       "      <td>0.7</td>\n",
       "      <td>1.2</td>\n",
       "      <td>0.5</td>\n",
       "      <td>1.6</td>\n",
       "      <td>5.5</td>\n",
       "    </tr>\n",
       "    <tr>\n",
       "      <th>6</th>\n",
       "      <td>가정용품 및 가사 서비스</td>\n",
       "      <td>2.9</td>\n",
       "      <td>0.3</td>\n",
       "      <td>2.1</td>\n",
       "      <td>2.6</td>\n",
       "      <td>1.6</td>\n",
       "      <td>1.1</td>\n",
       "      <td>2.3</td>\n",
       "      <td>2.1</td>\n",
       "      <td>0.0</td>\n",
       "      <td>1.9</td>\n",
       "      <td>4.8</td>\n",
       "    </tr>\n",
       "    <tr>\n",
       "      <th>7</th>\n",
       "      <td>보건</td>\n",
       "      <td>0.9</td>\n",
       "      <td>0.4</td>\n",
       "      <td>0.7</td>\n",
       "      <td>1.3</td>\n",
       "      <td>1.0</td>\n",
       "      <td>0.9</td>\n",
       "      <td>-0.1</td>\n",
       "      <td>0.5</td>\n",
       "      <td>1.5</td>\n",
       "      <td>-0.1</td>\n",
       "      <td>0.8</td>\n",
       "    </tr>\n",
       "    <tr>\n",
       "      <th>8</th>\n",
       "      <td>교통</td>\n",
       "      <td>3.2</td>\n",
       "      <td>-0.5</td>\n",
       "      <td>-1.6</td>\n",
       "      <td>-7.8</td>\n",
       "      <td>-2.2</td>\n",
       "      <td>3.6</td>\n",
       "      <td>2.4</td>\n",
       "      <td>-1.8</td>\n",
       "      <td>-1.8</td>\n",
       "      <td>6.3</td>\n",
       "      <td>9.7</td>\n",
       "    </tr>\n",
       "    <tr>\n",
       "      <th>9</th>\n",
       "      <td>통신</td>\n",
       "      <td>-2.6</td>\n",
       "      <td>-0.1</td>\n",
       "      <td>-0.1</td>\n",
       "      <td>-0.2</td>\n",
       "      <td>0.1</td>\n",
       "      <td>0.3</td>\n",
       "      <td>-0.9</td>\n",
       "      <td>-2.3</td>\n",
       "      <td>-2.1</td>\n",
       "      <td>-0.9</td>\n",
       "      <td>0.9</td>\n",
       "    </tr>\n",
       "    <tr>\n",
       "      <th>10</th>\n",
       "      <td>오락 및 문화</td>\n",
       "      <td>0.3</td>\n",
       "      <td>1.0</td>\n",
       "      <td>0.4</td>\n",
       "      <td>-0.5</td>\n",
       "      <td>1.8</td>\n",
       "      <td>0.1</td>\n",
       "      <td>0.5</td>\n",
       "      <td>-0.2</td>\n",
       "      <td>-1.0</td>\n",
       "      <td>0.4</td>\n",
       "      <td>2.8</td>\n",
       "    </tr>\n",
       "    <tr>\n",
       "      <th>11</th>\n",
       "      <td>교육</td>\n",
       "      <td>1.4</td>\n",
       "      <td>1.2</td>\n",
       "      <td>1.5</td>\n",
       "      <td>1.7</td>\n",
       "      <td>1.6</td>\n",
       "      <td>1.1</td>\n",
       "      <td>1.4</td>\n",
       "      <td>0.5</td>\n",
       "      <td>-2.1</td>\n",
       "      <td>0.9</td>\n",
       "      <td>1.3</td>\n",
       "    </tr>\n",
       "    <tr>\n",
       "      <th>12</th>\n",
       "      <td>음식 및 숙박</td>\n",
       "      <td>1.2</td>\n",
       "      <td>1.6</td>\n",
       "      <td>1.5</td>\n",
       "      <td>2.3</td>\n",
       "      <td>2.5</td>\n",
       "      <td>2.4</td>\n",
       "      <td>3.0</td>\n",
       "      <td>1.8</td>\n",
       "      <td>0.9</td>\n",
       "      <td>2.7</td>\n",
       "      <td>7.6</td>\n",
       "    </tr>\n",
       "    <tr>\n",
       "      <th>13</th>\n",
       "      <td>기타 상품 및 서비스</td>\n",
       "      <td>-3.3</td>\n",
       "      <td>0.5</td>\n",
       "      <td>3.1</td>\n",
       "      <td>2.7</td>\n",
       "      <td>3.4</td>\n",
       "      <td>2.8</td>\n",
       "      <td>0.6</td>\n",
       "      <td>1.6</td>\n",
       "      <td>2.0</td>\n",
       "      <td>2.0</td>\n",
       "      <td>6.1</td>\n",
       "    </tr>\n",
       "    <tr>\n",
       "      <th>14</th>\n",
       "      <td>NaN</td>\n",
       "      <td>NaN</td>\n",
       "      <td>NaN</td>\n",
       "      <td>NaN</td>\n",
       "      <td>NaN</td>\n",
       "      <td>NaN</td>\n",
       "      <td>NaN</td>\n",
       "      <td>NaN</td>\n",
       "      <td>NaN</td>\n",
       "      <td>NaN</td>\n",
       "      <td>NaN</td>\n",
       "      <td>NaN</td>\n",
       "    </tr>\n",
       "    <tr>\n",
       "      <th>15</th>\n",
       "      <td>NaN</td>\n",
       "      <td>NaN</td>\n",
       "      <td>NaN</td>\n",
       "      <td>NaN</td>\n",
       "      <td>NaN</td>\n",
       "      <td>NaN</td>\n",
       "      <td>NaN</td>\n",
       "      <td>NaN</td>\n",
       "      <td>NaN</td>\n",
       "      <td>NaN</td>\n",
       "      <td>NaN</td>\n",
       "      <td>NaN</td>\n",
       "    </tr>\n",
       "    <tr>\n",
       "      <th>16</th>\n",
       "      <td>주석:</td>\n",
       "      <td>1) 소비자물가상승률 = {(당해년도 연간소비자물가지수 ÷ 직전 연간소비자물가지수)...</td>\n",
       "      <td>NaN</td>\n",
       "      <td>NaN</td>\n",
       "      <td>NaN</td>\n",
       "      <td>NaN</td>\n",
       "      <td>NaN</td>\n",
       "      <td>NaN</td>\n",
       "      <td>NaN</td>\n",
       "      <td>NaN</td>\n",
       "      <td>NaN</td>\n",
       "      <td>NaN</td>\n",
       "    </tr>\n",
       "  </tbody>\n",
       "</table>\n",
       "</div>"
      ],
      "text/plain": [
       "                     연도                                               2012  \\\n",
       "0   소비자물가 총지수(2020=100)                                               91.8   \n",
       "1           소비자물가상승률(%)                                                2.2   \n",
       "2           식료품 · 비주류음료                                                4.0   \n",
       "3               주류 및 담배                                                1.5   \n",
       "4               의류 및 신발                                                4.8   \n",
       "5      주택 ·수도 · 전기 및 연료                                                4.6   \n",
       "6         가정용품 및 가사 서비스                                                2.9   \n",
       "7                    보건                                                0.9   \n",
       "8                    교통                                                3.2   \n",
       "9                    통신                                               -2.6   \n",
       "10              오락 및 문화                                                0.3   \n",
       "11                   교육                                                1.4   \n",
       "12              음식 및 숙박                                                1.2   \n",
       "13          기타 상품 및 서비스                                               -3.3   \n",
       "14                  NaN                                                NaN   \n",
       "15                  NaN                                                NaN   \n",
       "16                  주석:  1) 소비자물가상승률 = {(당해년도 연간소비자물가지수 ÷ 직전 연간소비자물가지수)...   \n",
       "\n",
       "    2013  2014  2015  2016  2017  2018  2019   2020   2021   2022  \n",
       "0   93.0  94.2  94.9  95.8  97.6  99.1  99.5  100.0  102.5  107.7  \n",
       "1    1.3   1.3   0.7   1.0   1.9   1.5   0.4    0.5    2.5    5.1  \n",
       "2    0.9   0.3   1.6   2.3   3.4   2.8   0.0    4.4    5.9    5.9  \n",
       "3    1.7  -0.1  50.1   0.7   1.5   0.3   0.6    0.3    0.4    2.2  \n",
       "4    2.9   4.0   1.3   1.8   1.1   1.1   0.1    0.7    0.6    3.1  \n",
       "5    3.5   2.9  -0.6  -0.8   1.7   0.7   1.2    0.5    1.6    5.5  \n",
       "6    0.3   2.1   2.6   1.6   1.1   2.3   2.1    0.0    1.9    4.8  \n",
       "7    0.4   0.7   1.3   1.0   0.9  -0.1   0.5    1.5   -0.1    0.8  \n",
       "8   -0.5  -1.6  -7.8  -2.2   3.6   2.4  -1.8   -1.8    6.3    9.7  \n",
       "9   -0.1  -0.1  -0.2   0.1   0.3  -0.9  -2.3   -2.1   -0.9    0.9  \n",
       "10   1.0   0.4  -0.5   1.8   0.1   0.5  -0.2   -1.0    0.4    2.8  \n",
       "11   1.2   1.5   1.7   1.6   1.1   1.4   0.5   -2.1    0.9    1.3  \n",
       "12   1.6   1.5   2.3   2.5   2.4   3.0   1.8    0.9    2.7    7.6  \n",
       "13   0.5   3.1   2.7   3.4   2.8   0.6   1.6    2.0    2.0    6.1  \n",
       "14   NaN   NaN   NaN   NaN   NaN   NaN   NaN    NaN    NaN    NaN  \n",
       "15   NaN   NaN   NaN   NaN   NaN   NaN   NaN    NaN    NaN    NaN  \n",
       "16   NaN   NaN   NaN   NaN   NaN   NaN   NaN    NaN    NaN    NaN  "
      ]
     },
     "execution_count": 224,
     "metadata": {},
     "output_type": "execute_result"
    }
   ],
   "source": [
    "cpi=pd.read_csv('소비자물가지수 .csv')\n",
    "cpi"
   ]
  },
  {
   "cell_type": "code",
   "execution_count": 225,
   "id": "770fbd94",
   "metadata": {},
   "outputs": [
    {
     "data": {
      "text/html": [
       "<div>\n",
       "<style scoped>\n",
       "    .dataframe tbody tr th:only-of-type {\n",
       "        vertical-align: middle;\n",
       "    }\n",
       "\n",
       "    .dataframe tbody tr th {\n",
       "        vertical-align: top;\n",
       "    }\n",
       "\n",
       "    .dataframe thead th {\n",
       "        text-align: right;\n",
       "    }\n",
       "</style>\n",
       "<table border=\"1\" class=\"dataframe\">\n",
       "  <thead>\n",
       "    <tr style=\"text-align: right;\">\n",
       "      <th></th>\n",
       "      <th>2018</th>\n",
       "      <th>2019</th>\n",
       "      <th>2020</th>\n",
       "      <th>2021</th>\n",
       "      <th>2022</th>\n",
       "    </tr>\n",
       "  </thead>\n",
       "  <tbody>\n",
       "    <tr>\n",
       "      <th>0</th>\n",
       "      <td>99.1</td>\n",
       "      <td>99.5</td>\n",
       "      <td>100.0</td>\n",
       "      <td>102.5</td>\n",
       "      <td>107.7</td>\n",
       "    </tr>\n",
       "    <tr>\n",
       "      <th>1</th>\n",
       "      <td>1.5</td>\n",
       "      <td>0.4</td>\n",
       "      <td>0.5</td>\n",
       "      <td>2.5</td>\n",
       "      <td>5.1</td>\n",
       "    </tr>\n",
       "  </tbody>\n",
       "</table>\n",
       "</div>"
      ],
      "text/plain": [
       "   2018  2019   2020   2021   2022\n",
       "0  99.1  99.5  100.0  102.5  107.7\n",
       "1   1.5   0.4    0.5    2.5    5.1"
      ]
     },
     "execution_count": 225,
     "metadata": {},
     "output_type": "execute_result"
    }
   ],
   "source": [
    "cp1 = cpi.iloc[0:2, [7, 8, 9, 10, 11]]\n",
    "cp1"
   ]
  },
  {
   "cell_type": "code",
   "execution_count": 226,
   "id": "539a2e26",
   "metadata": {
    "scrolled": true
   },
   "outputs": [
    {
     "name": "stdout",
     "output_type": "stream",
     "text": [
      "2018     99.1\n",
      "2019     99.5\n",
      "2020    100.0\n",
      "2021    102.5\n",
      "2022    107.7\n",
      "Name: 0, dtype: float64\n",
      "2018    1.5\n",
      "2019    0.4\n",
      "2020    0.5\n",
      "2021    2.5\n",
      "2022    5.1\n",
      "Name: 1, dtype: float64\n"
     ]
    }
   ],
   "source": [
    "cpi_columns=cp1.columns\n",
    "first_row=cp1.iloc[0]\n",
    "print(first_row)\n",
    "second_row=cp1.iloc[1]\n",
    "print(second_row)"
   ]
  },
  {
   "cell_type": "code",
   "execution_count": 227,
   "id": "4da23e83",
   "metadata": {},
   "outputs": [
    {
     "data": {
      "text/html": [
       "<div>\n",
       "<style scoped>\n",
       "    .dataframe tbody tr th:only-of-type {\n",
       "        vertical-align: middle;\n",
       "    }\n",
       "\n",
       "    .dataframe tbody tr th {\n",
       "        vertical-align: top;\n",
       "    }\n",
       "\n",
       "    .dataframe thead th {\n",
       "        text-align: right;\n",
       "    }\n",
       "</style>\n",
       "<table border=\"1\" class=\"dataframe\">\n",
       "  <thead>\n",
       "    <tr style=\"text-align: right;\">\n",
       "      <th></th>\n",
       "      <th>2018</th>\n",
       "      <th>2019</th>\n",
       "      <th>2020</th>\n",
       "      <th>2021</th>\n",
       "      <th>2022</th>\n",
       "    </tr>\n",
       "  </thead>\n",
       "  <tbody>\n",
       "    <tr>\n",
       "      <th>소비자물가 총지수(2020=100)</th>\n",
       "      <td>99.1</td>\n",
       "      <td>99.5</td>\n",
       "      <td>100.0</td>\n",
       "      <td>102.5</td>\n",
       "      <td>107.7</td>\n",
       "    </tr>\n",
       "    <tr>\n",
       "      <th>소비자물가상승률(%)</th>\n",
       "      <td>1.5</td>\n",
       "      <td>0.4</td>\n",
       "      <td>0.5</td>\n",
       "      <td>2.5</td>\n",
       "      <td>5.1</td>\n",
       "    </tr>\n",
       "  </tbody>\n",
       "</table>\n",
       "</div>"
      ],
      "text/plain": [
       "                     2018  2019   2020   2021   2022\n",
       "소비자물가 총지수(2020=100)  99.1  99.5  100.0  102.5  107.7\n",
       "소비자물가상승률(%)           1.5   0.4    0.5    2.5    5.1"
      ]
     },
     "execution_count": 227,
     "metadata": {},
     "output_type": "execute_result"
    }
   ],
   "source": [
    "df_cpi = pd.DataFrame([first_row.values, second_row.values],index=[\"소비자물가 총지수(2020=100)\",\"소비자물가상승률(%)\"],columns=cp1.columns)\n",
    "df_cpi"
   ]
  },
  {
   "cell_type": "code",
   "execution_count": 233,
   "id": "56f1d527",
   "metadata": {},
   "outputs": [
    {
     "data": {
      "text/html": [
       "<div>\n",
       "<style scoped>\n",
       "    .dataframe tbody tr th:only-of-type {\n",
       "        vertical-align: middle;\n",
       "    }\n",
       "\n",
       "    .dataframe tbody tr th {\n",
       "        vertical-align: top;\n",
       "    }\n",
       "\n",
       "    .dataframe thead th {\n",
       "        text-align: right;\n",
       "    }\n",
       "</style>\n",
       "<table border=\"1\" class=\"dataframe\">\n",
       "  <thead>\n",
       "    <tr style=\"text-align: right;\">\n",
       "      <th></th>\n",
       "      <th>소비자물가 총지수(2020=100)</th>\n",
       "      <th>소비자물가상승률(%)</th>\n",
       "    </tr>\n",
       "    <tr>\n",
       "      <th>연도</th>\n",
       "      <th></th>\n",
       "      <th></th>\n",
       "    </tr>\n",
       "  </thead>\n",
       "  <tbody>\n",
       "    <tr>\n",
       "      <th>2018</th>\n",
       "      <td>99.1</td>\n",
       "      <td>1.5</td>\n",
       "    </tr>\n",
       "    <tr>\n",
       "      <th>2019</th>\n",
       "      <td>99.5</td>\n",
       "      <td>0.4</td>\n",
       "    </tr>\n",
       "    <tr>\n",
       "      <th>2020</th>\n",
       "      <td>100.0</td>\n",
       "      <td>0.5</td>\n",
       "    </tr>\n",
       "    <tr>\n",
       "      <th>2021</th>\n",
       "      <td>102.5</td>\n",
       "      <td>2.5</td>\n",
       "    </tr>\n",
       "    <tr>\n",
       "      <th>2022</th>\n",
       "      <td>107.7</td>\n",
       "      <td>5.1</td>\n",
       "    </tr>\n",
       "  </tbody>\n",
       "</table>\n",
       "</div>"
      ],
      "text/plain": [
       "      소비자물가 총지수(2020=100)  소비자물가상승률(%)\n",
       "연도                                    \n",
       "2018                 99.1          1.5\n",
       "2019                 99.5          0.4\n",
       "2020                100.0          0.5\n",
       "2021                102.5          2.5\n",
       "2022                107.7          5.1"
      ]
     },
     "execution_count": 233,
     "metadata": {},
     "output_type": "execute_result"
    }
   ],
   "source": [
    "df_cpi.columns.name='연도'\n",
    "dfcpi=df_cpi.transpose()\n",
    "dfcpi"
   ]
  },
  {
   "cell_type": "code",
   "execution_count": 234,
   "id": "6328c850",
   "metadata": {
    "scrolled": true
   },
   "outputs": [
    {
     "data": {
      "text/html": [
       "<div>\n",
       "<style scoped>\n",
       "    .dataframe tbody tr th:only-of-type {\n",
       "        vertical-align: middle;\n",
       "    }\n",
       "\n",
       "    .dataframe tbody tr th {\n",
       "        vertical-align: top;\n",
       "    }\n",
       "\n",
       "    .dataframe thead th {\n",
       "        text-align: right;\n",
       "    }\n",
       "</style>\n",
       "<table border=\"1\" class=\"dataframe\">\n",
       "  <thead>\n",
       "    <tr style=\"text-align: right;\">\n",
       "      <th></th>\n",
       "      <th>사기</th>\n",
       "      <th>전자금융거래법위반</th>\n",
       "      <th>횡령</th>\n",
       "      <th>도박범죄</th>\n",
       "      <th>소비자물가 총지수(2020=100)</th>\n",
       "      <th>소비자물가상승률(%)</th>\n",
       "    </tr>\n",
       "    <tr>\n",
       "      <th>연도</th>\n",
       "      <th></th>\n",
       "      <th></th>\n",
       "      <th></th>\n",
       "      <th></th>\n",
       "      <th></th>\n",
       "      <th></th>\n",
       "    </tr>\n",
       "  </thead>\n",
       "  <tbody>\n",
       "    <tr>\n",
       "      <th>2018</th>\n",
       "      <td>270029</td>\n",
       "      <td>7877</td>\n",
       "      <td>55113</td>\n",
       "      <td>6004</td>\n",
       "      <td>99.1</td>\n",
       "      <td>1.5</td>\n",
       "    </tr>\n",
       "    <tr>\n",
       "      <th>2019</th>\n",
       "      <td>304472</td>\n",
       "      <td>8132</td>\n",
       "      <td>58508</td>\n",
       "      <td>8008</td>\n",
       "      <td>99.5</td>\n",
       "      <td>0.4</td>\n",
       "    </tr>\n",
       "    <tr>\n",
       "      <th>2020</th>\n",
       "      <td>347675</td>\n",
       "      <td>6402</td>\n",
       "      <td>58889</td>\n",
       "      <td>8135</td>\n",
       "      <td>100.0</td>\n",
       "      <td>0.5</td>\n",
       "    </tr>\n",
       "    <tr>\n",
       "      <th>2021</th>\n",
       "      <td>294075</td>\n",
       "      <td>7024</td>\n",
       "      <td>50421</td>\n",
       "      <td>6391</td>\n",
       "      <td>102.5</td>\n",
       "      <td>2.5</td>\n",
       "    </tr>\n",
       "    <tr>\n",
       "      <th>2022</th>\n",
       "      <td>325848</td>\n",
       "      <td>9731</td>\n",
       "      <td>60220</td>\n",
       "      <td>4463</td>\n",
       "      <td>107.7</td>\n",
       "      <td>5.1</td>\n",
       "    </tr>\n",
       "  </tbody>\n",
       "</table>\n",
       "</div>"
      ],
      "text/plain": [
       "          사기  전자금융거래법위반     횡령  도박범죄  소비자물가 총지수(2020=100)  소비자물가상승률(%)\n",
       "연도                                                                    \n",
       "2018  270029       7877  55113  6004                 99.1          1.5\n",
       "2019  304472       8132  58508  8008                 99.5          0.4\n",
       "2020  347675       6402  58889  8135                100.0          0.5\n",
       "2021  294075       7024  50421  6391                102.5          2.5\n",
       "2022  325848       9731  60220  4463                107.7          5.1"
      ]
     },
     "execution_count": 234,
     "metadata": {},
     "output_type": "execute_result"
    }
   ],
   "source": [
    "finaldf = pd.concat([df, dfcpi], axis=1)\n",
    "finaldf"
   ]
  },
  {
   "cell_type": "code",
   "execution_count": 236,
   "id": "814910da",
   "metadata": {
    "scrolled": true
   },
   "outputs": [
    {
     "name": "stdout",
     "output_type": "stream",
     "text": [
      "<class 'pandas.core.frame.DataFrame'>\n",
      "Index: 5 entries, 2018 to 2022\n",
      "Data columns (total 6 columns):\n",
      " #   Column               Non-Null Count  Dtype  \n",
      "---  ------               --------------  -----  \n",
      " 0   사기                   5 non-null      int64  \n",
      " 1   전자금융거래법위반            5 non-null      int64  \n",
      " 2   횡령                   5 non-null      int64  \n",
      " 3   도박범죄                 5 non-null      int64  \n",
      " 4   소비자물가 총지수(2020=100)  5 non-null      float64\n",
      " 5   소비자물가상승률(%)          5 non-null      float64\n",
      "dtypes: float64(2), int64(4)\n",
      "memory usage: 280.0+ bytes\n"
     ]
    }
   ],
   "source": [
    "finaldf.info()"
   ]
  },
  {
   "cell_type": "code",
   "execution_count": 240,
   "id": "2141680a",
   "metadata": {},
   "outputs": [
    {
     "data": {
      "text/html": [
       "<div>\n",
       "<style scoped>\n",
       "    .dataframe tbody tr th:only-of-type {\n",
       "        vertical-align: middle;\n",
       "    }\n",
       "\n",
       "    .dataframe tbody tr th {\n",
       "        vertical-align: top;\n",
       "    }\n",
       "\n",
       "    .dataframe thead th {\n",
       "        text-align: right;\n",
       "    }\n",
       "</style>\n",
       "<table border=\"1\" class=\"dataframe\">\n",
       "  <thead>\n",
       "    <tr style=\"text-align: right;\">\n",
       "      <th></th>\n",
       "      <th>사기</th>\n",
       "      <th>전자금융거래법위반</th>\n",
       "      <th>횡령</th>\n",
       "      <th>도박범죄</th>\n",
       "      <th>소비자물가 총지수(2020=100)</th>\n",
       "      <th>소비자물가상승률(%)</th>\n",
       "    </tr>\n",
       "    <tr>\n",
       "      <th>연도</th>\n",
       "      <th></th>\n",
       "      <th></th>\n",
       "      <th></th>\n",
       "      <th></th>\n",
       "      <th></th>\n",
       "      <th></th>\n",
       "    </tr>\n",
       "  </thead>\n",
       "  <tbody>\n",
       "    <tr>\n",
       "      <th>2018</th>\n",
       "      <td>False</td>\n",
       "      <td>False</td>\n",
       "      <td>False</td>\n",
       "      <td>False</td>\n",
       "      <td>False</td>\n",
       "      <td>False</td>\n",
       "    </tr>\n",
       "    <tr>\n",
       "      <th>2019</th>\n",
       "      <td>False</td>\n",
       "      <td>False</td>\n",
       "      <td>False</td>\n",
       "      <td>False</td>\n",
       "      <td>False</td>\n",
       "      <td>False</td>\n",
       "    </tr>\n",
       "    <tr>\n",
       "      <th>2020</th>\n",
       "      <td>False</td>\n",
       "      <td>False</td>\n",
       "      <td>False</td>\n",
       "      <td>False</td>\n",
       "      <td>False</td>\n",
       "      <td>False</td>\n",
       "    </tr>\n",
       "    <tr>\n",
       "      <th>2021</th>\n",
       "      <td>False</td>\n",
       "      <td>False</td>\n",
       "      <td>False</td>\n",
       "      <td>False</td>\n",
       "      <td>False</td>\n",
       "      <td>False</td>\n",
       "    </tr>\n",
       "    <tr>\n",
       "      <th>2022</th>\n",
       "      <td>False</td>\n",
       "      <td>False</td>\n",
       "      <td>False</td>\n",
       "      <td>False</td>\n",
       "      <td>False</td>\n",
       "      <td>False</td>\n",
       "    </tr>\n",
       "  </tbody>\n",
       "</table>\n",
       "</div>"
      ],
      "text/plain": [
       "         사기  전자금융거래법위반     횡령   도박범죄  소비자물가 총지수(2020=100)  소비자물가상승률(%)\n",
       "연도                                                                    \n",
       "2018  False      False  False  False                False        False\n",
       "2019  False      False  False  False                False        False\n",
       "2020  False      False  False  False                False        False\n",
       "2021  False      False  False  False                False        False\n",
       "2022  False      False  False  False                False        False"
      ]
     },
     "execution_count": 240,
     "metadata": {},
     "output_type": "execute_result"
    }
   ],
   "source": [
    "finaldf.isnull()"
   ]
  },
  {
   "cell_type": "code",
   "execution_count": 245,
   "id": "0ddadeff",
   "metadata": {},
   "outputs": [
    {
     "data": {
      "text/plain": [
       "사기                     0\n",
       "전자금융거래법위반              0\n",
       "횡령                     0\n",
       "도박범죄                   0\n",
       "소비자물가 총지수(2020=100)    0\n",
       "소비자물가상승률(%)            0\n",
       "dtype: int64"
      ]
     },
     "execution_count": 245,
     "metadata": {},
     "output_type": "execute_result"
    }
   ],
   "source": [
    "finaldf.isnull().sum()"
   ]
  },
  {
   "cell_type": "code",
   "execution_count": 247,
   "id": "eb957241",
   "metadata": {},
   "outputs": [
    {
     "data": {
      "text/html": [
       "<div>\n",
       "<style scoped>\n",
       "    .dataframe tbody tr th:only-of-type {\n",
       "        vertical-align: middle;\n",
       "    }\n",
       "\n",
       "    .dataframe tbody tr th {\n",
       "        vertical-align: top;\n",
       "    }\n",
       "\n",
       "    .dataframe thead th {\n",
       "        text-align: right;\n",
       "    }\n",
       "</style>\n",
       "<table border=\"1\" class=\"dataframe\">\n",
       "  <thead>\n",
       "    <tr style=\"text-align: right;\">\n",
       "      <th></th>\n",
       "      <th>사기</th>\n",
       "      <th>전자금융거래법위반</th>\n",
       "      <th>횡령</th>\n",
       "      <th>도박범죄</th>\n",
       "      <th>소비자물가 총지수(2020=100)</th>\n",
       "      <th>소비자물가상승률(%)</th>\n",
       "    </tr>\n",
       "  </thead>\n",
       "  <tbody>\n",
       "    <tr>\n",
       "      <th>count</th>\n",
       "      <td>5.000000</td>\n",
       "      <td>5.000000</td>\n",
       "      <td>5.000000</td>\n",
       "      <td>5.000000</td>\n",
       "      <td>5.000000</td>\n",
       "      <td>5.000000</td>\n",
       "    </tr>\n",
       "    <tr>\n",
       "      <th>mean</th>\n",
       "      <td>308419.800000</td>\n",
       "      <td>7833.200000</td>\n",
       "      <td>56630.200000</td>\n",
       "      <td>6600.200000</td>\n",
       "      <td>101.760000</td>\n",
       "      <td>2.000000</td>\n",
       "    </tr>\n",
       "    <tr>\n",
       "      <th>std</th>\n",
       "      <td>29748.633661</td>\n",
       "      <td>1264.514017</td>\n",
       "      <td>3948.766732</td>\n",
       "      <td>1525.152025</td>\n",
       "      <td>3.574633</td>\n",
       "      <td>1.931321</td>\n",
       "    </tr>\n",
       "    <tr>\n",
       "      <th>min</th>\n",
       "      <td>270029.000000</td>\n",
       "      <td>6402.000000</td>\n",
       "      <td>50421.000000</td>\n",
       "      <td>4463.000000</td>\n",
       "      <td>99.100000</td>\n",
       "      <td>0.400000</td>\n",
       "    </tr>\n",
       "    <tr>\n",
       "      <th>25%</th>\n",
       "      <td>294075.000000</td>\n",
       "      <td>7024.000000</td>\n",
       "      <td>55113.000000</td>\n",
       "      <td>6004.000000</td>\n",
       "      <td>99.500000</td>\n",
       "      <td>0.500000</td>\n",
       "    </tr>\n",
       "    <tr>\n",
       "      <th>50%</th>\n",
       "      <td>304472.000000</td>\n",
       "      <td>7877.000000</td>\n",
       "      <td>58508.000000</td>\n",
       "      <td>6391.000000</td>\n",
       "      <td>100.000000</td>\n",
       "      <td>1.500000</td>\n",
       "    </tr>\n",
       "    <tr>\n",
       "      <th>75%</th>\n",
       "      <td>325848.000000</td>\n",
       "      <td>8132.000000</td>\n",
       "      <td>58889.000000</td>\n",
       "      <td>8008.000000</td>\n",
       "      <td>102.500000</td>\n",
       "      <td>2.500000</td>\n",
       "    </tr>\n",
       "    <tr>\n",
       "      <th>max</th>\n",
       "      <td>347675.000000</td>\n",
       "      <td>9731.000000</td>\n",
       "      <td>60220.000000</td>\n",
       "      <td>8135.000000</td>\n",
       "      <td>107.700000</td>\n",
       "      <td>5.100000</td>\n",
       "    </tr>\n",
       "  </tbody>\n",
       "</table>\n",
       "</div>"
      ],
      "text/plain": [
       "                  사기    전자금융거래법위반            횡령         도박범죄  \\\n",
       "count       5.000000     5.000000      5.000000     5.000000   \n",
       "mean   308419.800000  7833.200000  56630.200000  6600.200000   \n",
       "std     29748.633661  1264.514017   3948.766732  1525.152025   \n",
       "min    270029.000000  6402.000000  50421.000000  4463.000000   \n",
       "25%    294075.000000  7024.000000  55113.000000  6004.000000   \n",
       "50%    304472.000000  7877.000000  58508.000000  6391.000000   \n",
       "75%    325848.000000  8132.000000  58889.000000  8008.000000   \n",
       "max    347675.000000  9731.000000  60220.000000  8135.000000   \n",
       "\n",
       "       소비자물가 총지수(2020=100)  소비자물가상승률(%)  \n",
       "count             5.000000     5.000000  \n",
       "mean            101.760000     2.000000  \n",
       "std               3.574633     1.931321  \n",
       "min              99.100000     0.400000  \n",
       "25%              99.500000     0.500000  \n",
       "50%             100.000000     1.500000  \n",
       "75%             102.500000     2.500000  \n",
       "max             107.700000     5.100000  "
      ]
     },
     "execution_count": 247,
     "metadata": {},
     "output_type": "execute_result"
    }
   ],
   "source": [
    "finaldf.describe()"
   ]
  },
  {
   "cell_type": "code",
   "execution_count": 248,
   "id": "68333103",
   "metadata": {},
   "outputs": [
    {
     "data": {
      "text/html": [
       "<div>\n",
       "<style scoped>\n",
       "    .dataframe tbody tr th:only-of-type {\n",
       "        vertical-align: middle;\n",
       "    }\n",
       "\n",
       "    .dataframe tbody tr th {\n",
       "        vertical-align: top;\n",
       "    }\n",
       "\n",
       "    .dataframe thead th {\n",
       "        text-align: right;\n",
       "    }\n",
       "</style>\n",
       "<table border=\"1\" class=\"dataframe\">\n",
       "  <thead>\n",
       "    <tr style=\"text-align: right;\">\n",
       "      <th></th>\n",
       "      <th>사기</th>\n",
       "      <th>전자금융거래법위반</th>\n",
       "      <th>횡령</th>\n",
       "      <th>도박범죄</th>\n",
       "      <th>소비자물가 총지수(2020=100)</th>\n",
       "      <th>소비자물가상승률(%)</th>\n",
       "    </tr>\n",
       "  </thead>\n",
       "  <tbody>\n",
       "    <tr>\n",
       "      <th>사기</th>\n",
       "      <td>1.000000</td>\n",
       "      <td>-0.095435</td>\n",
       "      <td>0.619595</td>\n",
       "      <td>0.238770</td>\n",
       "      <td>0.317050</td>\n",
       "      <td>0.058673</td>\n",
       "    </tr>\n",
       "    <tr>\n",
       "      <th>전자금융거래법위반</th>\n",
       "      <td>-0.095435</td>\n",
       "      <td>1.000000</td>\n",
       "      <td>0.455565</td>\n",
       "      <td>-0.737430</td>\n",
       "      <td>0.685883</td>\n",
       "      <td>0.729409</td>\n",
       "    </tr>\n",
       "    <tr>\n",
       "      <th>횡령</th>\n",
       "      <td>0.619595</td>\n",
       "      <td>0.455565</td>\n",
       "      <td>1.000000</td>\n",
       "      <td>0.026641</td>\n",
       "      <td>0.222187</td>\n",
       "      <td>0.078337</td>\n",
       "    </tr>\n",
       "    <tr>\n",
       "      <th>도박범죄</th>\n",
       "      <td>0.238770</td>\n",
       "      <td>-0.737430</td>\n",
       "      <td>0.026641</td>\n",
       "      <td>1.000000</td>\n",
       "      <td>-0.786280</td>\n",
       "      <td>-0.932463</td>\n",
       "    </tr>\n",
       "    <tr>\n",
       "      <th>소비자물가 총지수(2020=100)</th>\n",
       "      <td>0.317050</td>\n",
       "      <td>0.685883</td>\n",
       "      <td>0.222187</td>\n",
       "      <td>-0.786280</td>\n",
       "      <td>1.000000</td>\n",
       "      <td>0.954914</td>\n",
       "    </tr>\n",
       "    <tr>\n",
       "      <th>소비자물가상승률(%)</th>\n",
       "      <td>0.058673</td>\n",
       "      <td>0.729409</td>\n",
       "      <td>0.078337</td>\n",
       "      <td>-0.932463</td>\n",
       "      <td>0.954914</td>\n",
       "      <td>1.000000</td>\n",
       "    </tr>\n",
       "  </tbody>\n",
       "</table>\n",
       "</div>"
      ],
      "text/plain": [
       "                           사기  전자금융거래법위반        횡령      도박범죄  \\\n",
       "사기                   1.000000  -0.095435  0.619595  0.238770   \n",
       "전자금융거래법위반           -0.095435   1.000000  0.455565 -0.737430   \n",
       "횡령                   0.619595   0.455565  1.000000  0.026641   \n",
       "도박범죄                 0.238770  -0.737430  0.026641  1.000000   \n",
       "소비자물가 총지수(2020=100)  0.317050   0.685883  0.222187 -0.786280   \n",
       "소비자물가상승률(%)          0.058673   0.729409  0.078337 -0.932463   \n",
       "\n",
       "                     소비자물가 총지수(2020=100)  소비자물가상승률(%)  \n",
       "사기                              0.317050     0.058673  \n",
       "전자금융거래법위반                       0.685883     0.729409  \n",
       "횡령                              0.222187     0.078337  \n",
       "도박범죄                           -0.786280    -0.932463  \n",
       "소비자물가 총지수(2020=100)             1.000000     0.954914  \n",
       "소비자물가상승률(%)                     0.954914     1.000000  "
      ]
     },
     "execution_count": 248,
     "metadata": {},
     "output_type": "execute_result"
    }
   ],
   "source": [
    "finaldf.corr(method='pearson')"
   ]
  },
  {
   "cell_type": "code",
   "execution_count": 250,
   "id": "8068e23a",
   "metadata": {},
   "outputs": [
    {
     "data": {
      "text/plain": [
       "<Axes: xlabel='소비자물가상승률(%)', ylabel='사기'>"
      ]
     },
     "execution_count": 250,
     "metadata": {},
     "output_type": "execute_result"
    },
    {
     "data": {
      "image/png": "[encoded data removed]",
      "text/plain": [
       "<Figure size 640x480 with 1 Axes>"
      ]
     },
     "metadata": {},
     "output_type": "display_data"
    }
   ],
   "source": [
    "finaldf.plot(kind='scatter', x='소비자물가상승률(%)', y='사기')"
   ]
  },
  {
   "cell_type": "code",
   "execution_count": 251,
   "id": "b844452d",
   "metadata": {},
   "outputs": [
    {
     "data": {
      "text/plain": [
       "<Axes: xlabel='소비자물가 총지수(2020=100)', ylabel='사기'>"
      ]
     },
     "execution_count": 251,
     "metadata": {},
     "output_type": "execute_result"
    },
    {
     "data": {
      "image/png": "[encoded data removed]",
      "text/plain": [
       "<Figure size 640x480 with 1 Axes>"
      ]
     },
     "metadata": {},
     "output_type": "display_data"
    }
   ],
   "source": [
    "finaldf.plot(kind='scatter', x='소비자물가 총지수(2020=100)', y='사기')"
   ]
  },
  {
   "cell_type": "code",
   "execution_count": 252,
   "id": "00bf006b",
   "metadata": {},
   "outputs": [
    {
     "data": {
      "text/plain": [
       "<Axes: xlabel='소비자물가상승률(%)', ylabel='전자금융거래법위반'>"
      ]
     },
     "execution_count": 252,
     "metadata": {},
     "output_type": "execute_result"
    },
    {
     "data": {
      "image/png": "[encoded data removed]",
      "text/plain": [
       "<Figure size 640x480 with 1 Axes>"
      ]
     },
     "metadata": {},
     "output_type": "display_data"
    }
   ],
   "source": [
    "finaldf.plot(kind='scatter', x='소비자물가상승률(%)', y='전자금융거래법위반')"
   ]
  },
  {
   "cell_type": "code",
   "execution_count": 253,
   "id": "c0d8d0ed",
   "metadata": {},
   "outputs": [
    {
     "data": {
      "text/plain": [
       "<Axes: xlabel='소비자물가 총지수(2020=100)', ylabel='전자금융거래법위반'>"
      ]
     },
     "execution_count": 253,
     "metadata": {},
     "output_type": "execute_result"
    },
    {
     "data": {
      "image/png": "[encoded data removed]",
      "text/plain": [
       "<Figure size 640x480 with 1 Axes>"
      ]
     },
     "metadata": {},
     "output_type": "display_data"
    }
   ],
   "source": [
    "finaldf.plot(kind='scatter', x='소비자물가 총지수(2020=100)', y='전자금융거래법위반')"
   ]
  },
  {
   "cell_type": "code",
   "execution_count": 254,
   "id": "469d5850",
   "metadata": {},
   "outputs": [
    {
     "data": {
      "text/plain": [
       "<Axes: xlabel='소비자물가상승률(%)', ylabel='횡령'>"
      ]
     },
     "execution_count": 254,
     "metadata": {},
     "output_type": "execute_result"
    },
    {
     "data": {
      "image/png": "[encoded data removed]",
      "text/plain": [
       "<Figure size 640x480 with 1 Axes>"
      ]
     },
     "metadata": {},
     "output_type": "display_data"
    }
   ],
   "source": [
    "finaldf.plot(kind='scatter', x='소비자물가상승률(%)', y='횡령')"
   ]
  },
  {
   "cell_type": "code",
   "execution_count": 255,
   "id": "d6e5d9c6",
   "metadata": {},
   "outputs": [
    {
     "data": {
      "text/plain": [
       "<Axes: xlabel='소비자물가 총지수(2020=100)', ylabel='횡령'>"
      ]
     },
     "execution_count": 255,
     "metadata": {},
     "output_type": "execute_result"
    },
    {
     "data": {
      "image/png": "[encoded data removed]",
      "text/plain": [
       "<Figure size 640x480 with 1 Axes>"
      ]
     },
     "metadata": {},
     "output_type": "display_data"
    }
   ],
   "source": [
    "finaldf.plot(kind='scatter', x='소비자물가 총지수(2020=100)', y='횡령')"
   ]
  },
  {
   "cell_type": "code",
   "execution_count": 256,
   "id": "7231640a",
   "metadata": {},
   "outputs": [
    {
     "data": {
      "text/plain": [
       "<Axes: xlabel='소비자물가상승률(%)', ylabel='도박범죄'>"
      ]
     },
     "execution_count": 256,
     "metadata": {},
     "output_type": "execute_result"
    },
    {
     "data": {
      "image/png": "[encoded data removed]",
      "text/plain": [
       "<Figure size 640x480 with 1 Axes>"
      ]
     },
     "metadata": {},
     "output_type": "display_data"
    }
   ],
   "source": [
    "finaldf.plot(kind='scatter', x='소비자물가상승률(%)', y='도박범죄')"
   ]
  },
  {
   "cell_type": "code",
   "execution_count": 257,
   "id": "7ca5bbb1",
   "metadata": {},
   "outputs": [
    {
     "data": {
      "text/plain": [
       "<Axes: xlabel='소비자물가 총지수(2020=100)', ylabel='도박범죄'>"
      ]
     },
     "execution_count": 257,
     "metadata": {},
     "output_type": "execute_result"
    },
    {
     "data": {
      "image/png": "[encoded data removed]",
      "text/plain": [
       "<Figure size 640x480 with 1 Axes>"
      ]
     },
     "metadata": {},
     "output_type": "display_data"
    }
   ],
   "source": [
    "finaldf.plot(kind='scatter', x='소비자물가 총지수(2020=100)', y='도박범죄')"
   ]
  }
 ],
 "metadata": {
  "kernelspec": {
   "display_name": "Python 3 (ipykernel)",
   "language": "python",
   "name": "python3"
  },
  "language_info": {
   "codemirror_mode": {
    "name": "ipython",
    "version": 3
   },
   "file_extension": ".py",
   "mimetype": "text/x-python",
   "name": "python",
   "nbconvert_exporter": "python",
   "pygments_lexer": "ipython3",
   "version": "3.11.4"
  }
 },
 "nbformat": 4,
 "nbformat_minor": 5
}
